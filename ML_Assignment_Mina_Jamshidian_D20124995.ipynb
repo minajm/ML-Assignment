{
 "cells": [
  {
   "cell_type": "markdown",
   "id": "61d198bc",
   "metadata": {},
   "source": [
    "# Details: Mina Jamshidian D20124995"
   ]
  },
  {
   "cell_type": "markdown",
   "id": "7f9012cb",
   "metadata": {},
   "source": [
    "Machine Learning Assignment\n",
    "https://www.kaggle.com/c/h-and-m-personalized-fashion-recommendations"
   ]
  },
  {
   "cell_type": "markdown",
   "id": "925c34e5",
   "metadata": {},
   "source": [
    "# Packages and Importing Data"
   ]
  },
  {
   "cell_type": "code",
   "execution_count": 1,
   "id": "a483ce56",
   "metadata": {
    "ExecuteTime": {
     "end_time": "2022-04-13T15:19:29.453380Z",
     "start_time": "2022-04-13T15:19:28.127180Z"
    },
    "_cell_guid": "b1076dfc-b9ad-4769-8c92-a6c4dae69d19",
    "_uuid": "8f2839f25d086af736a60e9eeb907d3b93b6e0e5",
    "execution": {
     "iopub.execute_input": "2022-03-30T04:56:19.722115Z",
     "iopub.status.busy": "2022-03-30T04:56:19.721257Z",
     "iopub.status.idle": "2022-03-30T04:56:19.727795Z",
     "shell.execute_reply": "2022-03-30T04:56:19.728183Z",
     "shell.execute_reply.started": "2022-03-30T03:54:07.820112Z"
    },
    "papermill": {
     "duration": 0.057937,
     "end_time": "2022-03-30T04:56:19.728428",
     "exception": false,
     "start_time": "2022-03-30T04:56:19.670491",
     "status": "completed"
    },
    "tags": []
   },
   "outputs": [],
   "source": [
    "import pandas as pd\n",
    "import numpy as np\n",
    "import seaborn as sns\n",
    "import seaborn as sns\n",
    "import matplotlib as mpl\n",
    "import time\n",
    "\n",
    "from matplotlib import pyplot as plt"
   ]
  },
  {
   "cell_type": "code",
   "execution_count": 2,
   "id": "c085469e",
   "metadata": {
    "execution": {
     "iopub.execute_input": "2022-03-30T04:56:19.827144Z",
     "iopub.status.busy": "2022-03-30T04:56:19.826497Z",
     "iopub.status.idle": "2022-03-30T04:56:19.829196Z",
     "shell.execute_reply": "2022-03-30T04:56:19.829771Z",
     "shell.execute_reply.started": "2022-03-30T03:54:14.861198Z"
    },
    "papermill": {
     "duration": 0.053941,
     "end_time": "2022-03-30T04:56:19.829999",
     "exception": false,
     "start_time": "2022-03-30T04:56:19.776058",
     "status": "completed"
    },
    "tags": []
   },
   "outputs": [],
   "source": [
    "import warnings\n",
    "warnings.filterwarnings(\"ignore\")"
   ]
  },
  {
   "cell_type": "code",
   "execution_count": 3,
   "id": "0883bb7c",
   "metadata": {
    "ExecuteTime": {
     "end_time": "2022-04-13T15:20:00.083077Z",
     "start_time": "2022-04-13T15:20:00.074493Z"
    }
   },
   "outputs": [],
   "source": [
    "# Set Matplotlib options\n",
    "%matplotlib inline\n",
    "\n",
    "mpl.rcParams['figure.figsize'] = (20, 5)\n",
    "mpl.rcParams['axes.grid'] = False"
   ]
  },
  {
   "cell_type": "code",
   "execution_count": 4,
   "id": "2adaffb2",
   "metadata": {
    "ExecuteTime": {
     "end_time": "2022-04-13T15:22:03.401781Z",
     "start_time": "2022-04-13T15:22:03.396702Z"
    }
   },
   "outputs": [],
   "source": [
    "articles_main = pd.read_csv(\"../input/articles.csv\", on_bad_lines='skip')\n",
    "customers_main = pd.read_csv(\"../input/customers.csv\", on_bad_lines='skip')\n",
    "train_main = pd.read_csv(\"../input/transactions_train.csv\", on_bad_lines='skip')"
   ]
  },
  {
   "cell_type": "code",
   "execution_count": 5,
   "id": "1970dccf",
   "metadata": {},
   "outputs": [],
   "source": [
    "articles = articles_main.copy()"
   ]
  },
  {
   "cell_type": "code",
   "execution_count": 6,
   "id": "f51890db",
   "metadata": {},
   "outputs": [],
   "source": [
    "customers = customers_main.copy()"
   ]
  },
  {
   "cell_type": "code",
   "execution_count": 7,
   "id": "579802b2",
   "metadata": {},
   "outputs": [],
   "source": [
    "transactions = train_main.copy()"
   ]
  },
  {
   "cell_type": "markdown",
   "id": "ab7f8b16",
   "metadata": {},
   "source": [
    "# Data Prepration"
   ]
  },
  {
   "cell_type": "markdown",
   "id": "7765767a",
   "metadata": {},
   "source": [
    "## Articles"
   ]
  },
  {
   "cell_type": "code",
   "execution_count": 8,
   "id": "4690b7e5",
   "metadata": {},
   "outputs": [
    {
     "data": {
      "text/html": [
       "<div>\n",
       "<style scoped>\n",
       "    .dataframe tbody tr th:only-of-type {\n",
       "        vertical-align: middle;\n",
       "    }\n",
       "\n",
       "    .dataframe tbody tr th {\n",
       "        vertical-align: top;\n",
       "    }\n",
       "\n",
       "    .dataframe thead th {\n",
       "        text-align: right;\n",
       "    }\n",
       "</style>\n",
       "<table border=\"1\" class=\"dataframe\">\n",
       "  <thead>\n",
       "    <tr style=\"text-align: right;\">\n",
       "      <th></th>\n",
       "      <th>article_id</th>\n",
       "      <th>product_code</th>\n",
       "      <th>prod_name</th>\n",
       "      <th>product_type_no</th>\n",
       "      <th>product_type_name</th>\n",
       "      <th>product_group_name</th>\n",
       "      <th>graphical_appearance_no</th>\n",
       "      <th>graphical_appearance_name</th>\n",
       "      <th>colour_group_code</th>\n",
       "      <th>colour_group_name</th>\n",
       "      <th>...</th>\n",
       "      <th>department_name</th>\n",
       "      <th>index_code</th>\n",
       "      <th>index_name</th>\n",
       "      <th>index_group_no</th>\n",
       "      <th>index_group_name</th>\n",
       "      <th>section_no</th>\n",
       "      <th>section_name</th>\n",
       "      <th>garment_group_no</th>\n",
       "      <th>garment_group_name</th>\n",
       "      <th>detail_desc</th>\n",
       "    </tr>\n",
       "  </thead>\n",
       "  <tbody>\n",
       "    <tr>\n",
       "      <th>0</th>\n",
       "      <td>108775015</td>\n",
       "      <td>108775</td>\n",
       "      <td>Strap top</td>\n",
       "      <td>253</td>\n",
       "      <td>Vest top</td>\n",
       "      <td>Garment Upper body</td>\n",
       "      <td>1010016</td>\n",
       "      <td>Solid</td>\n",
       "      <td>9</td>\n",
       "      <td>Black</td>\n",
       "      <td>...</td>\n",
       "      <td>Jersey Basic</td>\n",
       "      <td>A</td>\n",
       "      <td>Ladieswear</td>\n",
       "      <td>1</td>\n",
       "      <td>Ladieswear</td>\n",
       "      <td>16</td>\n",
       "      <td>Womens Everyday Basics</td>\n",
       "      <td>1002</td>\n",
       "      <td>Jersey Basic</td>\n",
       "      <td>Jersey top with narrow shoulder straps.</td>\n",
       "    </tr>\n",
       "    <tr>\n",
       "      <th>1</th>\n",
       "      <td>108775044</td>\n",
       "      <td>108775</td>\n",
       "      <td>Strap top</td>\n",
       "      <td>253</td>\n",
       "      <td>Vest top</td>\n",
       "      <td>Garment Upper body</td>\n",
       "      <td>1010016</td>\n",
       "      <td>Solid</td>\n",
       "      <td>10</td>\n",
       "      <td>White</td>\n",
       "      <td>...</td>\n",
       "      <td>Jersey Basic</td>\n",
       "      <td>A</td>\n",
       "      <td>Ladieswear</td>\n",
       "      <td>1</td>\n",
       "      <td>Ladieswear</td>\n",
       "      <td>16</td>\n",
       "      <td>Womens Everyday Basics</td>\n",
       "      <td>1002</td>\n",
       "      <td>Jersey Basic</td>\n",
       "      <td>Jersey top with narrow shoulder straps.</td>\n",
       "    </tr>\n",
       "  </tbody>\n",
       "</table>\n",
       "<p>2 rows × 25 columns</p>\n",
       "</div>"
      ],
      "text/plain": [
       "   article_id  product_code  prod_name  product_type_no product_type_name  \\\n",
       "0   108775015        108775  Strap top              253          Vest top   \n",
       "1   108775044        108775  Strap top              253          Vest top   \n",
       "\n",
       "   product_group_name  graphical_appearance_no graphical_appearance_name  \\\n",
       "0  Garment Upper body                  1010016                     Solid   \n",
       "1  Garment Upper body                  1010016                     Solid   \n",
       "\n",
       "   colour_group_code colour_group_name  ...  department_name index_code  \\\n",
       "0                  9             Black  ...     Jersey Basic          A   \n",
       "1                 10             White  ...     Jersey Basic          A   \n",
       "\n",
       "   index_name index_group_no  index_group_name section_no  \\\n",
       "0  Ladieswear              1        Ladieswear         16   \n",
       "1  Ladieswear              1        Ladieswear         16   \n",
       "\n",
       "             section_name garment_group_no  garment_group_name  \\\n",
       "0  Womens Everyday Basics             1002        Jersey Basic   \n",
       "1  Womens Everyday Basics             1002        Jersey Basic   \n",
       "\n",
       "                               detail_desc  \n",
       "0  Jersey top with narrow shoulder straps.  \n",
       "1  Jersey top with narrow shoulder straps.  \n",
       "\n",
       "[2 rows x 25 columns]"
      ]
     },
     "execution_count": 8,
     "metadata": {},
     "output_type": "execute_result"
    }
   ],
   "source": [
    "articles.head(2)"
   ]
  },
  {
   "cell_type": "code",
   "execution_count": 9,
   "id": "00f90eeb",
   "metadata": {},
   "outputs": [
    {
     "data": {
      "text/plain": [
       "(105542, 25)"
      ]
     },
     "execution_count": 9,
     "metadata": {},
     "output_type": "execute_result"
    }
   ],
   "source": [
    "articles.shape"
   ]
  },
  {
   "cell_type": "code",
   "execution_count": 10,
   "id": "c1066d30",
   "metadata": {},
   "outputs": [
    {
     "name": "stdout",
     "output_type": "stream",
     "text": [
      "<class 'pandas.core.frame.DataFrame'>\n",
      "RangeIndex: 105542 entries, 0 to 105541\n",
      "Data columns (total 25 columns):\n",
      " #   Column                        Non-Null Count   Dtype \n",
      "---  ------                        --------------   ----- \n",
      " 0   article_id                    105542 non-null  int64 \n",
      " 1   product_code                  105542 non-null  int64 \n",
      " 2   prod_name                     105542 non-null  object\n",
      " 3   product_type_no               105542 non-null  int64 \n",
      " 4   product_type_name             105542 non-null  object\n",
      " 5   product_group_name            105542 non-null  object\n",
      " 6   graphical_appearance_no       105542 non-null  int64 \n",
      " 7   graphical_appearance_name     105542 non-null  object\n",
      " 8   colour_group_code             105542 non-null  int64 \n",
      " 9   colour_group_name             105542 non-null  object\n",
      " 10  perceived_colour_value_id     105542 non-null  int64 \n",
      " 11  perceived_colour_value_name   105542 non-null  object\n",
      " 12  perceived_colour_master_id    105542 non-null  int64 \n",
      " 13  perceived_colour_master_name  105542 non-null  object\n",
      " 14  department_no                 105542 non-null  int64 \n",
      " 15  department_name               105542 non-null  object\n",
      " 16  index_code                    105542 non-null  object\n",
      " 17  index_name                    105542 non-null  object\n",
      " 18  index_group_no                105542 non-null  int64 \n",
      " 19  index_group_name              105542 non-null  object\n",
      " 20  section_no                    105542 non-null  int64 \n",
      " 21  section_name                  105542 non-null  object\n",
      " 22  garment_group_no              105542 non-null  int64 \n",
      " 23  garment_group_name            105542 non-null  object\n",
      " 24  detail_desc                   105126 non-null  object\n",
      "dtypes: int64(11), object(14)\n",
      "memory usage: 20.1+ MB\n"
     ]
    }
   ],
   "source": [
    "articles.info()"
   ]
  },
  {
   "cell_type": "code",
   "execution_count": 11,
   "id": "a4df8b39",
   "metadata": {},
   "outputs": [
    {
     "data": {
      "text/plain": [
       "article_id                      105542\n",
       "product_code                     47224\n",
       "prod_name                        45875\n",
       "product_type_no                    132\n",
       "product_type_name                  131\n",
       "product_group_name                  19\n",
       "graphical_appearance_no             30\n",
       "graphical_appearance_name           30\n",
       "colour_group_code                   50\n",
       "colour_group_name                   50\n",
       "perceived_colour_value_id            8\n",
       "perceived_colour_value_name          8\n",
       "perceived_colour_master_id          20\n",
       "perceived_colour_master_name        20\n",
       "department_no                      299\n",
       "department_name                    250\n",
       "index_code                          10\n",
       "index_name                          10\n",
       "index_group_no                       5\n",
       "index_group_name                     5\n",
       "section_no                          57\n",
       "section_name                        56\n",
       "garment_group_no                    21\n",
       "garment_group_name                  21\n",
       "detail_desc                      43404\n",
       "dtype: int64"
      ]
     },
     "execution_count": 11,
     "metadata": {},
     "output_type": "execute_result"
    }
   ],
   "source": [
    "# as it is shown some columns have the same value\n",
    "articles.nunique()"
   ]
  },
  {
   "cell_type": "code",
   "execution_count": 12,
   "id": "c9c0e660",
   "metadata": {},
   "outputs": [],
   "source": [
    "# therefor all the same column would be droped and prod_name which is related to the name of product would be removed\n",
    "articles = articles.drop([\n",
    "    \"product_code\", \"product_type_no\", \"graphical_appearance_no\", \n",
    "    \"colour_group_code\", \"perceived_colour_value_id\", \"perceived_colour_master_id\", \n",
    "    \"department_no\", \"department_name\", \"index_code\", \"index_group_no\", \"section_no\", \n",
    "    \"garment_group_no\", \"detail_desc\",\"prod_name\"], \n",
    "    axis=1\n",
    ")"
   ]
  },
  {
   "cell_type": "code",
   "execution_count": 13,
   "id": "6ac93ad8",
   "metadata": {},
   "outputs": [
    {
     "data": {
      "text/plain": [
       "article_id                      105542\n",
       "product_type_name                  131\n",
       "product_group_name                  19\n",
       "graphical_appearance_name           30\n",
       "colour_group_name                   50\n",
       "perceived_colour_value_name          8\n",
       "perceived_colour_master_name        20\n",
       "index_name                          10\n",
       "index_group_name                     5\n",
       "section_name                        56\n",
       "garment_group_name                  21\n",
       "dtype: int64"
      ]
     },
     "execution_count": 13,
     "metadata": {},
     "output_type": "execute_result"
    }
   ],
   "source": [
    "articles.nunique()"
   ]
  },
  {
   "cell_type": "code",
   "execution_count": 14,
   "id": "988f66bf",
   "metadata": {},
   "outputs": [
    {
     "data": {
      "text/plain": [
       "article_id                      0\n",
       "product_type_name               0\n",
       "product_group_name              0\n",
       "graphical_appearance_name       0\n",
       "colour_group_name               0\n",
       "perceived_colour_value_name     0\n",
       "perceived_colour_master_name    0\n",
       "index_name                      0\n",
       "index_group_name                0\n",
       "section_name                    0\n",
       "garment_group_name              0\n",
       "dtype: int64"
      ]
     },
     "execution_count": 14,
     "metadata": {},
     "output_type": "execute_result"
    }
   ],
   "source": [
    "# Finding missing value\n",
    "articles.isnull().sum()"
   ]
  },
  {
   "cell_type": "code",
   "execution_count": 15,
   "id": "09c32331",
   "metadata": {},
   "outputs": [
    {
     "data": {
      "text/plain": [
       "False    105542\n",
       "dtype: int64"
      ]
     },
     "execution_count": 15,
     "metadata": {},
     "output_type": "execute_result"
    }
   ],
   "source": [
    "articles.duplicated().value_counts()"
   ]
  },
  {
   "cell_type": "markdown",
   "id": "41b929ea",
   "metadata": {},
   "source": [
    "## Customers"
   ]
  },
  {
   "cell_type": "code",
   "execution_count": 16,
   "id": "37c61215",
   "metadata": {},
   "outputs": [
    {
     "data": {
      "text/html": [
       "<div>\n",
       "<style scoped>\n",
       "    .dataframe tbody tr th:only-of-type {\n",
       "        vertical-align: middle;\n",
       "    }\n",
       "\n",
       "    .dataframe tbody tr th {\n",
       "        vertical-align: top;\n",
       "    }\n",
       "\n",
       "    .dataframe thead th {\n",
       "        text-align: right;\n",
       "    }\n",
       "</style>\n",
       "<table border=\"1\" class=\"dataframe\">\n",
       "  <thead>\n",
       "    <tr style=\"text-align: right;\">\n",
       "      <th></th>\n",
       "      <th>customer_id</th>\n",
       "      <th>FN</th>\n",
       "      <th>Active</th>\n",
       "      <th>club_member_status</th>\n",
       "      <th>fashion_news_frequency</th>\n",
       "      <th>age</th>\n",
       "      <th>postal_code</th>\n",
       "    </tr>\n",
       "  </thead>\n",
       "  <tbody>\n",
       "    <tr>\n",
       "      <th>0</th>\n",
       "      <td>00000dbacae5abe5e23885899a1fa44253a17956c6d1c3...</td>\n",
       "      <td>NaN</td>\n",
       "      <td>NaN</td>\n",
       "      <td>ACTIVE</td>\n",
       "      <td>NONE</td>\n",
       "      <td>49.0</td>\n",
       "      <td>52043ee2162cf5aa7ee79974281641c6f11a68d276429a...</td>\n",
       "    </tr>\n",
       "    <tr>\n",
       "      <th>1</th>\n",
       "      <td>0000423b00ade91418cceaf3b26c6af3dd342b51fd051e...</td>\n",
       "      <td>NaN</td>\n",
       "      <td>NaN</td>\n",
       "      <td>ACTIVE</td>\n",
       "      <td>NONE</td>\n",
       "      <td>25.0</td>\n",
       "      <td>2973abc54daa8a5f8ccfe9362140c63247c5eee03f1d93...</td>\n",
       "    </tr>\n",
       "  </tbody>\n",
       "</table>\n",
       "</div>"
      ],
      "text/plain": [
       "                                         customer_id  FN  Active  \\\n",
       "0  00000dbacae5abe5e23885899a1fa44253a17956c6d1c3... NaN     NaN   \n",
       "1  0000423b00ade91418cceaf3b26c6af3dd342b51fd051e... NaN     NaN   \n",
       "\n",
       "  club_member_status fashion_news_frequency   age  \\\n",
       "0             ACTIVE                   NONE  49.0   \n",
       "1             ACTIVE                   NONE  25.0   \n",
       "\n",
       "                                         postal_code  \n",
       "0  52043ee2162cf5aa7ee79974281641c6f11a68d276429a...  \n",
       "1  2973abc54daa8a5f8ccfe9362140c63247c5eee03f1d93...  "
      ]
     },
     "execution_count": 16,
     "metadata": {},
     "output_type": "execute_result"
    }
   ],
   "source": [
    "customers.head(2)"
   ]
  },
  {
   "cell_type": "code",
   "execution_count": 17,
   "id": "9e495f6a",
   "metadata": {},
   "outputs": [
    {
     "name": "stdout",
     "output_type": "stream",
     "text": [
      "Index(['FN', 'Active'], dtype='object')\n",
      "(1371980, 5)\n"
     ]
    }
   ],
   "source": [
    "# Deleting all features have one value\n",
    "# get number of unique values for each column\n",
    "counts = customers.nunique()\n",
    "# record columns to delete\n",
    "to_del = [i for i,v in enumerate(counts) if v == 1]\n",
    "colname = customers.columns[to_del]\n",
    "print (colname)# drop useless columns\n",
    "customers.drop(colname, axis=1, inplace=True)\n",
    "print(customers.shape)"
   ]
  },
  {
   "cell_type": "code",
   "execution_count": 18,
   "id": "56c91cfc",
   "metadata": {},
   "outputs": [],
   "source": [
    "# pstal code seems to be the same as customer_id then it would be deleted\n",
    "customers = customers.drop([\"postal_code\"], axis=1)"
   ]
  },
  {
   "cell_type": "code",
   "execution_count": 19,
   "id": "bd2f8d1d",
   "metadata": {},
   "outputs": [
    {
     "data": {
      "text/plain": [
       "customer_id                   0\n",
       "club_member_status         6062\n",
       "fashion_news_frequency    16009\n",
       "age                       15861\n",
       "dtype: int64"
      ]
     },
     "execution_count": 19,
     "metadata": {},
     "output_type": "execute_result"
    }
   ],
   "source": [
    "customers.isnull().sum()"
   ]
  },
  {
   "cell_type": "code",
   "execution_count": 20,
   "id": "0af93af9",
   "metadata": {},
   "outputs": [
    {
     "data": {
      "text/plain": [
       "array(['ACTIVE', nan, 'PRE-CREATE', 'LEFT CLUB'], dtype=object)"
      ]
     },
     "execution_count": 20,
     "metadata": {},
     "output_type": "execute_result"
    }
   ],
   "source": [
    "#Checking the unique value of club_member_status feature\n",
    "customers['club_member_status'].unique()"
   ]
  },
  {
   "cell_type": "code",
   "execution_count": 21,
   "id": "45274560",
   "metadata": {},
   "outputs": [],
   "source": [
    "customers.loc[~customers['club_member_status'].isin(['ACTIVE', 'PRE-CREATE']), 'club_member_status'] = 'LEFT CLUB'"
   ]
  },
  {
   "cell_type": "code",
   "execution_count": 22,
   "id": "4e0f1da4",
   "metadata": {},
   "outputs": [
    {
     "data": {
      "text/plain": [
       "array(['NONE', 'Regularly', nan, 'Monthly', 'None'], dtype=object)"
      ]
     },
     "execution_count": 22,
     "metadata": {},
     "output_type": "execute_result"
    }
   ],
   "source": [
    "# Checking the unique value of fashion_news_frequency feature\n",
    "customers['fashion_news_frequency'].unique()"
   ]
  },
  {
   "cell_type": "code",
   "execution_count": 23,
   "id": "61ec2f6f",
   "metadata": {},
   "outputs": [],
   "source": [
    "customers.loc[~customers['fashion_news_frequency'].isin\n",
    "              (['Regularly', 'Monthly']), 'fashion_news_frequency'] = 'None'"
   ]
  },
  {
   "cell_type": "code",
   "execution_count": 24,
   "id": "be6f78ee",
   "metadata": {},
   "outputs": [],
   "source": [
    "# Filling the missing values in the age column with the median age, \n",
    "# since there are few missing values in this column\n",
    "customers['age'] = customers['age'].fillna(customers['age'].median())"
   ]
  },
  {
   "cell_type": "code",
   "execution_count": 25,
   "id": "0e58ac37",
   "metadata": {},
   "outputs": [
    {
     "data": {
      "text/plain": [
       "False    1371980\n",
       "dtype: int64"
      ]
     },
     "execution_count": 25,
     "metadata": {},
     "output_type": "execute_result"
    }
   ],
   "source": [
    "customers.duplicated().value_counts()"
   ]
  },
  {
   "cell_type": "code",
   "execution_count": 26,
   "id": "abb0df40",
   "metadata": {},
   "outputs": [
    {
     "data": {
      "text/plain": [
       "customer_id               0\n",
       "club_member_status        0\n",
       "fashion_news_frequency    0\n",
       "age                       0\n",
       "dtype: int64"
      ]
     },
     "execution_count": 26,
     "metadata": {},
     "output_type": "execute_result"
    }
   ],
   "source": [
    "customers.isnull().sum()"
   ]
  },
  {
   "cell_type": "code",
   "execution_count": 33,
   "id": "8135e070",
   "metadata": {},
   "outputs": [
    {
     "data": {
      "text/plain": [
       "customer_id               1371980\n",
       "club_member_status              3\n",
       "fashion_news_frequency          3\n",
       "age                            84\n",
       "dtype: int64"
      ]
     },
     "execution_count": 33,
     "metadata": {},
     "output_type": "execute_result"
    }
   ],
   "source": [
    "customers.nunique()"
   ]
  },
  {
   "cell_type": "markdown",
   "id": "91f0aebc",
   "metadata": {},
   "source": [
    "## Transactions "
   ]
  },
  {
   "cell_type": "code",
   "execution_count": 34,
   "id": "a54cf693",
   "metadata": {},
   "outputs": [
    {
     "data": {
      "text/html": [
       "<div>\n",
       "<style scoped>\n",
       "    .dataframe tbody tr th:only-of-type {\n",
       "        vertical-align: middle;\n",
       "    }\n",
       "\n",
       "    .dataframe tbody tr th {\n",
       "        vertical-align: top;\n",
       "    }\n",
       "\n",
       "    .dataframe thead th {\n",
       "        text-align: right;\n",
       "    }\n",
       "</style>\n",
       "<table border=\"1\" class=\"dataframe\">\n",
       "  <thead>\n",
       "    <tr style=\"text-align: right;\">\n",
       "      <th></th>\n",
       "      <th>t_dat</th>\n",
       "      <th>customer_id</th>\n",
       "      <th>article_id</th>\n",
       "      <th>price</th>\n",
       "      <th>sales_channel_id</th>\n",
       "    </tr>\n",
       "  </thead>\n",
       "  <tbody>\n",
       "    <tr>\n",
       "      <th>0</th>\n",
       "      <td>2018-09-20</td>\n",
       "      <td>000058a12d5b43e67d225668fa1f8d618c13dc232df0ca...</td>\n",
       "      <td>663713001</td>\n",
       "      <td>0.050831</td>\n",
       "      <td>2</td>\n",
       "    </tr>\n",
       "    <tr>\n",
       "      <th>1</th>\n",
       "      <td>2018-09-20</td>\n",
       "      <td>000058a12d5b43e67d225668fa1f8d618c13dc232df0ca...</td>\n",
       "      <td>541518023</td>\n",
       "      <td>0.030492</td>\n",
       "      <td>2</td>\n",
       "    </tr>\n",
       "  </tbody>\n",
       "</table>\n",
       "</div>"
      ],
      "text/plain": [
       "        t_dat                                        customer_id  article_id  \\\n",
       "0  2018-09-20  000058a12d5b43e67d225668fa1f8d618c13dc232df0ca...   663713001   \n",
       "1  2018-09-20  000058a12d5b43e67d225668fa1f8d618c13dc232df0ca...   541518023   \n",
       "\n",
       "      price  sales_channel_id  \n",
       "0  0.050831                 2  \n",
       "1  0.030492                 2  "
      ]
     },
     "execution_count": 34,
     "metadata": {},
     "output_type": "execute_result"
    }
   ],
   "source": [
    "transactions.head(2)"
   ]
  },
  {
   "cell_type": "code",
   "execution_count": 35,
   "id": "5f0f71e4",
   "metadata": {},
   "outputs": [
    {
     "data": {
      "text/plain": [
       "(31788324, 5)"
      ]
     },
     "execution_count": 35,
     "metadata": {},
     "output_type": "execute_result"
    }
   ],
   "source": [
    "transactions.shape"
   ]
  },
  {
   "cell_type": "code",
   "execution_count": 36,
   "id": "e884e10e",
   "metadata": {},
   "outputs": [
    {
     "data": {
      "text/plain": [
       "t_dat                   734\n",
       "customer_id         1362281\n",
       "article_id           104547\n",
       "price                  9857\n",
       "sales_channel_id          2\n",
       "dtype: int64"
      ]
     },
     "execution_count": 36,
     "metadata": {},
     "output_type": "execute_result"
    }
   ],
   "source": [
    "transactions.nunique()"
   ]
  },
  {
   "cell_type": "code",
   "execution_count": 37,
   "id": "52a1df4d",
   "metadata": {},
   "outputs": [
    {
     "data": {
      "text/plain": [
       "t_dat               0\n",
       "customer_id         0\n",
       "article_id          0\n",
       "price               0\n",
       "sales_channel_id    0\n",
       "dtype: int64"
      ]
     },
     "execution_count": 37,
     "metadata": {},
     "output_type": "execute_result"
    }
   ],
   "source": [
    "transactions.isnull().sum()"
   ]
  },
  {
   "cell_type": "code",
   "execution_count": 38,
   "id": "53b909f0",
   "metadata": {},
   "outputs": [
    {
     "data": {
      "text/plain": [
       "False    28813419\n",
       "True      2974905\n",
       "dtype: int64"
      ]
     },
     "execution_count": 38,
     "metadata": {},
     "output_type": "execute_result"
    }
   ],
   "source": [
    "transactions.duplicated().value_counts()"
   ]
  },
  {
   "cell_type": "code",
   "execution_count": 39,
   "id": "13b36a0f",
   "metadata": {},
   "outputs": [],
   "source": [
    "# transactions.drop_duplicates()"
   ]
  },
  {
   "cell_type": "code",
   "execution_count": 40,
   "id": "c99847ae",
   "metadata": {
    "execution": {
     "iopub.execute_input": "2022-03-30T01:42:29.401943Z",
     "iopub.status.busy": "2022-03-30T01:42:29.401679Z",
     "iopub.status.idle": "2022-03-30T01:42:53.984139Z",
     "shell.execute_reply": "2022-03-30T01:42:53.982472Z",
     "shell.execute_reply.started": "2022-03-30T01:42:29.401916Z"
    }
   },
   "outputs": [
    {
     "data": {
      "text/html": [
       "<div>\n",
       "<style scoped>\n",
       "    .dataframe tbody tr th:only-of-type {\n",
       "        vertical-align: middle;\n",
       "    }\n",
       "\n",
       "    .dataframe tbody tr th {\n",
       "        vertical-align: top;\n",
       "    }\n",
       "\n",
       "    .dataframe thead th {\n",
       "        text-align: right;\n",
       "    }\n",
       "</style>\n",
       "<table border=\"1\" class=\"dataframe\">\n",
       "  <thead>\n",
       "    <tr style=\"text-align: right;\">\n",
       "      <th></th>\n",
       "      <th>t_dat</th>\n",
       "      <th>customer_id</th>\n",
       "      <th>article_id</th>\n",
       "      <th>price</th>\n",
       "      <th>sales_channel_id</th>\n",
       "      <th>year</th>\n",
       "      <th>month</th>\n",
       "    </tr>\n",
       "  </thead>\n",
       "  <tbody>\n",
       "    <tr>\n",
       "      <th>31788319</th>\n",
       "      <td>2020-09-22</td>\n",
       "      <td>fff2282977442e327b45d8c89afde25617d00124d0f999...</td>\n",
       "      <td>929511001</td>\n",
       "      <td>0.059305</td>\n",
       "      <td>2</td>\n",
       "      <td>2020</td>\n",
       "      <td>9</td>\n",
       "    </tr>\n",
       "    <tr>\n",
       "      <th>31788320</th>\n",
       "      <td>2020-09-22</td>\n",
       "      <td>fff2282977442e327b45d8c89afde25617d00124d0f999...</td>\n",
       "      <td>891322004</td>\n",
       "      <td>0.042356</td>\n",
       "      <td>2</td>\n",
       "      <td>2020</td>\n",
       "      <td>9</td>\n",
       "    </tr>\n",
       "    <tr>\n",
       "      <th>31788321</th>\n",
       "      <td>2020-09-22</td>\n",
       "      <td>fff380805474b287b05cb2a7507b9a013482f7dd0bce0e...</td>\n",
       "      <td>918325001</td>\n",
       "      <td>0.043203</td>\n",
       "      <td>1</td>\n",
       "      <td>2020</td>\n",
       "      <td>9</td>\n",
       "    </tr>\n",
       "    <tr>\n",
       "      <th>31788322</th>\n",
       "      <td>2020-09-22</td>\n",
       "      <td>fff4d3a8b1f3b60af93e78c30a7cb4cf75edaf2590d3e5...</td>\n",
       "      <td>833459002</td>\n",
       "      <td>0.006763</td>\n",
       "      <td>1</td>\n",
       "      <td>2020</td>\n",
       "      <td>9</td>\n",
       "    </tr>\n",
       "    <tr>\n",
       "      <th>31788323</th>\n",
       "      <td>2020-09-22</td>\n",
       "      <td>fffef3b6b73545df065b521e19f64bf6fe93bfd450ab20...</td>\n",
       "      <td>898573003</td>\n",
       "      <td>0.033881</td>\n",
       "      <td>2</td>\n",
       "      <td>2020</td>\n",
       "      <td>9</td>\n",
       "    </tr>\n",
       "  </tbody>\n",
       "</table>\n",
       "</div>"
      ],
      "text/plain": [
       "               t_dat                                        customer_id  \\\n",
       "31788319  2020-09-22  fff2282977442e327b45d8c89afde25617d00124d0f999...   \n",
       "31788320  2020-09-22  fff2282977442e327b45d8c89afde25617d00124d0f999...   \n",
       "31788321  2020-09-22  fff380805474b287b05cb2a7507b9a013482f7dd0bce0e...   \n",
       "31788322  2020-09-22  fff4d3a8b1f3b60af93e78c30a7cb4cf75edaf2590d3e5...   \n",
       "31788323  2020-09-22  fffef3b6b73545df065b521e19f64bf6fe93bfd450ab20...   \n",
       "\n",
       "          article_id     price  sales_channel_id  year  month  \n",
       "31788319   929511001  0.059305                 2  2020      9  \n",
       "31788320   891322004  0.042356                 2  2020      9  \n",
       "31788321   918325001  0.043203                 1  2020      9  \n",
       "31788322   833459002  0.006763                 1  2020      9  \n",
       "31788323   898573003  0.033881                 2  2020      9  "
      ]
     },
     "execution_count": 40,
     "metadata": {},
     "output_type": "execute_result"
    }
   ],
   "source": [
    "transactions['year'] = pd.DatetimeIndex(transactions['t_dat']).year\n",
    "transactions['month'] = pd.DatetimeIndex(transactions['t_dat']).month\n",
    "transactions.tail()"
   ]
  },
  {
   "cell_type": "code",
   "execution_count": 41,
   "id": "3ec8988d",
   "metadata": {},
   "outputs": [],
   "source": [
    "## Find weeks since each transaction train ended"
   ]
  },
  {
   "cell_type": "code",
   "execution_count": 42,
   "id": "15155226",
   "metadata": {
    "execution": {
     "iopub.execute_input": "2022-03-30T03:19:45.113571Z",
     "iopub.status.busy": "2022-03-30T03:19:45.113223Z",
     "iopub.status.idle": "2022-03-30T03:19:53.986709Z",
     "shell.execute_reply": "2022-03-30T03:19:53.985693Z",
     "shell.execute_reply.started": "2022-03-30T03:19:45.113539Z"
    }
   },
   "outputs": [
    {
     "data": {
      "text/html": [
       "<div>\n",
       "<style scoped>\n",
       "    .dataframe tbody tr th:only-of-type {\n",
       "        vertical-align: middle;\n",
       "    }\n",
       "\n",
       "    .dataframe tbody tr th {\n",
       "        vertical-align: top;\n",
       "    }\n",
       "\n",
       "    .dataframe thead th {\n",
       "        text-align: right;\n",
       "    }\n",
       "</style>\n",
       "<table border=\"1\" class=\"dataframe\">\n",
       "  <thead>\n",
       "    <tr style=\"text-align: right;\">\n",
       "      <th></th>\n",
       "      <th>t_dat</th>\n",
       "      <th>customer_id</th>\n",
       "      <th>article_id</th>\n",
       "      <th>price</th>\n",
       "      <th>sales_channel_id</th>\n",
       "      <th>year</th>\n",
       "      <th>month</th>\n",
       "      <th>week_since</th>\n",
       "    </tr>\n",
       "  </thead>\n",
       "  <tbody>\n",
       "    <tr>\n",
       "      <th>0</th>\n",
       "      <td>2018-09-20</td>\n",
       "      <td>000058a12d5b43e67d225668fa1f8d618c13dc232df0ca...</td>\n",
       "      <td>663713001</td>\n",
       "      <td>0.050831</td>\n",
       "      <td>2</td>\n",
       "      <td>2018</td>\n",
       "      <td>9</td>\n",
       "      <td>104</td>\n",
       "    </tr>\n",
       "    <tr>\n",
       "      <th>1</th>\n",
       "      <td>2018-09-20</td>\n",
       "      <td>000058a12d5b43e67d225668fa1f8d618c13dc232df0ca...</td>\n",
       "      <td>541518023</td>\n",
       "      <td>0.030492</td>\n",
       "      <td>2</td>\n",
       "      <td>2018</td>\n",
       "      <td>9</td>\n",
       "      <td>104</td>\n",
       "    </tr>\n",
       "    <tr>\n",
       "      <th>2</th>\n",
       "      <td>2018-09-20</td>\n",
       "      <td>00007d2de826758b65a93dd24ce629ed66842531df6699...</td>\n",
       "      <td>505221004</td>\n",
       "      <td>0.015237</td>\n",
       "      <td>2</td>\n",
       "      <td>2018</td>\n",
       "      <td>9</td>\n",
       "      <td>104</td>\n",
       "    </tr>\n",
       "    <tr>\n",
       "      <th>3</th>\n",
       "      <td>2018-09-20</td>\n",
       "      <td>00007d2de826758b65a93dd24ce629ed66842531df6699...</td>\n",
       "      <td>685687003</td>\n",
       "      <td>0.016932</td>\n",
       "      <td>2</td>\n",
       "      <td>2018</td>\n",
       "      <td>9</td>\n",
       "      <td>104</td>\n",
       "    </tr>\n",
       "    <tr>\n",
       "      <th>4</th>\n",
       "      <td>2018-09-20</td>\n",
       "      <td>00007d2de826758b65a93dd24ce629ed66842531df6699...</td>\n",
       "      <td>685687004</td>\n",
       "      <td>0.016932</td>\n",
       "      <td>2</td>\n",
       "      <td>2018</td>\n",
       "      <td>9</td>\n",
       "      <td>104</td>\n",
       "    </tr>\n",
       "  </tbody>\n",
       "</table>\n",
       "</div>"
      ],
      "text/plain": [
       "       t_dat                                        customer_id  article_id  \\\n",
       "0 2018-09-20  000058a12d5b43e67d225668fa1f8d618c13dc232df0ca...   663713001   \n",
       "1 2018-09-20  000058a12d5b43e67d225668fa1f8d618c13dc232df0ca...   541518023   \n",
       "2 2018-09-20  00007d2de826758b65a93dd24ce629ed66842531df6699...   505221004   \n",
       "3 2018-09-20  00007d2de826758b65a93dd24ce629ed66842531df6699...   685687003   \n",
       "4 2018-09-20  00007d2de826758b65a93dd24ce629ed66842531df6699...   685687004   \n",
       "\n",
       "      price  sales_channel_id  year  month  week_since  \n",
       "0  0.050831                 2  2018      9         104  \n",
       "1  0.030492                 2  2018      9         104  \n",
       "2  0.015237                 2  2018      9         104  \n",
       "3  0.016932                 2  2018      9         104  \n",
       "4  0.016932                 2  2018      9         104  "
      ]
     },
     "execution_count": 42,
     "metadata": {},
     "output_type": "execute_result"
    }
   ],
   "source": [
    "transactions[\"t_dat\"] = pd.to_datetime(transactions[\"t_dat\"])\n",
    "transactions[\"week_since\"] = (transactions[\"t_dat\"].max() - transactions[\"t_dat\"]).dt.days // 7\n",
    "transactions[\"week_since\"].value_counts()\n",
    "transactions.head()"
   ]
  },
  {
   "cell_type": "markdown",
   "id": "d27e3800",
   "metadata": {
    "heading_collapsed": true
   },
   "source": [
    "### Frequently Customers"
   ]
  },
  {
   "cell_type": "code",
   "execution_count": 43,
   "id": "6d845366",
   "metadata": {
    "hidden": true
   },
   "outputs": [
    {
     "data": {
      "text/plain": [
       "<AxesSubplot:xlabel='year'>"
      ]
     },
     "execution_count": 43,
     "metadata": {},
     "output_type": "execute_result"
    },
    {
     "data": {
      "image/png": "[encoded data removed]",
      "text/plain": [
       "<Figure size 1440x360 with 1 Axes>"
      ]
     },
     "metadata": {
      "needs_background": "light"
     },
     "output_type": "display_data"
    }
   ],
   "source": [
    "# more frequently customers in each year\n",
    "transactions[['year', 'customer_id']].groupby('year').count().plot(kind='bar', legend=None)"
   ]
  },
  {
   "cell_type": "code",
   "execution_count": 44,
   "id": "812daa50",
   "metadata": {
    "hidden": true
   },
   "outputs": [],
   "source": [
    "last_two_year_transactions=transactions[(transactions.year >= 2019)]"
   ]
  },
  {
   "cell_type": "code",
   "execution_count": 45,
   "id": "c86c2617",
   "metadata": {
    "hidden": true
   },
   "outputs": [
    {
     "data": {
      "text/plain": [
       "<AxesSubplot:xlabel='month'>"
      ]
     },
     "execution_count": 45,
     "metadata": {},
     "output_type": "execute_result"
    },
    {
     "data": {
      "image/png": "[encoded data removed]",
      "text/plain": [
       "<Figure size 1440x360 with 1 Axes>"
      ]
     },
     "metadata": {
      "needs_background": "light"
     },
     "output_type": "display_data"
    }
   ],
   "source": [
    "# more frequently customers in each month for 2019 and 2020\n",
    "\n",
    "last_two_year_transactions[['month', 'customer_id']].groupby('month').count().plot(kind='bar', legend=None)"
   ]
  },
  {
   "cell_type": "code",
   "execution_count": 46,
   "id": "2874a7a6",
   "metadata": {
    "hidden": true
   },
   "outputs": [],
   "source": [
    "#popular months in last two years\n",
    "popular_months=last_two_year_transactions[(last_two_year_transactions.month<=9)]"
   ]
  },
  {
   "cell_type": "code",
   "execution_count": 47,
   "id": "6826373a",
   "metadata": {
    "hidden": true
   },
   "outputs": [
    {
     "data": {
      "text/html": [
       "<div>\n",
       "<style scoped>\n",
       "    .dataframe tbody tr th:only-of-type {\n",
       "        vertical-align: middle;\n",
       "    }\n",
       "\n",
       "    .dataframe tbody tr th {\n",
       "        vertical-align: top;\n",
       "    }\n",
       "\n",
       "    .dataframe thead th {\n",
       "        text-align: right;\n",
       "    }\n",
       "</style>\n",
       "<table border=\"1\" class=\"dataframe\">\n",
       "  <thead>\n",
       "    <tr style=\"text-align: right;\">\n",
       "      <th></th>\n",
       "      <th>customer_id</th>\n",
       "      <th>count_cust</th>\n",
       "    </tr>\n",
       "  </thead>\n",
       "  <tbody>\n",
       "    <tr>\n",
       "      <th>0</th>\n",
       "      <td>be1981ab818cf4ef6765b2ecaea7a2cbf14ccd6e8a7ee9...</td>\n",
       "      <td>1431</td>\n",
       "    </tr>\n",
       "    <tr>\n",
       "      <th>1</th>\n",
       "      <td>b4db5e5259234574edfff958e170fe3a5e13b6f146752c...</td>\n",
       "      <td>1148</td>\n",
       "    </tr>\n",
       "    <tr>\n",
       "      <th>2</th>\n",
       "      <td>a65f77281a528bf5c1e9f270141d601d116e1df33bf9df...</td>\n",
       "      <td>1077</td>\n",
       "    </tr>\n",
       "    <tr>\n",
       "      <th>3</th>\n",
       "      <td>cd04ec2726dd58a8c753e0d6423e57716fd9ebcf2f14ed...</td>\n",
       "      <td>1048</td>\n",
       "    </tr>\n",
       "    <tr>\n",
       "      <th>4</th>\n",
       "      <td>49beaacac0c7801c2ce2d189efe525fe80b5d37e46ed05...</td>\n",
       "      <td>1045</td>\n",
       "    </tr>\n",
       "    <tr>\n",
       "      <th>...</th>\n",
       "      <td>...</td>\n",
       "      <td>...</td>\n",
       "    </tr>\n",
       "    <tr>\n",
       "      <th>1180616</th>\n",
       "      <td>b8a2292d8e1e663fcc087df7faae88de3f52f07737c513...</td>\n",
       "      <td>1</td>\n",
       "    </tr>\n",
       "    <tr>\n",
       "      <th>1180617</th>\n",
       "      <td>fa9e6a1c75ce969fb796e245ad9b6d48b653f42513eb30...</td>\n",
       "      <td>1</td>\n",
       "    </tr>\n",
       "    <tr>\n",
       "      <th>1180618</th>\n",
       "      <td>ec3fc322097b2e1d0703497a62164e4c47b915a035c2f9...</td>\n",
       "      <td>1</td>\n",
       "    </tr>\n",
       "    <tr>\n",
       "      <th>1180619</th>\n",
       "      <td>ebd0f2361970a14681bae8b1d4090cac278cd4083f0d24...</td>\n",
       "      <td>1</td>\n",
       "    </tr>\n",
       "    <tr>\n",
       "      <th>1180620</th>\n",
       "      <td>d51b89cff3e3ec0575d18a667e60f5239b85df056ed805...</td>\n",
       "      <td>1</td>\n",
       "    </tr>\n",
       "  </tbody>\n",
       "</table>\n",
       "<p>1180621 rows × 2 columns</p>\n",
       "</div>"
      ],
      "text/plain": [
       "                                               customer_id  count_cust\n",
       "0        be1981ab818cf4ef6765b2ecaea7a2cbf14ccd6e8a7ee9...        1431\n",
       "1        b4db5e5259234574edfff958e170fe3a5e13b6f146752c...        1148\n",
       "2        a65f77281a528bf5c1e9f270141d601d116e1df33bf9df...        1077\n",
       "3        cd04ec2726dd58a8c753e0d6423e57716fd9ebcf2f14ed...        1048\n",
       "4        49beaacac0c7801c2ce2d189efe525fe80b5d37e46ed05...        1045\n",
       "...                                                    ...         ...\n",
       "1180616  b8a2292d8e1e663fcc087df7faae88de3f52f07737c513...           1\n",
       "1180617  fa9e6a1c75ce969fb796e245ad9b6d48b653f42513eb30...           1\n",
       "1180618  ec3fc322097b2e1d0703497a62164e4c47b915a035c2f9...           1\n",
       "1180619  ebd0f2361970a14681bae8b1d4090cac278cd4083f0d24...           1\n",
       "1180620  d51b89cff3e3ec0575d18a667e60f5239b85df056ed805...           1\n",
       "\n",
       "[1180621 rows x 2 columns]"
      ]
     },
     "execution_count": 47,
     "metadata": {},
     "output_type": "execute_result"
    }
   ],
   "source": [
    "#Count CUSTOMER\n",
    "freq_customer_count= popular_months[\"customer_id\"].value_counts().reset_index()\n",
    "\n",
    "freq_customer_count.columns= ['customer_id','count_cust']\n",
    "freq_customer_count"
   ]
  },
  {
   "cell_type": "code",
   "execution_count": 48,
   "id": "2d79b2ec",
   "metadata": {
    "hidden": true
   },
   "outputs": [
    {
     "data": {
      "text/plain": [
       "count    1180621.0\n",
       "mean          20.0\n",
       "std           32.0\n",
       "min            1.0\n",
       "25%            3.0\n",
       "50%            9.0\n",
       "75%           24.0\n",
       "max         1431.0\n",
       "Name: count_cust, dtype: float64"
      ]
     },
     "execution_count": 48,
     "metadata": {},
     "output_type": "execute_result"
    }
   ],
   "source": [
    "freq_customer_count['count_cust'].describe().round()"
   ]
  },
  {
   "cell_type": "markdown",
   "id": "151acc17",
   "metadata": {
    "hidden": true
   },
   "source": [
    "We can see about 75% of customer buy below 25 times. Only about 25% of customer buy more than 25 times. As we have so many customers in our data, we will limit customers that buy articles above 25 times in last six month."
   ]
  },
  {
   "cell_type": "code",
   "execution_count": 49,
   "id": "fad2d602",
   "metadata": {
    "hidden": true
   },
   "outputs": [],
   "source": [
    "# Limiting cust_Count above 25 count.\n",
    "popularity_threshold = 25\n",
    "fr_cust = freq_customer_count.query('count_cust >= @popularity_threshold')"
   ]
  },
  {
   "cell_type": "code",
   "execution_count": 50,
   "id": "d0746d4b",
   "metadata": {
    "hidden": true
   },
   "outputs": [],
   "source": [
    "freq_cust_trans = transactions[transactions['customer_id'].isin(fr_cust['customer_id'])]"
   ]
  },
  {
   "cell_type": "markdown",
   "id": "f8bd3a3e",
   "metadata": {},
   "source": [
    "### Frequenty Articles"
   ]
  },
  {
   "cell_type": "code",
   "execution_count": 51,
   "id": "a3832b03",
   "metadata": {},
   "outputs": [],
   "source": [
    "## Transactions in the last months"
   ]
  },
  {
   "cell_type": "code",
   "execution_count": 52,
   "id": "6a0131b3",
   "metadata": {},
   "outputs": [],
   "source": [
    "last_month_transactions=transactions[(transactions.week_since>=0) & (transactions.week_since<4)]"
   ]
  },
  {
   "cell_type": "code",
   "execution_count": 53,
   "id": "6f29d219",
   "metadata": {},
   "outputs": [
    {
     "data": {
      "text/html": [
       "<div>\n",
       "<style scoped>\n",
       "    .dataframe tbody tr th:only-of-type {\n",
       "        vertical-align: middle;\n",
       "    }\n",
       "\n",
       "    .dataframe tbody tr th {\n",
       "        vertical-align: top;\n",
       "    }\n",
       "\n",
       "    .dataframe thead th {\n",
       "        text-align: right;\n",
       "    }\n",
       "</style>\n",
       "<table border=\"1\" class=\"dataframe\">\n",
       "  <thead>\n",
       "    <tr style=\"text-align: right;\">\n",
       "      <th></th>\n",
       "      <th>article_id</th>\n",
       "      <th>count_art</th>\n",
       "    </tr>\n",
       "  </thead>\n",
       "  <tbody>\n",
       "    <tr>\n",
       "      <th>0</th>\n",
       "      <td>751471001</td>\n",
       "      <td>2703</td>\n",
       "    </tr>\n",
       "    <tr>\n",
       "      <th>1</th>\n",
       "      <td>915526001</td>\n",
       "      <td>2340</td>\n",
       "    </tr>\n",
       "    <tr>\n",
       "      <th>2</th>\n",
       "      <td>915529003</td>\n",
       "      <td>2301</td>\n",
       "    </tr>\n",
       "    <tr>\n",
       "      <th>3</th>\n",
       "      <td>918292001</td>\n",
       "      <td>2233</td>\n",
       "    </tr>\n",
       "    <tr>\n",
       "      <th>4</th>\n",
       "      <td>751471043</td>\n",
       "      <td>2214</td>\n",
       "    </tr>\n",
       "    <tr>\n",
       "      <th>...</th>\n",
       "      <td>...</td>\n",
       "      <td>...</td>\n",
       "    </tr>\n",
       "    <tr>\n",
       "      <th>28292</th>\n",
       "      <td>794216001</td>\n",
       "      <td>1</td>\n",
       "    </tr>\n",
       "    <tr>\n",
       "      <th>28293</th>\n",
       "      <td>750565003</td>\n",
       "      <td>1</td>\n",
       "    </tr>\n",
       "    <tr>\n",
       "      <th>28294</th>\n",
       "      <td>722292001</td>\n",
       "      <td>1</td>\n",
       "    </tr>\n",
       "    <tr>\n",
       "      <th>28295</th>\n",
       "      <td>803190001</td>\n",
       "      <td>1</td>\n",
       "    </tr>\n",
       "    <tr>\n",
       "      <th>28296</th>\n",
       "      <td>772659001</td>\n",
       "      <td>1</td>\n",
       "    </tr>\n",
       "  </tbody>\n",
       "</table>\n",
       "<p>28297 rows × 2 columns</p>\n",
       "</div>"
      ],
      "text/plain": [
       "       article_id  count_art\n",
       "0       751471001       2703\n",
       "1       915526001       2340\n",
       "2       915529003       2301\n",
       "3       918292001       2233\n",
       "4       751471043       2214\n",
       "...           ...        ...\n",
       "28292   794216001          1\n",
       "28293   750565003          1\n",
       "28294   722292001          1\n",
       "28295   803190001          1\n",
       "28296   772659001          1\n",
       "\n",
       "[28297 rows x 2 columns]"
      ]
     },
     "execution_count": 53,
     "metadata": {},
     "output_type": "execute_result"
    }
   ],
   "source": [
    "last_month_article_count= last_month_transactions[\"article_id\"].value_counts().reset_index()\n",
    "last_month_article_count.columns= ['article_id','count_art']\n",
    "last_month_article_count"
   ]
  },
  {
   "cell_type": "code",
   "execution_count": 54,
   "id": "5f76d8c9",
   "metadata": {},
   "outputs": [
    {
     "data": {
      "text/plain": [
       "count    28297.000000\n",
       "mean        36.872813\n",
       "std        108.455142\n",
       "min          1.000000\n",
       "25%          2.000000\n",
       "50%          6.000000\n",
       "75%         24.000000\n",
       "max       2703.000000\n",
       "Name: count_art, dtype: float64"
      ]
     },
     "execution_count": 54,
     "metadata": {},
     "output_type": "execute_result"
    }
   ],
   "source": [
    "last_month_article_count['count_art'].describe()"
   ]
  },
  {
   "cell_type": "code",
   "execution_count": 55,
   "id": "a163b8ba",
   "metadata": {},
   "outputs": [
    {
     "name": "stdout",
     "output_type": "stream",
     "text": [
      "0.90     83.00\n",
      "0.91     93.00\n",
      "0.92    105.00\n",
      "0.93    120.00\n",
      "0.94    141.00\n",
      "0.95    168.00\n",
      "0.96    204.00\n",
      "0.97    261.00\n",
      "0.98    355.08\n",
      "0.99    522.00\n",
      "Name: count_art, dtype: float64\n"
     ]
    }
   ],
   "source": [
    "# The median of articles that were bought just two\n",
    "# Let’s look at from 90% to 99% to identify the total article id that was choosen by customer\n",
    "\n",
    "print(last_month_article_count['count_art'].quantile(np.arange(.9, 1, .01)))"
   ]
  },
  {
   "cell_type": "markdown",
   "id": "54c19a80",
   "metadata": {},
   "source": [
    "We can see about 95% of articles sells below 150 times.\n",
    "Only about 5% of articles more than sold more than 150 times.\n",
    "As we have so artciles  in our data, we will limit articles that sold above 150  times in last month."
   ]
  },
  {
   "cell_type": "code",
   "execution_count": 56,
   "id": "7c8b6ba6",
   "metadata": {},
   "outputs": [
    {
     "data": {
      "text/html": [
       "<div>\n",
       "<style scoped>\n",
       "    .dataframe tbody tr th:only-of-type {\n",
       "        vertical-align: middle;\n",
       "    }\n",
       "\n",
       "    .dataframe tbody tr th {\n",
       "        vertical-align: top;\n",
       "    }\n",
       "\n",
       "    .dataframe thead th {\n",
       "        text-align: right;\n",
       "    }\n",
       "</style>\n",
       "<table border=\"1\" class=\"dataframe\">\n",
       "  <thead>\n",
       "    <tr style=\"text-align: right;\">\n",
       "      <th></th>\n",
       "      <th>article_id</th>\n",
       "      <th>count_art</th>\n",
       "    </tr>\n",
       "  </thead>\n",
       "  <tbody>\n",
       "    <tr>\n",
       "      <th>0</th>\n",
       "      <td>751471001</td>\n",
       "      <td>2703</td>\n",
       "    </tr>\n",
       "    <tr>\n",
       "      <th>1</th>\n",
       "      <td>915526001</td>\n",
       "      <td>2340</td>\n",
       "    </tr>\n",
       "    <tr>\n",
       "      <th>2</th>\n",
       "      <td>915529003</td>\n",
       "      <td>2301</td>\n",
       "    </tr>\n",
       "    <tr>\n",
       "      <th>3</th>\n",
       "      <td>918292001</td>\n",
       "      <td>2233</td>\n",
       "    </tr>\n",
       "    <tr>\n",
       "      <th>4</th>\n",
       "      <td>751471043</td>\n",
       "      <td>2214</td>\n",
       "    </tr>\n",
       "    <tr>\n",
       "      <th>...</th>\n",
       "      <td>...</td>\n",
       "      <td>...</td>\n",
       "    </tr>\n",
       "    <tr>\n",
       "      <th>1582</th>\n",
       "      <td>680391030</td>\n",
       "      <td>150</td>\n",
       "    </tr>\n",
       "    <tr>\n",
       "      <th>1583</th>\n",
       "      <td>881919003</td>\n",
       "      <td>150</td>\n",
       "    </tr>\n",
       "    <tr>\n",
       "      <th>1584</th>\n",
       "      <td>865935003</td>\n",
       "      <td>150</td>\n",
       "    </tr>\n",
       "    <tr>\n",
       "      <th>1585</th>\n",
       "      <td>898439003</td>\n",
       "      <td>150</td>\n",
       "    </tr>\n",
       "    <tr>\n",
       "      <th>1586</th>\n",
       "      <td>910447001</td>\n",
       "      <td>150</td>\n",
       "    </tr>\n",
       "  </tbody>\n",
       "</table>\n",
       "<p>1587 rows × 2 columns</p>\n",
       "</div>"
      ],
      "text/plain": [
       "      article_id  count_art\n",
       "0      751471001       2703\n",
       "1      915526001       2340\n",
       "2      915529003       2301\n",
       "3      918292001       2233\n",
       "4      751471043       2214\n",
       "...          ...        ...\n",
       "1582   680391030        150\n",
       "1583   881919003        150\n",
       "1584   865935003        150\n",
       "1585   898439003        150\n",
       "1586   910447001        150\n",
       "\n",
       "[1587 rows x 2 columns]"
      ]
     },
     "execution_count": 56,
     "metadata": {},
     "output_type": "execute_result"
    }
   ],
   "source": [
    "# Limiting art_Count above 150 count.\n",
    "popularity_threshold = 150\n",
    "freq_art = last_month_article_count.query('count_art >= @popularity_threshold')\n",
    "freq_art"
   ]
  },
  {
   "cell_type": "code",
   "execution_count": 57,
   "id": "15aa285a",
   "metadata": {},
   "outputs": [
    {
     "data": {
      "text/html": [
       "<div>\n",
       "<style scoped>\n",
       "    .dataframe tbody tr th:only-of-type {\n",
       "        vertical-align: middle;\n",
       "    }\n",
       "\n",
       "    .dataframe tbody tr th {\n",
       "        vertical-align: top;\n",
       "    }\n",
       "\n",
       "    .dataframe thead th {\n",
       "        text-align: right;\n",
       "    }\n",
       "</style>\n",
       "<table border=\"1\" class=\"dataframe\">\n",
       "  <thead>\n",
       "    <tr style=\"text-align: right;\">\n",
       "      <th></th>\n",
       "      <th>t_dat</th>\n",
       "      <th>customer_id</th>\n",
       "      <th>article_id</th>\n",
       "      <th>price</th>\n",
       "      <th>sales_channel_id</th>\n",
       "      <th>year</th>\n",
       "      <th>month</th>\n",
       "      <th>week_since</th>\n",
       "    </tr>\n",
       "  </thead>\n",
       "  <tbody>\n",
       "    <tr>\n",
       "      <th>86</th>\n",
       "      <td>2018-09-20</td>\n",
       "      <td>00609a1cc562140fa87a6de432bef9c9f0b936b259ad30...</td>\n",
       "      <td>673677002</td>\n",
       "      <td>0.016932</td>\n",
       "      <td>2</td>\n",
       "      <td>2018</td>\n",
       "      <td>9</td>\n",
       "      <td>104</td>\n",
       "    </tr>\n",
       "    <tr>\n",
       "      <th>88</th>\n",
       "      <td>2018-09-20</td>\n",
       "      <td>00609a1cc562140fa87a6de432bef9c9f0b936b259ad30...</td>\n",
       "      <td>611415001</td>\n",
       "      <td>0.016932</td>\n",
       "      <td>2</td>\n",
       "      <td>2018</td>\n",
       "      <td>9</td>\n",
       "      <td>104</td>\n",
       "    </tr>\n",
       "    <tr>\n",
       "      <th>112</th>\n",
       "      <td>2018-09-20</td>\n",
       "      <td>008a118b7c72fd3b8a614eb2672ddfc2a78434c5776af2...</td>\n",
       "      <td>578476001</td>\n",
       "      <td>0.048288</td>\n",
       "      <td>1</td>\n",
       "      <td>2018</td>\n",
       "      <td>9</td>\n",
       "      <td>104</td>\n",
       "    </tr>\n",
       "    <tr>\n",
       "      <th>130</th>\n",
       "      <td>2018-09-20</td>\n",
       "      <td>00ac5119d21281802ecd309e8c7fa0b598e0be861f21ca...</td>\n",
       "      <td>610776002</td>\n",
       "      <td>0.008458</td>\n",
       "      <td>2</td>\n",
       "      <td>2018</td>\n",
       "      <td>9</td>\n",
       "      <td>104</td>\n",
       "    </tr>\n",
       "    <tr>\n",
       "      <th>160</th>\n",
       "      <td>2018-09-20</td>\n",
       "      <td>00cf4505ba84c01f03c47829352054483acb59a9492ed0...</td>\n",
       "      <td>179208001</td>\n",
       "      <td>0.016932</td>\n",
       "      <td>2</td>\n",
       "      <td>2018</td>\n",
       "      <td>9</td>\n",
       "      <td>104</td>\n",
       "    </tr>\n",
       "    <tr>\n",
       "      <th>...</th>\n",
       "      <td>...</td>\n",
       "      <td>...</td>\n",
       "      <td>...</td>\n",
       "      <td>...</td>\n",
       "      <td>...</td>\n",
       "      <td>...</td>\n",
       "      <td>...</td>\n",
       "      <td>...</td>\n",
       "    </tr>\n",
       "    <tr>\n",
       "      <th>31788317</th>\n",
       "      <td>2020-09-22</td>\n",
       "      <td>ffd4cf2217de4a0a3f9f610cdec334c803692a18af08ac...</td>\n",
       "      <td>902288001</td>\n",
       "      <td>0.022017</td>\n",
       "      <td>2</td>\n",
       "      <td>2020</td>\n",
       "      <td>9</td>\n",
       "      <td>0</td>\n",
       "    </tr>\n",
       "    <tr>\n",
       "      <th>31788318</th>\n",
       "      <td>2020-09-22</td>\n",
       "      <td>ffd4cf2217de4a0a3f9f610cdec334c803692a18af08ac...</td>\n",
       "      <td>856440002</td>\n",
       "      <td>0.042356</td>\n",
       "      <td>2</td>\n",
       "      <td>2020</td>\n",
       "      <td>9</td>\n",
       "      <td>0</td>\n",
       "    </tr>\n",
       "    <tr>\n",
       "      <th>31788319</th>\n",
       "      <td>2020-09-22</td>\n",
       "      <td>fff2282977442e327b45d8c89afde25617d00124d0f999...</td>\n",
       "      <td>929511001</td>\n",
       "      <td>0.059305</td>\n",
       "      <td>2</td>\n",
       "      <td>2020</td>\n",
       "      <td>9</td>\n",
       "      <td>0</td>\n",
       "    </tr>\n",
       "    <tr>\n",
       "      <th>31788320</th>\n",
       "      <td>2020-09-22</td>\n",
       "      <td>fff2282977442e327b45d8c89afde25617d00124d0f999...</td>\n",
       "      <td>891322004</td>\n",
       "      <td>0.042356</td>\n",
       "      <td>2</td>\n",
       "      <td>2020</td>\n",
       "      <td>9</td>\n",
       "      <td>0</td>\n",
       "    </tr>\n",
       "    <tr>\n",
       "      <th>31788323</th>\n",
       "      <td>2020-09-22</td>\n",
       "      <td>fffef3b6b73545df065b521e19f64bf6fe93bfd450ab20...</td>\n",
       "      <td>898573003</td>\n",
       "      <td>0.033881</td>\n",
       "      <td>2</td>\n",
       "      <td>2020</td>\n",
       "      <td>9</td>\n",
       "      <td>0</td>\n",
       "    </tr>\n",
       "  </tbody>\n",
       "</table>\n",
       "<p>2063653 rows × 8 columns</p>\n",
       "</div>"
      ],
      "text/plain": [
       "              t_dat                                        customer_id  \\\n",
       "86       2018-09-20  00609a1cc562140fa87a6de432bef9c9f0b936b259ad30...   \n",
       "88       2018-09-20  00609a1cc562140fa87a6de432bef9c9f0b936b259ad30...   \n",
       "112      2018-09-20  008a118b7c72fd3b8a614eb2672ddfc2a78434c5776af2...   \n",
       "130      2018-09-20  00ac5119d21281802ecd309e8c7fa0b598e0be861f21ca...   \n",
       "160      2018-09-20  00cf4505ba84c01f03c47829352054483acb59a9492ed0...   \n",
       "...             ...                                                ...   \n",
       "31788317 2020-09-22  ffd4cf2217de4a0a3f9f610cdec334c803692a18af08ac...   \n",
       "31788318 2020-09-22  ffd4cf2217de4a0a3f9f610cdec334c803692a18af08ac...   \n",
       "31788319 2020-09-22  fff2282977442e327b45d8c89afde25617d00124d0f999...   \n",
       "31788320 2020-09-22  fff2282977442e327b45d8c89afde25617d00124d0f999...   \n",
       "31788323 2020-09-22  fffef3b6b73545df065b521e19f64bf6fe93bfd450ab20...   \n",
       "\n",
       "          article_id     price  sales_channel_id  year  month  week_since  \n",
       "86         673677002  0.016932                 2  2018      9         104  \n",
       "88         611415001  0.016932                 2  2018      9         104  \n",
       "112        578476001  0.048288                 1  2018      9         104  \n",
       "130        610776002  0.008458                 2  2018      9         104  \n",
       "160        179208001  0.016932                 2  2018      9         104  \n",
       "...              ...       ...               ...   ...    ...         ...  \n",
       "31788317   902288001  0.022017                 2  2020      9           0  \n",
       "31788318   856440002  0.042356                 2  2020      9           0  \n",
       "31788319   929511001  0.059305                 2  2020      9           0  \n",
       "31788320   891322004  0.042356                 2  2020      9           0  \n",
       "31788323   898573003  0.033881                 2  2020      9           0  \n",
       "\n",
       "[2063653 rows x 8 columns]"
      ]
     },
     "execution_count": 57,
     "metadata": {},
     "output_type": "execute_result"
    }
   ],
   "source": [
    "freq_art_cust_trans = freq_cust_trans[freq_cust_trans['article_id'].isin(freq_art['article_id'])]\n",
    "freq_art_cust_trans"
   ]
  },
  {
   "cell_type": "code",
   "execution_count": 58,
   "id": "1315d7a2",
   "metadata": {},
   "outputs": [
    {
     "data": {
      "text/html": [
       "<div>\n",
       "<style scoped>\n",
       "    .dataframe tbody tr th:only-of-type {\n",
       "        vertical-align: middle;\n",
       "    }\n",
       "\n",
       "    .dataframe tbody tr th {\n",
       "        vertical-align: top;\n",
       "    }\n",
       "\n",
       "    .dataframe thead th {\n",
       "        text-align: right;\n",
       "    }\n",
       "</style>\n",
       "<table border=\"1\" class=\"dataframe\">\n",
       "  <thead>\n",
       "    <tr style=\"text-align: right;\">\n",
       "      <th></th>\n",
       "      <th>article_id</th>\n",
       "      <th>count_art</th>\n",
       "    </tr>\n",
       "  </thead>\n",
       "  <tbody>\n",
       "    <tr>\n",
       "      <th>0</th>\n",
       "      <td>751471001</td>\n",
       "      <td>2703</td>\n",
       "    </tr>\n",
       "    <tr>\n",
       "      <th>1</th>\n",
       "      <td>915526001</td>\n",
       "      <td>2340</td>\n",
       "    </tr>\n",
       "    <tr>\n",
       "      <th>2</th>\n",
       "      <td>915529003</td>\n",
       "      <td>2301</td>\n",
       "    </tr>\n",
       "    <tr>\n",
       "      <th>3</th>\n",
       "      <td>918292001</td>\n",
       "      <td>2233</td>\n",
       "    </tr>\n",
       "    <tr>\n",
       "      <th>4</th>\n",
       "      <td>751471043</td>\n",
       "      <td>2214</td>\n",
       "    </tr>\n",
       "    <tr>\n",
       "      <th>5</th>\n",
       "      <td>706016001</td>\n",
       "      <td>2166</td>\n",
       "    </tr>\n",
       "    <tr>\n",
       "      <th>6</th>\n",
       "      <td>898694001</td>\n",
       "      <td>2029</td>\n",
       "    </tr>\n",
       "    <tr>\n",
       "      <th>7</th>\n",
       "      <td>448509014</td>\n",
       "      <td>1925</td>\n",
       "    </tr>\n",
       "    <tr>\n",
       "      <th>8</th>\n",
       "      <td>909370001</td>\n",
       "      <td>1868</td>\n",
       "    </tr>\n",
       "    <tr>\n",
       "      <th>9</th>\n",
       "      <td>863595006</td>\n",
       "      <td>1772</td>\n",
       "    </tr>\n",
       "    <tr>\n",
       "      <th>10</th>\n",
       "      <td>924243001</td>\n",
       "      <td>1705</td>\n",
       "    </tr>\n",
       "    <tr>\n",
       "      <th>11</th>\n",
       "      <td>918522001</td>\n",
       "      <td>1702</td>\n",
       "    </tr>\n",
       "  </tbody>\n",
       "</table>\n",
       "</div>"
      ],
      "text/plain": [
       "    article_id  count_art\n",
       "0    751471001       2703\n",
       "1    915526001       2340\n",
       "2    915529003       2301\n",
       "3    918292001       2233\n",
       "4    751471043       2214\n",
       "5    706016001       2166\n",
       "6    898694001       2029\n",
       "7    448509014       1925\n",
       "8    909370001       1868\n",
       "9    863595006       1772\n",
       "10   924243001       1705\n",
       "11   918522001       1702"
      ]
     },
     "execution_count": 58,
     "metadata": {},
     "output_type": "execute_result"
    }
   ],
   "source": [
    "# Last week Top 12 Arilces\n",
    "top12_last_m= last_month_transactions[\"article_id\"].value_counts().reset_index()\n",
    "\n",
    "top12_last_m.columns= ['article_id','count_art']\n",
    "top12_last_m = top12_last_m[0:12]\n",
    "top12_last_m"
   ]
  },
  {
   "cell_type": "code",
   "execution_count": 59,
   "id": "526e1d26",
   "metadata": {},
   "outputs": [
    {
     "name": "stdout",
     "output_type": "stream",
     "text": [
      "Last week's top 12 popular items:\n",
      " 0924243001 0924243002 0918522001 0923758001 0866731001 0909370001 0751471001 0915529003 0915529005 0448509014 0762846027 0714790020\n"
     ]
    }
   ],
   "source": [
    "df_train_original = last_month_transactions.loc[last_month_transactions['week_since'] == 0 ]\n",
    "top12 = ' 0' + ' 0'.join(df_train_original['article_id'].value_counts().index.astype('str')[:12])\n",
    "print(\"Last week's top 12 popular items:\")\n",
    "print( top12 )"
   ]
  },
  {
   "cell_type": "markdown",
   "id": "4c2ee7c6",
   "metadata": {
    "heading_collapsed": true
   },
   "source": [
    "## Merging  Datas"
   ]
  },
  {
   "cell_type": "code",
   "execution_count": 60,
   "id": "a31942fc",
   "metadata": {
    "execution": {
     "iopub.execute_input": "2022-03-30T03:54:21.594606Z",
     "iopub.status.busy": "2022-03-30T03:54:21.593591Z",
     "iopub.status.idle": "2022-03-30T03:54:22.032550Z",
     "shell.execute_reply": "2022-03-30T03:54:22.031418Z",
     "shell.execute_reply.started": "2022-03-30T03:54:21.594548Z"
    },
    "hidden": true
   },
   "outputs": [],
   "source": [
    "freq_customers=customers[customers['customer_id'].isin(freq_art_cust_trans['customer_id'])]\n",
    "freq_articles=articles[articles['article_id'].isin(freq_art_cust_trans['article_id'])]"
   ]
  },
  {
   "cell_type": "code",
   "execution_count": 61,
   "id": "4b844670",
   "metadata": {
    "execution": {
     "iopub.execute_input": "2022-03-30T04:02:09.400305Z",
     "iopub.status.busy": "2022-03-30T04:02:09.399960Z",
     "iopub.status.idle": "2022-03-30T04:02:09.510694Z",
     "shell.execute_reply": "2022-03-30T04:02:09.509721Z",
     "shell.execute_reply.started": "2022-03-30T04:02:09.400271Z"
    },
    "hidden": true
   },
   "outputs": [
    {
     "data": {
      "text/html": [
       "<div>\n",
       "<style scoped>\n",
       "    .dataframe tbody tr th:only-of-type {\n",
       "        vertical-align: middle;\n",
       "    }\n",
       "\n",
       "    .dataframe tbody tr th {\n",
       "        vertical-align: top;\n",
       "    }\n",
       "\n",
       "    .dataframe thead th {\n",
       "        text-align: right;\n",
       "    }\n",
       "</style>\n",
       "<table border=\"1\" class=\"dataframe\">\n",
       "  <thead>\n",
       "    <tr style=\"text-align: right;\">\n",
       "      <th></th>\n",
       "      <th>t_dat</th>\n",
       "      <th>customer_id</th>\n",
       "      <th>article_id</th>\n",
       "      <th>price</th>\n",
       "      <th>sales_channel_id</th>\n",
       "      <th>year</th>\n",
       "      <th>month</th>\n",
       "      <th>week_since</th>\n",
       "      <th>club_member_status</th>\n",
       "      <th>fashion_news_frequency</th>\n",
       "      <th>...</th>\n",
       "      <th>product_type_name</th>\n",
       "      <th>product_group_name</th>\n",
       "      <th>graphical_appearance_name</th>\n",
       "      <th>colour_group_name</th>\n",
       "      <th>perceived_colour_value_name</th>\n",
       "      <th>perceived_colour_master_name</th>\n",
       "      <th>index_name</th>\n",
       "      <th>index_group_name</th>\n",
       "      <th>section_name</th>\n",
       "      <th>garment_group_name</th>\n",
       "    </tr>\n",
       "  </thead>\n",
       "  <tbody>\n",
       "    <tr>\n",
       "      <th>0</th>\n",
       "      <td>2018-09-20</td>\n",
       "      <td>00609a1cc562140fa87a6de432bef9c9f0b936b259ad30...</td>\n",
       "      <td>673677002</td>\n",
       "      <td>0.016932</td>\n",
       "      <td>2</td>\n",
       "      <td>2018</td>\n",
       "      <td>9</td>\n",
       "      <td>104</td>\n",
       "      <td>ACTIVE</td>\n",
       "      <td>None</td>\n",
       "      <td>...</td>\n",
       "      <td>Sweater</td>\n",
       "      <td>Garment Upper body</td>\n",
       "      <td>Solid</td>\n",
       "      <td>Black</td>\n",
       "      <td>Dark</td>\n",
       "      <td>Black</td>\n",
       "      <td>Ladieswear</td>\n",
       "      <td>Ladieswear</td>\n",
       "      <td>Womens Tailoring</td>\n",
       "      <td>Knitwear</td>\n",
       "    </tr>\n",
       "    <tr>\n",
       "      <th>1</th>\n",
       "      <td>2019-09-28</td>\n",
       "      <td>00cf4505ba84c01f03c47829352054483acb59a9492ed0...</td>\n",
       "      <td>673677002</td>\n",
       "      <td>0.020322</td>\n",
       "      <td>2</td>\n",
       "      <td>2019</td>\n",
       "      <td>9</td>\n",
       "      <td>51</td>\n",
       "      <td>ACTIVE</td>\n",
       "      <td>None</td>\n",
       "      <td>...</td>\n",
       "      <td>Sweater</td>\n",
       "      <td>Garment Upper body</td>\n",
       "      <td>Solid</td>\n",
       "      <td>Black</td>\n",
       "      <td>Dark</td>\n",
       "      <td>Black</td>\n",
       "      <td>Ladieswear</td>\n",
       "      <td>Ladieswear</td>\n",
       "      <td>Womens Tailoring</td>\n",
       "      <td>Knitwear</td>\n",
       "    </tr>\n",
       "    <tr>\n",
       "      <th>2</th>\n",
       "      <td>2018-09-20</td>\n",
       "      <td>01959be607170cc2f092ee8fd13eda251b13cde70ef38d...</td>\n",
       "      <td>673677002</td>\n",
       "      <td>0.015237</td>\n",
       "      <td>1</td>\n",
       "      <td>2018</td>\n",
       "      <td>9</td>\n",
       "      <td>104</td>\n",
       "      <td>ACTIVE</td>\n",
       "      <td>Regularly</td>\n",
       "      <td>...</td>\n",
       "      <td>Sweater</td>\n",
       "      <td>Garment Upper body</td>\n",
       "      <td>Solid</td>\n",
       "      <td>Black</td>\n",
       "      <td>Dark</td>\n",
       "      <td>Black</td>\n",
       "      <td>Ladieswear</td>\n",
       "      <td>Ladieswear</td>\n",
       "      <td>Womens Tailoring</td>\n",
       "      <td>Knitwear</td>\n",
       "    </tr>\n",
       "  </tbody>\n",
       "</table>\n",
       "<p>3 rows × 21 columns</p>\n",
       "</div>"
      ],
      "text/plain": [
       "       t_dat                                        customer_id  article_id  \\\n",
       "0 2018-09-20  00609a1cc562140fa87a6de432bef9c9f0b936b259ad30...   673677002   \n",
       "1 2019-09-28  00cf4505ba84c01f03c47829352054483acb59a9492ed0...   673677002   \n",
       "2 2018-09-20  01959be607170cc2f092ee8fd13eda251b13cde70ef38d...   673677002   \n",
       "\n",
       "      price  sales_channel_id  year  month  week_since club_member_status  \\\n",
       "0  0.016932                 2  2018      9         104             ACTIVE   \n",
       "1  0.020322                 2  2019      9          51             ACTIVE   \n",
       "2  0.015237                 1  2018      9         104             ACTIVE   \n",
       "\n",
       "  fashion_news_frequency  ...  product_type_name  product_group_name  \\\n",
       "0                   None  ...            Sweater  Garment Upper body   \n",
       "1                   None  ...            Sweater  Garment Upper body   \n",
       "2              Regularly  ...            Sweater  Garment Upper body   \n",
       "\n",
       "  graphical_appearance_name colour_group_name perceived_colour_value_name  \\\n",
       "0                     Solid             Black                        Dark   \n",
       "1                     Solid             Black                        Dark   \n",
       "2                     Solid             Black                        Dark   \n",
       "\n",
       "  perceived_colour_master_name  index_name index_group_name      section_name  \\\n",
       "0                        Black  Ladieswear       Ladieswear  Womens Tailoring   \n",
       "1                        Black  Ladieswear       Ladieswear  Womens Tailoring   \n",
       "2                        Black  Ladieswear       Ladieswear  Womens Tailoring   \n",
       "\n",
       "  garment_group_name  \n",
       "0           Knitwear  \n",
       "1           Knitwear  \n",
       "2           Knitwear  \n",
       "\n",
       "[3 rows x 21 columns]"
      ]
     },
     "execution_count": 61,
     "metadata": {},
     "output_type": "execute_result"
    }
   ],
   "source": [
    "freq_info = freq_art_cust_trans.merge(freq_customers,on='customer_id').merge(freq_articles,on='article_id')\n",
    "freq_info.head(3)"
   ]
  },
  {
   "cell_type": "code",
   "execution_count": 62,
   "id": "53d92bbd",
   "metadata": {
    "execution": {
     "iopub.execute_input": "2022-03-30T04:29:44.955235Z",
     "iopub.status.busy": "2022-03-30T04:29:44.954903Z",
     "iopub.status.idle": "2022-03-30T04:29:45.072479Z",
     "shell.execute_reply": "2022-03-30T04:29:45.071509Z",
     "shell.execute_reply.started": "2022-03-30T04:29:44.955203Z"
    },
    "hidden": true,
    "scrolled": true
   },
   "outputs": [
    {
     "data": {
      "text/html": [
       "<div>\n",
       "<style scoped>\n",
       "    .dataframe tbody tr th:only-of-type {\n",
       "        vertical-align: middle;\n",
       "    }\n",
       "\n",
       "    .dataframe tbody tr th {\n",
       "        vertical-align: top;\n",
       "    }\n",
       "\n",
       "    .dataframe thead th {\n",
       "        text-align: right;\n",
       "    }\n",
       "</style>\n",
       "<table border=\"1\" class=\"dataframe\">\n",
       "  <thead>\n",
       "    <tr style=\"text-align: right;\">\n",
       "      <th></th>\n",
       "      <th>t_dat</th>\n",
       "      <th>customer_id</th>\n",
       "      <th>article_id</th>\n",
       "      <th>price</th>\n",
       "      <th>sales_channel_id</th>\n",
       "      <th>year</th>\n",
       "      <th>month</th>\n",
       "      <th>week_since</th>\n",
       "      <th>club_member_status</th>\n",
       "      <th>fashion_news_frequency</th>\n",
       "      <th>...</th>\n",
       "      <th>product_type_name</th>\n",
       "      <th>product_group_name</th>\n",
       "      <th>graphical_appearance_name</th>\n",
       "      <th>colour_group_name</th>\n",
       "      <th>perceived_colour_value_name</th>\n",
       "      <th>perceived_colour_master_name</th>\n",
       "      <th>index_name</th>\n",
       "      <th>index_group_name</th>\n",
       "      <th>section_name</th>\n",
       "      <th>garment_group_name</th>\n",
       "    </tr>\n",
       "  </thead>\n",
       "  <tbody>\n",
       "    <tr>\n",
       "      <th>0</th>\n",
       "      <td>2018-09-20</td>\n",
       "      <td>00609a1cc562140fa87a6de432bef9c9f0b936b259ad30...</td>\n",
       "      <td>673677002</td>\n",
       "      <td>0.016932</td>\n",
       "      <td>2</td>\n",
       "      <td>2018</td>\n",
       "      <td>9</td>\n",
       "      <td>104</td>\n",
       "      <td>ACTIVE</td>\n",
       "      <td>None</td>\n",
       "      <td>...</td>\n",
       "      <td>Sweater</td>\n",
       "      <td>Garment Upper body</td>\n",
       "      <td>Solid</td>\n",
       "      <td>Black</td>\n",
       "      <td>Dark</td>\n",
       "      <td>Black</td>\n",
       "      <td>Ladieswear</td>\n",
       "      <td>Ladieswear</td>\n",
       "      <td>Womens Tailoring</td>\n",
       "      <td>Knitwear</td>\n",
       "    </tr>\n",
       "    <tr>\n",
       "      <th>1</th>\n",
       "      <td>2019-09-28</td>\n",
       "      <td>00cf4505ba84c01f03c47829352054483acb59a9492ed0...</td>\n",
       "      <td>673677002</td>\n",
       "      <td>0.020322</td>\n",
       "      <td>2</td>\n",
       "      <td>2019</td>\n",
       "      <td>9</td>\n",
       "      <td>51</td>\n",
       "      <td>ACTIVE</td>\n",
       "      <td>None</td>\n",
       "      <td>...</td>\n",
       "      <td>Sweater</td>\n",
       "      <td>Garment Upper body</td>\n",
       "      <td>Solid</td>\n",
       "      <td>Black</td>\n",
       "      <td>Dark</td>\n",
       "      <td>Black</td>\n",
       "      <td>Ladieswear</td>\n",
       "      <td>Ladieswear</td>\n",
       "      <td>Womens Tailoring</td>\n",
       "      <td>Knitwear</td>\n",
       "    </tr>\n",
       "    <tr>\n",
       "      <th>2</th>\n",
       "      <td>2018-09-20</td>\n",
       "      <td>01959be607170cc2f092ee8fd13eda251b13cde70ef38d...</td>\n",
       "      <td>673677002</td>\n",
       "      <td>0.015237</td>\n",
       "      <td>1</td>\n",
       "      <td>2018</td>\n",
       "      <td>9</td>\n",
       "      <td>104</td>\n",
       "      <td>ACTIVE</td>\n",
       "      <td>Regularly</td>\n",
       "      <td>...</td>\n",
       "      <td>Sweater</td>\n",
       "      <td>Garment Upper body</td>\n",
       "      <td>Solid</td>\n",
       "      <td>Black</td>\n",
       "      <td>Dark</td>\n",
       "      <td>Black</td>\n",
       "      <td>Ladieswear</td>\n",
       "      <td>Ladieswear</td>\n",
       "      <td>Womens Tailoring</td>\n",
       "      <td>Knitwear</td>\n",
       "    </tr>\n",
       "    <tr>\n",
       "      <th>3</th>\n",
       "      <td>2020-09-13</td>\n",
       "      <td>05045a3934ec16ae1549c3f2309803963cf649ece8e102...</td>\n",
       "      <td>673677002</td>\n",
       "      <td>0.025136</td>\n",
       "      <td>2</td>\n",
       "      <td>2020</td>\n",
       "      <td>9</td>\n",
       "      <td>1</td>\n",
       "      <td>ACTIVE</td>\n",
       "      <td>None</td>\n",
       "      <td>...</td>\n",
       "      <td>Sweater</td>\n",
       "      <td>Garment Upper body</td>\n",
       "      <td>Solid</td>\n",
       "      <td>Black</td>\n",
       "      <td>Dark</td>\n",
       "      <td>Black</td>\n",
       "      <td>Ladieswear</td>\n",
       "      <td>Ladieswear</td>\n",
       "      <td>Womens Tailoring</td>\n",
       "      <td>Knitwear</td>\n",
       "    </tr>\n",
       "    <tr>\n",
       "      <th>4</th>\n",
       "      <td>2018-09-20</td>\n",
       "      <td>08519dc5924824ca78ad845bcb7f29b16c280885cb00f2...</td>\n",
       "      <td>673677002</td>\n",
       "      <td>0.016932</td>\n",
       "      <td>2</td>\n",
       "      <td>2018</td>\n",
       "      <td>9</td>\n",
       "      <td>104</td>\n",
       "      <td>ACTIVE</td>\n",
       "      <td>Regularly</td>\n",
       "      <td>...</td>\n",
       "      <td>Sweater</td>\n",
       "      <td>Garment Upper body</td>\n",
       "      <td>Solid</td>\n",
       "      <td>Black</td>\n",
       "      <td>Dark</td>\n",
       "      <td>Black</td>\n",
       "      <td>Ladieswear</td>\n",
       "      <td>Ladieswear</td>\n",
       "      <td>Womens Tailoring</td>\n",
       "      <td>Knitwear</td>\n",
       "    </tr>\n",
       "    <tr>\n",
       "      <th>...</th>\n",
       "      <td>...</td>\n",
       "      <td>...</td>\n",
       "      <td>...</td>\n",
       "      <td>...</td>\n",
       "      <td>...</td>\n",
       "      <td>...</td>\n",
       "      <td>...</td>\n",
       "      <td>...</td>\n",
       "      <td>...</td>\n",
       "      <td>...</td>\n",
       "      <td>...</td>\n",
       "      <td>...</td>\n",
       "      <td>...</td>\n",
       "      <td>...</td>\n",
       "      <td>...</td>\n",
       "      <td>...</td>\n",
       "      <td>...</td>\n",
       "      <td>...</td>\n",
       "      <td>...</td>\n",
       "      <td>...</td>\n",
       "      <td>...</td>\n",
       "    </tr>\n",
       "    <tr>\n",
       "      <th>2063648</th>\n",
       "      <td>2020-09-07</td>\n",
       "      <td>9625c128432f8402a904e2514d453aefb657558801c160...</td>\n",
       "      <td>903824003</td>\n",
       "      <td>0.050831</td>\n",
       "      <td>1</td>\n",
       "      <td>2020</td>\n",
       "      <td>9</td>\n",
       "      <td>2</td>\n",
       "      <td>ACTIVE</td>\n",
       "      <td>Regularly</td>\n",
       "      <td>...</td>\n",
       "      <td>Sweater</td>\n",
       "      <td>Garment Upper body</td>\n",
       "      <td>Other structure</td>\n",
       "      <td>Red</td>\n",
       "      <td>Medium Dusty</td>\n",
       "      <td>Red</td>\n",
       "      <td>Ladieswear</td>\n",
       "      <td>Ladieswear</td>\n",
       "      <td>Womens Tailoring</td>\n",
       "      <td>Knitwear</td>\n",
       "    </tr>\n",
       "    <tr>\n",
       "      <th>2063649</th>\n",
       "      <td>2020-09-10</td>\n",
       "      <td>71ee93546889e05b7de379cd0f9fe92aa857a5c7263276...</td>\n",
       "      <td>903824003</td>\n",
       "      <td>0.044051</td>\n",
       "      <td>1</td>\n",
       "      <td>2020</td>\n",
       "      <td>9</td>\n",
       "      <td>1</td>\n",
       "      <td>ACTIVE</td>\n",
       "      <td>None</td>\n",
       "      <td>...</td>\n",
       "      <td>Sweater</td>\n",
       "      <td>Garment Upper body</td>\n",
       "      <td>Other structure</td>\n",
       "      <td>Red</td>\n",
       "      <td>Medium Dusty</td>\n",
       "      <td>Red</td>\n",
       "      <td>Ladieswear</td>\n",
       "      <td>Ladieswear</td>\n",
       "      <td>Womens Tailoring</td>\n",
       "      <td>Knitwear</td>\n",
       "    </tr>\n",
       "    <tr>\n",
       "      <th>2063650</th>\n",
       "      <td>2020-09-12</td>\n",
       "      <td>59e536939efb37b10d63072e12581ea74df0d77e7a00f6...</td>\n",
       "      <td>903824003</td>\n",
       "      <td>0.048237</td>\n",
       "      <td>1</td>\n",
       "      <td>2020</td>\n",
       "      <td>9</td>\n",
       "      <td>1</td>\n",
       "      <td>ACTIVE</td>\n",
       "      <td>None</td>\n",
       "      <td>...</td>\n",
       "      <td>Sweater</td>\n",
       "      <td>Garment Upper body</td>\n",
       "      <td>Other structure</td>\n",
       "      <td>Red</td>\n",
       "      <td>Medium Dusty</td>\n",
       "      <td>Red</td>\n",
       "      <td>Ladieswear</td>\n",
       "      <td>Ladieswear</td>\n",
       "      <td>Womens Tailoring</td>\n",
       "      <td>Knitwear</td>\n",
       "    </tr>\n",
       "    <tr>\n",
       "      <th>2063651</th>\n",
       "      <td>2020-09-20</td>\n",
       "      <td>77a299dd2e978509d36b6cd104fa8e7078da8303d89957...</td>\n",
       "      <td>903824003</td>\n",
       "      <td>0.050831</td>\n",
       "      <td>1</td>\n",
       "      <td>2020</td>\n",
       "      <td>9</td>\n",
       "      <td>0</td>\n",
       "      <td>ACTIVE</td>\n",
       "      <td>Regularly</td>\n",
       "      <td>...</td>\n",
       "      <td>Sweater</td>\n",
       "      <td>Garment Upper body</td>\n",
       "      <td>Other structure</td>\n",
       "      <td>Red</td>\n",
       "      <td>Medium Dusty</td>\n",
       "      <td>Red</td>\n",
       "      <td>Ladieswear</td>\n",
       "      <td>Ladieswear</td>\n",
       "      <td>Womens Tailoring</td>\n",
       "      <td>Knitwear</td>\n",
       "    </tr>\n",
       "    <tr>\n",
       "      <th>2063652</th>\n",
       "      <td>2020-09-21</td>\n",
       "      <td>9066a1dfb73d291febc3f9803dcb9d1408339d1b52f457...</td>\n",
       "      <td>903824003</td>\n",
       "      <td>0.050831</td>\n",
       "      <td>1</td>\n",
       "      <td>2020</td>\n",
       "      <td>9</td>\n",
       "      <td>0</td>\n",
       "      <td>ACTIVE</td>\n",
       "      <td>Regularly</td>\n",
       "      <td>...</td>\n",
       "      <td>Sweater</td>\n",
       "      <td>Garment Upper body</td>\n",
       "      <td>Other structure</td>\n",
       "      <td>Red</td>\n",
       "      <td>Medium Dusty</td>\n",
       "      <td>Red</td>\n",
       "      <td>Ladieswear</td>\n",
       "      <td>Ladieswear</td>\n",
       "      <td>Womens Tailoring</td>\n",
       "      <td>Knitwear</td>\n",
       "    </tr>\n",
       "  </tbody>\n",
       "</table>\n",
       "<p>1808228 rows × 21 columns</p>\n",
       "</div>"
      ],
      "text/plain": [
       "             t_dat                                        customer_id  \\\n",
       "0       2018-09-20  00609a1cc562140fa87a6de432bef9c9f0b936b259ad30...   \n",
       "1       2019-09-28  00cf4505ba84c01f03c47829352054483acb59a9492ed0...   \n",
       "2       2018-09-20  01959be607170cc2f092ee8fd13eda251b13cde70ef38d...   \n",
       "3       2020-09-13  05045a3934ec16ae1549c3f2309803963cf649ece8e102...   \n",
       "4       2018-09-20  08519dc5924824ca78ad845bcb7f29b16c280885cb00f2...   \n",
       "...            ...                                                ...   \n",
       "2063648 2020-09-07  9625c128432f8402a904e2514d453aefb657558801c160...   \n",
       "2063649 2020-09-10  71ee93546889e05b7de379cd0f9fe92aa857a5c7263276...   \n",
       "2063650 2020-09-12  59e536939efb37b10d63072e12581ea74df0d77e7a00f6...   \n",
       "2063651 2020-09-20  77a299dd2e978509d36b6cd104fa8e7078da8303d89957...   \n",
       "2063652 2020-09-21  9066a1dfb73d291febc3f9803dcb9d1408339d1b52f457...   \n",
       "\n",
       "         article_id     price  sales_channel_id  year  month  week_since  \\\n",
       "0         673677002  0.016932                 2  2018      9         104   \n",
       "1         673677002  0.020322                 2  2019      9          51   \n",
       "2         673677002  0.015237                 1  2018      9         104   \n",
       "3         673677002  0.025136                 2  2020      9           1   \n",
       "4         673677002  0.016932                 2  2018      9         104   \n",
       "...             ...       ...               ...   ...    ...         ...   \n",
       "2063648   903824003  0.050831                 1  2020      9           2   \n",
       "2063649   903824003  0.044051                 1  2020      9           1   \n",
       "2063650   903824003  0.048237                 1  2020      9           1   \n",
       "2063651   903824003  0.050831                 1  2020      9           0   \n",
       "2063652   903824003  0.050831                 1  2020      9           0   \n",
       "\n",
       "        club_member_status fashion_news_frequency  ...  product_type_name  \\\n",
       "0                   ACTIVE                   None  ...            Sweater   \n",
       "1                   ACTIVE                   None  ...            Sweater   \n",
       "2                   ACTIVE              Regularly  ...            Sweater   \n",
       "3                   ACTIVE                   None  ...            Sweater   \n",
       "4                   ACTIVE              Regularly  ...            Sweater   \n",
       "...                    ...                    ...  ...                ...   \n",
       "2063648             ACTIVE              Regularly  ...            Sweater   \n",
       "2063649             ACTIVE                   None  ...            Sweater   \n",
       "2063650             ACTIVE                   None  ...            Sweater   \n",
       "2063651             ACTIVE              Regularly  ...            Sweater   \n",
       "2063652             ACTIVE              Regularly  ...            Sweater   \n",
       "\n",
       "         product_group_name graphical_appearance_name colour_group_name  \\\n",
       "0        Garment Upper body                     Solid             Black   \n",
       "1        Garment Upper body                     Solid             Black   \n",
       "2        Garment Upper body                     Solid             Black   \n",
       "3        Garment Upper body                     Solid             Black   \n",
       "4        Garment Upper body                     Solid             Black   \n",
       "...                     ...                       ...               ...   \n",
       "2063648  Garment Upper body           Other structure               Red   \n",
       "2063649  Garment Upper body           Other structure               Red   \n",
       "2063650  Garment Upper body           Other structure               Red   \n",
       "2063651  Garment Upper body           Other structure               Red   \n",
       "2063652  Garment Upper body           Other structure               Red   \n",
       "\n",
       "        perceived_colour_value_name perceived_colour_master_name  index_name  \\\n",
       "0                              Dark                        Black  Ladieswear   \n",
       "1                              Dark                        Black  Ladieswear   \n",
       "2                              Dark                        Black  Ladieswear   \n",
       "3                              Dark                        Black  Ladieswear   \n",
       "4                              Dark                        Black  Ladieswear   \n",
       "...                             ...                          ...         ...   \n",
       "2063648                Medium Dusty                          Red  Ladieswear   \n",
       "2063649                Medium Dusty                          Red  Ladieswear   \n",
       "2063650                Medium Dusty                          Red  Ladieswear   \n",
       "2063651                Medium Dusty                          Red  Ladieswear   \n",
       "2063652                Medium Dusty                          Red  Ladieswear   \n",
       "\n",
       "        index_group_name      section_name garment_group_name  \n",
       "0             Ladieswear  Womens Tailoring           Knitwear  \n",
       "1             Ladieswear  Womens Tailoring           Knitwear  \n",
       "2             Ladieswear  Womens Tailoring           Knitwear  \n",
       "3             Ladieswear  Womens Tailoring           Knitwear  \n",
       "4             Ladieswear  Womens Tailoring           Knitwear  \n",
       "...                  ...               ...                ...  \n",
       "2063648       Ladieswear  Womens Tailoring           Knitwear  \n",
       "2063649       Ladieswear  Womens Tailoring           Knitwear  \n",
       "2063650       Ladieswear  Womens Tailoring           Knitwear  \n",
       "2063651       Ladieswear  Womens Tailoring           Knitwear  \n",
       "2063652       Ladieswear  Womens Tailoring           Knitwear  \n",
       "\n",
       "[1808228 rows x 21 columns]"
      ]
     },
     "execution_count": 62,
     "metadata": {},
     "output_type": "execute_result"
    }
   ],
   "source": [
    "freq_infoo=freq_info.dropna()\n",
    "freq_infoo=freq_info.drop_duplicates()\n",
    "freq_infoo"
   ]
  },
  {
   "cell_type": "code",
   "execution_count": 63,
   "id": "5a4d8ebe",
   "metadata": {
    "hidden": true
   },
   "outputs": [
    {
     "data": {
      "text/plain": [
       "16.0"
      ]
     },
     "execution_count": 63,
     "metadata": {},
     "output_type": "execute_result"
    }
   ],
   "source": [
    "freq_infoo[\"age\"].min()"
   ]
  },
  {
   "cell_type": "code",
   "execution_count": 64,
   "id": "a2336e2b",
   "metadata": {
    "hidden": true
   },
   "outputs": [
    {
     "data": {
      "text/plain": [
       "99.0"
      ]
     },
     "execution_count": 64,
     "metadata": {},
     "output_type": "execute_result"
    }
   ],
   "source": [
    "freq_infoo[\"age\"].max()"
   ]
  },
  {
   "cell_type": "code",
   "execution_count": 65,
   "id": "84a2158f",
   "metadata": {
    "hidden": true
   },
   "outputs": [],
   "source": [
    "def get_age(age):\n",
    "    if 16 <= age < 25:\n",
    "        return \"16-24\"\n",
    "    elif 25 <= age < 35:\n",
    "        return \"25-34\"\n",
    "    elif 35 <= age < 45:\n",
    "        return \"35-44\"\n",
    "    elif 45 <= age < 55:\n",
    "        return \"45-54\"\n",
    "    elif 55 <= age < 65:\n",
    "        return \"55-64\"\n",
    "    else:\n",
    "        return \"64+\""
   ]
  },
  {
   "cell_type": "code",
   "execution_count": 66,
   "id": "53da0d19",
   "metadata": {
    "hidden": true
   },
   "outputs": [],
   "source": [
    "freq_infoo[\"age_range\"] = freq_infoo[\"age\"].apply(get_age)"
   ]
  },
  {
   "cell_type": "code",
   "execution_count": 67,
   "id": "609c5a69",
   "metadata": {
    "hidden": true
   },
   "outputs": [],
   "source": [
    "freq_infoo = freq_infoo.drop([\"age\"], axis=1)"
   ]
  },
  {
   "cell_type": "code",
   "execution_count": 68,
   "id": "4d4603fd",
   "metadata": {
    "hidden": true
   },
   "outputs": [],
   "source": [
    "freq_infoo_price = (freq_infoo.groupby([\"article_id\"]).agg({\"price\": [\"min\", \"max\", \"mean\", \"std\"]}))\n",
    "\n",
    "freq_infoo_price.columns = freq_infoo_price.columns.map(lambda x: \"_\".join(x))\n",
    "\n",
    "freq_infoo_price = freq_infoo_price.fillna(0.0)"
   ]
  },
  {
   "cell_type": "code",
   "execution_count": 69,
   "id": "bbb87ce9",
   "metadata": {
    "hidden": true
   },
   "outputs": [
    {
     "data": {
      "text/html": [
       "<div>\n",
       "<style scoped>\n",
       "    .dataframe tbody tr th:only-of-type {\n",
       "        vertical-align: middle;\n",
       "    }\n",
       "\n",
       "    .dataframe tbody tr th {\n",
       "        vertical-align: top;\n",
       "    }\n",
       "\n",
       "    .dataframe thead th {\n",
       "        text-align: right;\n",
       "    }\n",
       "</style>\n",
       "<table border=\"1\" class=\"dataframe\">\n",
       "  <thead>\n",
       "    <tr style=\"text-align: right;\">\n",
       "      <th></th>\n",
       "      <th>price_min</th>\n",
       "      <th>price_max</th>\n",
       "      <th>price_mean</th>\n",
       "      <th>price_std</th>\n",
       "    </tr>\n",
       "    <tr>\n",
       "      <th>article_id</th>\n",
       "      <th></th>\n",
       "      <th></th>\n",
       "      <th></th>\n",
       "      <th></th>\n",
       "    </tr>\n",
       "  </thead>\n",
       "  <tbody>\n",
       "    <tr>\n",
       "      <th>111586001</th>\n",
       "      <td>0.001339</td>\n",
       "      <td>0.016983</td>\n",
       "      <td>0.012322</td>\n",
       "      <td>0.002713</td>\n",
       "    </tr>\n",
       "    <tr>\n",
       "      <th>111593001</th>\n",
       "      <td>0.002814</td>\n",
       "      <td>0.016932</td>\n",
       "      <td>0.012386</td>\n",
       "      <td>0.002715</td>\n",
       "    </tr>\n",
       "    <tr>\n",
       "      <th>123173001</th>\n",
       "      <td>0.001559</td>\n",
       "      <td>0.016932</td>\n",
       "      <td>0.012374</td>\n",
       "      <td>0.002867</td>\n",
       "    </tr>\n",
       "    <tr>\n",
       "      <th>148033001</th>\n",
       "      <td>0.000424</td>\n",
       "      <td>0.013542</td>\n",
       "      <td>0.011107</td>\n",
       "      <td>0.002464</td>\n",
       "    </tr>\n",
       "    <tr>\n",
       "      <th>156231001</th>\n",
       "      <td>0.001339</td>\n",
       "      <td>0.008458</td>\n",
       "      <td>0.006708</td>\n",
       "      <td>0.001560</td>\n",
       "    </tr>\n",
       "    <tr>\n",
       "      <th>...</th>\n",
       "      <td>...</td>\n",
       "      <td>...</td>\n",
       "      <td>...</td>\n",
       "      <td>...</td>\n",
       "    </tr>\n",
       "    <tr>\n",
       "      <th>937252001</th>\n",
       "      <td>0.114390</td>\n",
       "      <td>0.152525</td>\n",
       "      <td>0.149649</td>\n",
       "      <td>0.008392</td>\n",
       "    </tr>\n",
       "    <tr>\n",
       "      <th>938804001</th>\n",
       "      <td>0.043203</td>\n",
       "      <td>0.067780</td>\n",
       "      <td>0.065090</td>\n",
       "      <td>0.004923</td>\n",
       "    </tr>\n",
       "    <tr>\n",
       "      <th>942187001</th>\n",
       "      <td>0.013542</td>\n",
       "      <td>0.016932</td>\n",
       "      <td>0.016766</td>\n",
       "      <td>0.000515</td>\n",
       "    </tr>\n",
       "    <tr>\n",
       "      <th>944506001</th>\n",
       "      <td>0.016949</td>\n",
       "      <td>0.042356</td>\n",
       "      <td>0.041614</td>\n",
       "      <td>0.002620</td>\n",
       "    </tr>\n",
       "    <tr>\n",
       "      <th>949551001</th>\n",
       "      <td>0.024288</td>\n",
       "      <td>0.033881</td>\n",
       "      <td>0.033337</td>\n",
       "      <td>0.001540</td>\n",
       "    </tr>\n",
       "  </tbody>\n",
       "</table>\n",
       "<p>1587 rows × 4 columns</p>\n",
       "</div>"
      ],
      "text/plain": [
       "            price_min  price_max  price_mean  price_std\n",
       "article_id                                             \n",
       "111586001    0.001339   0.016983    0.012322   0.002713\n",
       "111593001    0.002814   0.016932    0.012386   0.002715\n",
       "123173001    0.001559   0.016932    0.012374   0.002867\n",
       "148033001    0.000424   0.013542    0.011107   0.002464\n",
       "156231001    0.001339   0.008458    0.006708   0.001560\n",
       "...               ...        ...         ...        ...\n",
       "937252001    0.114390   0.152525    0.149649   0.008392\n",
       "938804001    0.043203   0.067780    0.065090   0.004923\n",
       "942187001    0.013542   0.016932    0.016766   0.000515\n",
       "944506001    0.016949   0.042356    0.041614   0.002620\n",
       "949551001    0.024288   0.033881    0.033337   0.001540\n",
       "\n",
       "[1587 rows x 4 columns]"
      ]
     },
     "execution_count": 69,
     "metadata": {},
     "output_type": "execute_result"
    }
   ],
   "source": [
    "freq_infoo_price"
   ]
  },
  {
   "cell_type": "code",
   "execution_count": 70,
   "id": "2c80b85a",
   "metadata": {
    "hidden": true
   },
   "outputs": [
    {
     "data": {
      "text/html": [
       "<div>\n",
       "<style scoped>\n",
       "    .dataframe tbody tr th:only-of-type {\n",
       "        vertical-align: middle;\n",
       "    }\n",
       "\n",
       "    .dataframe tbody tr th {\n",
       "        vertical-align: top;\n",
       "    }\n",
       "\n",
       "    .dataframe thead th {\n",
       "        text-align: right;\n",
       "    }\n",
       "</style>\n",
       "<table border=\"1\" class=\"dataframe\">\n",
       "  <thead>\n",
       "    <tr style=\"text-align: right;\">\n",
       "      <th></th>\n",
       "      <th>article_id</th>\n",
       "      <th>art_mean_count_cust</th>\n",
       "    </tr>\n",
       "  </thead>\n",
       "  <tbody>\n",
       "    <tr>\n",
       "      <th>0</th>\n",
       "      <td>111586001</td>\n",
       "      <td>1.368181</td>\n",
       "    </tr>\n",
       "    <tr>\n",
       "      <th>1</th>\n",
       "      <td>111593001</td>\n",
       "      <td>1.428295</td>\n",
       "    </tr>\n",
       "    <tr>\n",
       "      <th>2</th>\n",
       "      <td>123173001</td>\n",
       "      <td>1.285387</td>\n",
       "    </tr>\n",
       "    <tr>\n",
       "      <th>3</th>\n",
       "      <td>148033001</td>\n",
       "      <td>1.249903</td>\n",
       "    </tr>\n",
       "    <tr>\n",
       "      <th>4</th>\n",
       "      <td>156231001</td>\n",
       "      <td>1.770887</td>\n",
       "    </tr>\n",
       "    <tr>\n",
       "      <th>...</th>\n",
       "      <td>...</td>\n",
       "      <td>...</td>\n",
       "    </tr>\n",
       "    <tr>\n",
       "      <th>1582</th>\n",
       "      <td>937252001</td>\n",
       "      <td>1.136000</td>\n",
       "    </tr>\n",
       "    <tr>\n",
       "      <th>1583</th>\n",
       "      <td>938804001</td>\n",
       "      <td>1.033435</td>\n",
       "    </tr>\n",
       "    <tr>\n",
       "      <th>1584</th>\n",
       "      <td>942187001</td>\n",
       "      <td>1.049550</td>\n",
       "    </tr>\n",
       "    <tr>\n",
       "      <th>1585</th>\n",
       "      <td>944506001</td>\n",
       "      <td>1.055046</td>\n",
       "    </tr>\n",
       "    <tr>\n",
       "      <th>1586</th>\n",
       "      <td>949551001</td>\n",
       "      <td>1.018182</td>\n",
       "    </tr>\n",
       "  </tbody>\n",
       "</table>\n",
       "<p>1587 rows × 2 columns</p>\n",
       "</div>"
      ],
      "text/plain": [
       "      article_id  art_mean_count_cust\n",
       "0      111586001             1.368181\n",
       "1      111593001             1.428295\n",
       "2      123173001             1.285387\n",
       "3      148033001             1.249903\n",
       "4      156231001             1.770887\n",
       "...          ...                  ...\n",
       "1582   937252001             1.136000\n",
       "1583   938804001             1.033435\n",
       "1584   942187001             1.049550\n",
       "1585   944506001             1.055046\n",
       "1586   949551001             1.018182\n",
       "\n",
       "[1587 rows x 2 columns]"
      ]
     },
     "execution_count": 70,
     "metadata": {},
     "output_type": "execute_result"
    }
   ],
   "source": [
    "freq_infoo_mean_cus_art = (freq_infoo.groupby([\"customer_id\", \"article_id\"]).size().groupby([\"article_id\"]).mean()\n",
    "        .reset_index().rename({0: \"art_mean_count_cust\"}, axis=1)\n",
    ")\n",
    "freq_infoo_mean_cus_art"
   ]
  },
  {
   "cell_type": "code",
   "execution_count": 71,
   "id": "6b233b68",
   "metadata": {
    "hidden": true
   },
   "outputs": [],
   "source": [
    "freq_infoo = (freq_infoo.merge(freq_infoo_price, on=\"article_id\", how=\"left\")\n",
    "              .merge(freq_infoo_mean_cus_art, on=\"article_id\", how=\"left\").fillna(0.0))"
   ]
  },
  {
   "cell_type": "code",
   "execution_count": 72,
   "id": "a3f32877",
   "metadata": {
    "hidden": true
   },
   "outputs": [
    {
     "data": {
      "text/plain": [
       "t_dat                              734\n",
       "customer_id                     266392\n",
       "article_id                        1587\n",
       "price                             4592\n",
       "sales_channel_id                     2\n",
       "year                                 3\n",
       "month                               12\n",
       "week_since                         105\n",
       "club_member_status                   3\n",
       "fashion_news_frequency               3\n",
       "product_type_name                   46\n",
       "product_group_name                  11\n",
       "graphical_appearance_name           21\n",
       "colour_group_name                   38\n",
       "perceived_colour_value_name          7\n",
       "perceived_colour_master_name        18\n",
       "index_name                           6\n",
       "index_group_name                     4\n",
       "section_name                        29\n",
       "garment_group_name                  19\n",
       "age_range                            6\n",
       "price_min                          395\n",
       "price_max                           32\n",
       "price_mean                        1586\n",
       "price_std                         1587\n",
       "art_mean_count_cust               1368\n",
       "dtype: int64"
      ]
     },
     "execution_count": 72,
     "metadata": {},
     "output_type": "execute_result"
    }
   ],
   "source": [
    "freq_infoo.nunique()"
   ]
  },
  {
   "cell_type": "code",
   "execution_count": 73,
   "id": "ad52e336",
   "metadata": {
    "hidden": true
   },
   "outputs": [],
   "source": [
    "final_data = freq_infoo.copy()"
   ]
  },
  {
   "cell_type": "code",
   "execution_count": 74,
   "id": "c580aeae",
   "metadata": {
    "hidden": true
   },
   "outputs": [
    {
     "name": "stdout",
     "output_type": "stream",
     "text": [
      "<class 'pandas.core.frame.DataFrame'>\n",
      "Int64Index: 1808228 entries, 0 to 1808227\n",
      "Data columns (total 26 columns):\n",
      " #   Column                        Dtype         \n",
      "---  ------                        -----         \n",
      " 0   t_dat                         datetime64[ns]\n",
      " 1   customer_id                   object        \n",
      " 2   article_id                    int64         \n",
      " 3   price                         float64       \n",
      " 4   sales_channel_id              int64         \n",
      " 5   year                          int64         \n",
      " 6   month                         int64         \n",
      " 7   week_since                    int64         \n",
      " 8   club_member_status            object        \n",
      " 9   fashion_news_frequency        object        \n",
      " 10  product_type_name             object        \n",
      " 11  product_group_name            object        \n",
      " 12  graphical_appearance_name     object        \n",
      " 13  colour_group_name             object        \n",
      " 14  perceived_colour_value_name   object        \n",
      " 15  perceived_colour_master_name  object        \n",
      " 16  index_name                    object        \n",
      " 17  index_group_name              object        \n",
      " 18  section_name                  object        \n",
      " 19  garment_group_name            object        \n",
      " 20  age_range                     object        \n",
      " 21  price_min                     float64       \n",
      " 22  price_max                     float64       \n",
      " 23  price_mean                    float64       \n",
      " 24  price_std                     float64       \n",
      " 25  art_mean_count_cust           float64       \n",
      "dtypes: datetime64[ns](1), float64(6), int64(5), object(14)\n",
      "memory usage: 372.5+ MB\n"
     ]
    }
   ],
   "source": [
    "final_data.info()"
   ]
  },
  {
   "cell_type": "code",
   "execution_count": 75,
   "id": "121c6436",
   "metadata": {
    "hidden": true
   },
   "outputs": [],
   "source": [
    "final_data = final_data.drop(['year','month'], axis=1)"
   ]
  },
  {
   "cell_type": "code",
   "execution_count": 76,
   "id": "9b2b1d10",
   "metadata": {
    "hidden": true
   },
   "outputs": [],
   "source": [
    "#Encoding of categorical columns\n",
    "#Checking unique values and converting them to int using pd.getDummies() \n",
    "categorical_columns = ['club_member_status', 'fashion_news_frequency', 'age_range','product_type_name',\n",
    "                       'product_group_name','graphical_appearance_name','colour_group_name',\n",
    "                       'perceived_colour_value_name','perceived_colour_master_name','index_name',\n",
    "                       'index_group_name','section_name','garment_group_name']\n",
    "\n",
    "#Transforming the categorical columns-label encoding\n",
    "final_data_dummy = pd.get_dummies(final_data, columns=categorical_columns)"
   ]
  },
  {
   "cell_type": "code",
   "execution_count": 77,
   "id": "f5c61502",
   "metadata": {
    "hidden": true
   },
   "outputs": [
    {
     "name": "stdout",
     "output_type": "stream",
     "text": [
      "<class 'pandas.core.frame.DataFrame'>\n",
      "Int64Index: 1808228 entries, 0 to 1808227\n",
      "Columns: 222 entries, t_dat to garment_group_name_Unknown\n",
      "dtypes: datetime64[ns](1), float64(6), int64(3), object(1), uint8(211)\n",
      "memory usage: 529.4+ MB\n"
     ]
    }
   ],
   "source": [
    "final_data_dummy.info()"
   ]
  },
  {
   "cell_type": "code",
   "execution_count": 78,
   "id": "2bd5b95a",
   "metadata": {
    "hidden": true
   },
   "outputs": [
    {
     "data": {
      "text/plain": [
       "(1808228, 222)"
      ]
     },
     "execution_count": 78,
     "metadata": {},
     "output_type": "execute_result"
    }
   ],
   "source": [
    "final_data_dummy.shape"
   ]
  },
  {
   "cell_type": "code",
   "execution_count": 79,
   "id": "209f93c0",
   "metadata": {
    "hidden": true
   },
   "outputs": [
    {
     "data": {
      "text/html": [
       "<div>\n",
       "<style scoped>\n",
       "    .dataframe tbody tr th:only-of-type {\n",
       "        vertical-align: middle;\n",
       "    }\n",
       "\n",
       "    .dataframe tbody tr th {\n",
       "        vertical-align: top;\n",
       "    }\n",
       "\n",
       "    .dataframe thead th {\n",
       "        text-align: right;\n",
       "    }\n",
       "</style>\n",
       "<table border=\"1\" class=\"dataframe\">\n",
       "  <thead>\n",
       "    <tr style=\"text-align: right;\">\n",
       "      <th></th>\n",
       "      <th>article_id</th>\n",
       "      <th>price</th>\n",
       "      <th>sales_channel_id</th>\n",
       "      <th>week_since</th>\n",
       "      <th>price_min</th>\n",
       "      <th>price_max</th>\n",
       "      <th>price_mean</th>\n",
       "      <th>price_std</th>\n",
       "      <th>art_mean_count_cust</th>\n",
       "      <th>club_member_status_ACTIVE</th>\n",
       "      <th>...</th>\n",
       "      <th>garment_group_name_Shoes</th>\n",
       "      <th>garment_group_name_Shorts</th>\n",
       "      <th>garment_group_name_Skirts</th>\n",
       "      <th>garment_group_name_Socks and Tights</th>\n",
       "      <th>garment_group_name_Special Offers</th>\n",
       "      <th>garment_group_name_Swimwear</th>\n",
       "      <th>garment_group_name_Trousers</th>\n",
       "      <th>garment_group_name_Trousers Denim</th>\n",
       "      <th>garment_group_name_Under-, Nightwear</th>\n",
       "      <th>garment_group_name_Unknown</th>\n",
       "    </tr>\n",
       "  </thead>\n",
       "  <tbody>\n",
       "    <tr>\n",
       "      <th>count</th>\n",
       "      <td>1.808228e+06</td>\n",
       "      <td>1.808228e+06</td>\n",
       "      <td>1.808228e+06</td>\n",
       "      <td>1.808228e+06</td>\n",
       "      <td>1.808228e+06</td>\n",
       "      <td>1.808228e+06</td>\n",
       "      <td>1.808228e+06</td>\n",
       "      <td>1.808228e+06</td>\n",
       "      <td>1.808228e+06</td>\n",
       "      <td>1.808228e+06</td>\n",
       "      <td>...</td>\n",
       "      <td>1.808228e+06</td>\n",
       "      <td>1.808228e+06</td>\n",
       "      <td>1.808228e+06</td>\n",
       "      <td>1.808228e+06</td>\n",
       "      <td>1.808228e+06</td>\n",
       "      <td>1.808228e+06</td>\n",
       "      <td>1.808228e+06</td>\n",
       "      <td>1.808228e+06</td>\n",
       "      <td>1.808228e+06</td>\n",
       "      <td>1.808228e+06</td>\n",
       "    </tr>\n",
       "    <tr>\n",
       "      <th>mean</th>\n",
       "      <td>6.937581e+08</td>\n",
       "      <td>2.599830e-02</td>\n",
       "      <td>1.679952e+00</td>\n",
       "      <td>3.162645e+01</td>\n",
       "      <td>9.363546e-03</td>\n",
       "      <td>2.843253e-02</td>\n",
       "      <td>2.599830e-02</td>\n",
       "      <td>2.605867e-03</td>\n",
       "      <td>1.118909e+00</td>\n",
       "      <td>9.933012e-01</td>\n",
       "      <td>...</td>\n",
       "      <td>3.070962e-03</td>\n",
       "      <td>1.958271e-03</td>\n",
       "      <td>9.228925e-03</td>\n",
       "      <td>8.076139e-02</td>\n",
       "      <td>1.321736e-03</td>\n",
       "      <td>1.021387e-02</td>\n",
       "      <td>1.684334e-01</td>\n",
       "      <td>5.695631e-02</td>\n",
       "      <td>1.161712e-01</td>\n",
       "      <td>1.000427e-03</td>\n",
       "    </tr>\n",
       "    <tr>\n",
       "      <th>std</th>\n",
       "      <td>1.796168e+08</td>\n",
       "      <td>1.510000e-02</td>\n",
       "      <td>4.664946e-01</td>\n",
       "      <td>2.850199e+01</td>\n",
       "      <td>9.068627e-03</td>\n",
       "      <td>1.547559e-02</td>\n",
       "      <td>1.475703e-02</td>\n",
       "      <td>1.859910e-03</td>\n",
       "      <td>1.022564e-01</td>\n",
       "      <td>8.157176e-02</td>\n",
       "      <td>...</td>\n",
       "      <td>5.533112e-02</td>\n",
       "      <td>4.420901e-02</td>\n",
       "      <td>9.562299e-02</td>\n",
       "      <td>2.724684e-01</td>\n",
       "      <td>3.633166e-02</td>\n",
       "      <td>1.005463e-01</td>\n",
       "      <td>3.742508e-01</td>\n",
       "      <td>2.317592e-01</td>\n",
       "      <td>3.204302e-01</td>\n",
       "      <td>3.161371e-02</td>\n",
       "    </tr>\n",
       "    <tr>\n",
       "      <th>min</th>\n",
       "      <td>1.115860e+08</td>\n",
       "      <td>3.220339e-04</td>\n",
       "      <td>1.000000e+00</td>\n",
       "      <td>0.000000e+00</td>\n",
       "      <td>3.220339e-04</td>\n",
       "      <td>1.677966e-03</td>\n",
       "      <td>1.606266e-03</td>\n",
       "      <td>1.643669e-04</td>\n",
       "      <td>1.000000e+00</td>\n",
       "      <td>0.000000e+00</td>\n",
       "      <td>...</td>\n",
       "      <td>0.000000e+00</td>\n",
       "      <td>0.000000e+00</td>\n",
       "      <td>0.000000e+00</td>\n",
       "      <td>0.000000e+00</td>\n",
       "      <td>0.000000e+00</td>\n",
       "      <td>0.000000e+00</td>\n",
       "      <td>0.000000e+00</td>\n",
       "      <td>0.000000e+00</td>\n",
       "      <td>0.000000e+00</td>\n",
       "      <td>0.000000e+00</td>\n",
       "    </tr>\n",
       "    <tr>\n",
       "      <th>25%</th>\n",
       "      <td>6.087760e+08</td>\n",
       "      <td>1.515254e-02</td>\n",
       "      <td>1.000000e+00</td>\n",
       "      <td>5.000000e+00</td>\n",
       "      <td>2.983051e-03</td>\n",
       "      <td>1.693220e-02</td>\n",
       "      <td>1.595194e-02</td>\n",
       "      <td>1.439290e-03</td>\n",
       "      <td>1.056266e+00</td>\n",
       "      <td>1.000000e+00</td>\n",
       "      <td>...</td>\n",
       "      <td>0.000000e+00</td>\n",
       "      <td>0.000000e+00</td>\n",
       "      <td>0.000000e+00</td>\n",
       "      <td>0.000000e+00</td>\n",
       "      <td>0.000000e+00</td>\n",
       "      <td>0.000000e+00</td>\n",
       "      <td>0.000000e+00</td>\n",
       "      <td>0.000000e+00</td>\n",
       "      <td>0.000000e+00</td>\n",
       "      <td>0.000000e+00</td>\n",
       "    </tr>\n",
       "    <tr>\n",
       "      <th>50%</th>\n",
       "      <td>7.234690e+08</td>\n",
       "      <td>2.540678e-02</td>\n",
       "      <td>2.000000e+00</td>\n",
       "      <td>2.500000e+01</td>\n",
       "      <td>6.779661e-03</td>\n",
       "      <td>2.540678e-02</td>\n",
       "      <td>2.423881e-02</td>\n",
       "      <td>2.137016e-03</td>\n",
       "      <td>1.090852e+00</td>\n",
       "      <td>1.000000e+00</td>\n",
       "      <td>...</td>\n",
       "      <td>0.000000e+00</td>\n",
       "      <td>0.000000e+00</td>\n",
       "      <td>0.000000e+00</td>\n",
       "      <td>0.000000e+00</td>\n",
       "      <td>0.000000e+00</td>\n",
       "      <td>0.000000e+00</td>\n",
       "      <td>0.000000e+00</td>\n",
       "      <td>0.000000e+00</td>\n",
       "      <td>0.000000e+00</td>\n",
       "      <td>0.000000e+00</td>\n",
       "    </tr>\n",
       "    <tr>\n",
       "      <th>75%</th>\n",
       "      <td>8.165880e+08</td>\n",
       "      <td>3.388136e-02</td>\n",
       "      <td>2.000000e+00</td>\n",
       "      <td>5.200000e+01</td>\n",
       "      <td>1.269492e-02</td>\n",
       "      <td>3.388136e-02</td>\n",
       "      <td>3.246173e-02</td>\n",
       "      <td>3.085303e-03</td>\n",
       "      <td>1.149019e+00</td>\n",
       "      <td>1.000000e+00</td>\n",
       "      <td>...</td>\n",
       "      <td>0.000000e+00</td>\n",
       "      <td>0.000000e+00</td>\n",
       "      <td>0.000000e+00</td>\n",
       "      <td>0.000000e+00</td>\n",
       "      <td>0.000000e+00</td>\n",
       "      <td>0.000000e+00</td>\n",
       "      <td>0.000000e+00</td>\n",
       "      <td>0.000000e+00</td>\n",
       "      <td>0.000000e+00</td>\n",
       "      <td>0.000000e+00</td>\n",
       "    </tr>\n",
       "    <tr>\n",
       "      <th>max</th>\n",
       "      <td>9.495510e+08</td>\n",
       "      <td>3.033898e-01</td>\n",
       "      <td>2.000000e+00</td>\n",
       "      <td>1.040000e+02</td>\n",
       "      <td>2.207627e-01</td>\n",
       "      <td>3.033898e-01</td>\n",
       "      <td>2.966213e-01</td>\n",
       "      <td>2.478023e-02</td>\n",
       "      <td>1.770887e+00</td>\n",
       "      <td>1.000000e+00</td>\n",
       "      <td>...</td>\n",
       "      <td>1.000000e+00</td>\n",
       "      <td>1.000000e+00</td>\n",
       "      <td>1.000000e+00</td>\n",
       "      <td>1.000000e+00</td>\n",
       "      <td>1.000000e+00</td>\n",
       "      <td>1.000000e+00</td>\n",
       "      <td>1.000000e+00</td>\n",
       "      <td>1.000000e+00</td>\n",
       "      <td>1.000000e+00</td>\n",
       "      <td>1.000000e+00</td>\n",
       "    </tr>\n",
       "  </tbody>\n",
       "</table>\n",
       "<p>8 rows × 220 columns</p>\n",
       "</div>"
      ],
      "text/plain": [
       "         article_id         price  sales_channel_id    week_since  \\\n",
       "count  1.808228e+06  1.808228e+06      1.808228e+06  1.808228e+06   \n",
       "mean   6.937581e+08  2.599830e-02      1.679952e+00  3.162645e+01   \n",
       "std    1.796168e+08  1.510000e-02      4.664946e-01  2.850199e+01   \n",
       "min    1.115860e+08  3.220339e-04      1.000000e+00  0.000000e+00   \n",
       "25%    6.087760e+08  1.515254e-02      1.000000e+00  5.000000e+00   \n",
       "50%    7.234690e+08  2.540678e-02      2.000000e+00  2.500000e+01   \n",
       "75%    8.165880e+08  3.388136e-02      2.000000e+00  5.200000e+01   \n",
       "max    9.495510e+08  3.033898e-01      2.000000e+00  1.040000e+02   \n",
       "\n",
       "          price_min     price_max    price_mean     price_std  \\\n",
       "count  1.808228e+06  1.808228e+06  1.808228e+06  1.808228e+06   \n",
       "mean   9.363546e-03  2.843253e-02  2.599830e-02  2.605867e-03   \n",
       "std    9.068627e-03  1.547559e-02  1.475703e-02  1.859910e-03   \n",
       "min    3.220339e-04  1.677966e-03  1.606266e-03  1.643669e-04   \n",
       "25%    2.983051e-03  1.693220e-02  1.595194e-02  1.439290e-03   \n",
       "50%    6.779661e-03  2.540678e-02  2.423881e-02  2.137016e-03   \n",
       "75%    1.269492e-02  3.388136e-02  3.246173e-02  3.085303e-03   \n",
       "max    2.207627e-01  3.033898e-01  2.966213e-01  2.478023e-02   \n",
       "\n",
       "       art_mean_count_cust  club_member_status_ACTIVE  ...  \\\n",
       "count         1.808228e+06               1.808228e+06  ...   \n",
       "mean          1.118909e+00               9.933012e-01  ...   \n",
       "std           1.022564e-01               8.157176e-02  ...   \n",
       "min           1.000000e+00               0.000000e+00  ...   \n",
       "25%           1.056266e+00               1.000000e+00  ...   \n",
       "50%           1.090852e+00               1.000000e+00  ...   \n",
       "75%           1.149019e+00               1.000000e+00  ...   \n",
       "max           1.770887e+00               1.000000e+00  ...   \n",
       "\n",
       "       garment_group_name_Shoes  garment_group_name_Shorts  \\\n",
       "count              1.808228e+06               1.808228e+06   \n",
       "mean               3.070962e-03               1.958271e-03   \n",
       "std                5.533112e-02               4.420901e-02   \n",
       "min                0.000000e+00               0.000000e+00   \n",
       "25%                0.000000e+00               0.000000e+00   \n",
       "50%                0.000000e+00               0.000000e+00   \n",
       "75%                0.000000e+00               0.000000e+00   \n",
       "max                1.000000e+00               1.000000e+00   \n",
       "\n",
       "       garment_group_name_Skirts  garment_group_name_Socks and Tights  \\\n",
       "count               1.808228e+06                         1.808228e+06   \n",
       "mean                9.228925e-03                         8.076139e-02   \n",
       "std                 9.562299e-02                         2.724684e-01   \n",
       "min                 0.000000e+00                         0.000000e+00   \n",
       "25%                 0.000000e+00                         0.000000e+00   \n",
       "50%                 0.000000e+00                         0.000000e+00   \n",
       "75%                 0.000000e+00                         0.000000e+00   \n",
       "max                 1.000000e+00                         1.000000e+00   \n",
       "\n",
       "       garment_group_name_Special Offers  garment_group_name_Swimwear  \\\n",
       "count                       1.808228e+06                 1.808228e+06   \n",
       "mean                        1.321736e-03                 1.021387e-02   \n",
       "std                         3.633166e-02                 1.005463e-01   \n",
       "min                         0.000000e+00                 0.000000e+00   \n",
       "25%                         0.000000e+00                 0.000000e+00   \n",
       "50%                         0.000000e+00                 0.000000e+00   \n",
       "75%                         0.000000e+00                 0.000000e+00   \n",
       "max                         1.000000e+00                 1.000000e+00   \n",
       "\n",
       "       garment_group_name_Trousers  garment_group_name_Trousers Denim  \\\n",
       "count                 1.808228e+06                       1.808228e+06   \n",
       "mean                  1.684334e-01                       5.695631e-02   \n",
       "std                   3.742508e-01                       2.317592e-01   \n",
       "min                   0.000000e+00                       0.000000e+00   \n",
       "25%                   0.000000e+00                       0.000000e+00   \n",
       "50%                   0.000000e+00                       0.000000e+00   \n",
       "75%                   0.000000e+00                       0.000000e+00   \n",
       "max                   1.000000e+00                       1.000000e+00   \n",
       "\n",
       "       garment_group_name_Under-, Nightwear  garment_group_name_Unknown  \n",
       "count                          1.808228e+06                1.808228e+06  \n",
       "mean                           1.161712e-01                1.000427e-03  \n",
       "std                            3.204302e-01                3.161371e-02  \n",
       "min                            0.000000e+00                0.000000e+00  \n",
       "25%                            0.000000e+00                0.000000e+00  \n",
       "50%                            0.000000e+00                0.000000e+00  \n",
       "75%                            0.000000e+00                0.000000e+00  \n",
       "max                            1.000000e+00                1.000000e+00  \n",
       "\n",
       "[8 rows x 220 columns]"
      ]
     },
     "execution_count": 79,
     "metadata": {},
     "output_type": "execute_result"
    }
   ],
   "source": [
    "final_data_dummy.describe()"
   ]
  },
  {
   "cell_type": "code",
   "execution_count": 80,
   "id": "729c17ef",
   "metadata": {
    "hidden": true
   },
   "outputs": [],
   "source": [
    "numeric_column = final_data_dummy.loc[:, ~final_data_dummy.columns.isin(['t_dat', 'customer_id','article_id',\n",
    "                                                                         'week_since'])]"
   ]
  },
  {
   "cell_type": "code",
   "execution_count": 81,
   "id": "bf42f7ac",
   "metadata": {
    "hidden": true
   },
   "outputs": [],
   "source": [
    "#Standardization of data using minmaxscaling\n",
    "from sklearn.preprocessing import StandardScaler, MinMaxScaler\n",
    "features = numeric_column.columns\n",
    "scalar = MinMaxScaler()\n",
    "# the fit_transform ops returns a 2d numpy.array, we cast it to a pd.DataFrame\n",
    "scalar.fit(final_data_dummy[features])\n",
    "standardized_features = pd.DataFrame(scalar.fit_transform(final_data_dummy[features].copy()), columns = features)\n",
    "old_shape = final_data_dummy.shape\n",
    "# drop the unnormalized features from the dataframe\n",
    "final_data_dummy_scale = final_data_dummy.drop(features, axis = 1)\n",
    "# join back the normalized features\n",
    "final_data_dummy_scale = pd.concat([final_data_dummy_scale, standardized_features], axis= 1)\n",
    "assert old_shape == final_data_dummy_scale.shape, \"something went wrong!\""
   ]
  },
  {
   "cell_type": "markdown",
   "id": "3a3d4d30",
   "metadata": {
    "heading_collapsed": true
   },
   "source": [
    "# Data Sampleing"
   ]
  },
  {
   "cell_type": "code",
   "execution_count": 82,
   "id": "7ae88a43",
   "metadata": {
    "hidden": true
   },
   "outputs": [
    {
     "data": {
      "text/html": [
       "<div>\n",
       "<style scoped>\n",
       "    .dataframe tbody tr th:only-of-type {\n",
       "        vertical-align: middle;\n",
       "    }\n",
       "\n",
       "    .dataframe tbody tr th {\n",
       "        vertical-align: top;\n",
       "    }\n",
       "\n",
       "    .dataframe thead th {\n",
       "        text-align: right;\n",
       "    }\n",
       "</style>\n",
       "<table border=\"1\" class=\"dataframe\">\n",
       "  <thead>\n",
       "    <tr style=\"text-align: right;\">\n",
       "      <th></th>\n",
       "      <th>t_dat</th>\n",
       "      <th>customer_id</th>\n",
       "      <th>article_id</th>\n",
       "      <th>week_since</th>\n",
       "      <th>price</th>\n",
       "      <th>sales_channel_id</th>\n",
       "      <th>price_min</th>\n",
       "      <th>price_max</th>\n",
       "      <th>price_mean</th>\n",
       "      <th>price_std</th>\n",
       "      <th>...</th>\n",
       "      <th>garment_group_name_Shoes</th>\n",
       "      <th>garment_group_name_Shorts</th>\n",
       "      <th>garment_group_name_Skirts</th>\n",
       "      <th>garment_group_name_Socks and Tights</th>\n",
       "      <th>garment_group_name_Special Offers</th>\n",
       "      <th>garment_group_name_Swimwear</th>\n",
       "      <th>garment_group_name_Trousers</th>\n",
       "      <th>garment_group_name_Trousers Denim</th>\n",
       "      <th>garment_group_name_Under-, Nightwear</th>\n",
       "      <th>garment_group_name_Unknown</th>\n",
       "    </tr>\n",
       "  </thead>\n",
       "  <tbody>\n",
       "    <tr>\n",
       "      <th>286542</th>\n",
       "      <td>2020-09-18</td>\n",
       "      <td>2f8c620014fe00a94e8c4578238b0230d9590afe156a8d...</td>\n",
       "      <td>803468002</td>\n",
       "      <td>0</td>\n",
       "      <td>0.082769</td>\n",
       "      <td>1.0</td>\n",
       "      <td>0.029217</td>\n",
       "      <td>0.078647</td>\n",
       "      <td>0.076435</td>\n",
       "      <td>0.077410</td>\n",
       "      <td>...</td>\n",
       "      <td>0.0</td>\n",
       "      <td>0.0</td>\n",
       "      <td>0.0</td>\n",
       "      <td>0.0</td>\n",
       "      <td>0.0</td>\n",
       "      <td>0.0</td>\n",
       "      <td>0.0</td>\n",
       "      <td>0.0</td>\n",
       "      <td>1.0</td>\n",
       "      <td>0.0</td>\n",
       "    </tr>\n",
       "    <tr>\n",
       "      <th>253732</th>\n",
       "      <td>2020-06-25</td>\n",
       "      <td>f6a57497bd858608e3aac1d809bf920888834b9ffc2d5e...</td>\n",
       "      <td>751592001</td>\n",
       "      <td>12</td>\n",
       "      <td>0.074381</td>\n",
       "      <td>0.0</td>\n",
       "      <td>0.052284</td>\n",
       "      <td>0.078647</td>\n",
       "      <td>0.076835</td>\n",
       "      <td>0.076593</td>\n",
       "      <td>...</td>\n",
       "      <td>0.0</td>\n",
       "      <td>0.0</td>\n",
       "      <td>0.0</td>\n",
       "      <td>0.0</td>\n",
       "      <td>0.0</td>\n",
       "      <td>0.0</td>\n",
       "      <td>0.0</td>\n",
       "      <td>0.0</td>\n",
       "      <td>0.0</td>\n",
       "      <td>0.0</td>\n",
       "    </tr>\n",
       "    <tr>\n",
       "      <th>1332789</th>\n",
       "      <td>2019-09-28</td>\n",
       "      <td>55a6bdf7cb11a6eb265bc9834181580bb9b170601bcefe...</td>\n",
       "      <td>772902001</td>\n",
       "      <td>51</td>\n",
       "      <td>0.034674</td>\n",
       "      <td>1.0</td>\n",
       "      <td>0.010764</td>\n",
       "      <td>0.039324</td>\n",
       "      <td>0.037030</td>\n",
       "      <td>0.059943</td>\n",
       "      <td>...</td>\n",
       "      <td>0.0</td>\n",
       "      <td>0.0</td>\n",
       "      <td>0.0</td>\n",
       "      <td>0.0</td>\n",
       "      <td>0.0</td>\n",
       "      <td>0.0</td>\n",
       "      <td>0.0</td>\n",
       "      <td>0.0</td>\n",
       "      <td>0.0</td>\n",
       "      <td>0.0</td>\n",
       "    </tr>\n",
       "    <tr>\n",
       "      <th>101954</th>\n",
       "      <td>2019-11-12</td>\n",
       "      <td>54ad6ff8e04c16251bdd4f5a73642b305ecd9c225fab66...</td>\n",
       "      <td>578476001</td>\n",
       "      <td>45</td>\n",
       "      <td>0.161065</td>\n",
       "      <td>1.0</td>\n",
       "      <td>0.030217</td>\n",
       "      <td>0.162912</td>\n",
       "      <td>0.157609</td>\n",
       "      <td>0.171963</td>\n",
       "      <td>...</td>\n",
       "      <td>0.0</td>\n",
       "      <td>0.0</td>\n",
       "      <td>0.0</td>\n",
       "      <td>0.0</td>\n",
       "      <td>0.0</td>\n",
       "      <td>0.0</td>\n",
       "      <td>1.0</td>\n",
       "      <td>0.0</td>\n",
       "      <td>0.0</td>\n",
       "      <td>0.0</td>\n",
       "    </tr>\n",
       "    <tr>\n",
       "      <th>94069</th>\n",
       "      <td>2020-08-02</td>\n",
       "      <td>befbd123f3b2930b5d4cfe225b6dda40aeaf617609a147...</td>\n",
       "      <td>778064028</td>\n",
       "      <td>7</td>\n",
       "      <td>0.021252</td>\n",
       "      <td>1.0</td>\n",
       "      <td>0.006151</td>\n",
       "      <td>0.022471</td>\n",
       "      <td>0.019330</td>\n",
       "      <td>0.059922</td>\n",
       "      <td>...</td>\n",
       "      <td>0.0</td>\n",
       "      <td>0.0</td>\n",
       "      <td>0.0</td>\n",
       "      <td>0.0</td>\n",
       "      <td>0.0</td>\n",
       "      <td>0.0</td>\n",
       "      <td>0.0</td>\n",
       "      <td>0.0</td>\n",
       "      <td>0.0</td>\n",
       "      <td>0.0</td>\n",
       "    </tr>\n",
       "    <tr>\n",
       "      <th>...</th>\n",
       "      <td>...</td>\n",
       "      <td>...</td>\n",
       "      <td>...</td>\n",
       "      <td>...</td>\n",
       "      <td>...</td>\n",
       "      <td>...</td>\n",
       "      <td>...</td>\n",
       "      <td>...</td>\n",
       "      <td>...</td>\n",
       "      <td>...</td>\n",
       "      <td>...</td>\n",
       "      <td>...</td>\n",
       "      <td>...</td>\n",
       "      <td>...</td>\n",
       "      <td>...</td>\n",
       "      <td>...</td>\n",
       "      <td>...</td>\n",
       "      <td>...</td>\n",
       "      <td>...</td>\n",
       "      <td>...</td>\n",
       "      <td>...</td>\n",
       "    </tr>\n",
       "    <tr>\n",
       "      <th>941861</th>\n",
       "      <td>2020-01-20</td>\n",
       "      <td>991b710dd72da15107ddd7165ca5c79aad4c2036cd2e04...</td>\n",
       "      <td>624486064</td>\n",
       "      <td>35</td>\n",
       "      <td>0.043622</td>\n",
       "      <td>1.0</td>\n",
       "      <td>0.019991</td>\n",
       "      <td>0.039324</td>\n",
       "      <td>0.038589</td>\n",
       "      <td>0.039573</td>\n",
       "      <td>...</td>\n",
       "      <td>0.0</td>\n",
       "      <td>0.0</td>\n",
       "      <td>0.0</td>\n",
       "      <td>0.0</td>\n",
       "      <td>0.0</td>\n",
       "      <td>0.0</td>\n",
       "      <td>0.0</td>\n",
       "      <td>0.0</td>\n",
       "      <td>0.0</td>\n",
       "      <td>0.0</td>\n",
       "    </tr>\n",
       "    <tr>\n",
       "      <th>258173</th>\n",
       "      <td>2019-04-02</td>\n",
       "      <td>3b89c7f805f14657b42fea6f6e057510119df5a8ae857f...</td>\n",
       "      <td>716672001</td>\n",
       "      <td>77</td>\n",
       "      <td>0.082769</td>\n",
       "      <td>1.0</td>\n",
       "      <td>0.005075</td>\n",
       "      <td>0.078647</td>\n",
       "      <td>0.072538</td>\n",
       "      <td>0.173378</td>\n",
       "      <td>...</td>\n",
       "      <td>0.0</td>\n",
       "      <td>0.0</td>\n",
       "      <td>0.0</td>\n",
       "      <td>0.0</td>\n",
       "      <td>0.0</td>\n",
       "      <td>0.0</td>\n",
       "      <td>0.0</td>\n",
       "      <td>0.0</td>\n",
       "      <td>0.0</td>\n",
       "      <td>0.0</td>\n",
       "    </tr>\n",
       "    <tr>\n",
       "      <th>621686</th>\n",
       "      <td>2020-08-24</td>\n",
       "      <td>4933e56c8c7467e32b0d53f748223c7beecd4cbd6d342d...</td>\n",
       "      <td>562245102</td>\n",
       "      <td>4</td>\n",
       "      <td>0.110732</td>\n",
       "      <td>0.0</td>\n",
       "      <td>0.029217</td>\n",
       "      <td>0.106736</td>\n",
       "      <td>0.101756</td>\n",
       "      <td>0.169556</td>\n",
       "      <td>...</td>\n",
       "      <td>0.0</td>\n",
       "      <td>0.0</td>\n",
       "      <td>0.0</td>\n",
       "      <td>0.0</td>\n",
       "      <td>0.0</td>\n",
       "      <td>0.0</td>\n",
       "      <td>1.0</td>\n",
       "      <td>0.0</td>\n",
       "      <td>0.0</td>\n",
       "      <td>0.0</td>\n",
       "    </tr>\n",
       "    <tr>\n",
       "      <th>1662066</th>\n",
       "      <td>2020-09-03</td>\n",
       "      <td>a1a613ddf88685a691ae207866544d7921916d31210c57...</td>\n",
       "      <td>867969007</td>\n",
       "      <td>2</td>\n",
       "      <td>0.110732</td>\n",
       "      <td>1.0</td>\n",
       "      <td>0.121482</td>\n",
       "      <td>0.106736</td>\n",
       "      <td>0.108132</td>\n",
       "      <td>0.036402</td>\n",
       "      <td>...</td>\n",
       "      <td>0.0</td>\n",
       "      <td>0.0</td>\n",
       "      <td>0.0</td>\n",
       "      <td>0.0</td>\n",
       "      <td>0.0</td>\n",
       "      <td>0.0</td>\n",
       "      <td>0.0</td>\n",
       "      <td>1.0</td>\n",
       "      <td>0.0</td>\n",
       "      <td>0.0</td>\n",
       "    </tr>\n",
       "    <tr>\n",
       "      <th>539966</th>\n",
       "      <td>2020-07-17</td>\n",
       "      <td>fdd52302845069e3781afbd5357620d6568b90446e5d3e...</td>\n",
       "      <td>711053003</td>\n",
       "      <td>9</td>\n",
       "      <td>0.043622</td>\n",
       "      <td>0.0</td>\n",
       "      <td>0.008304</td>\n",
       "      <td>0.039324</td>\n",
       "      <td>0.038300</td>\n",
       "      <td>0.049244</td>\n",
       "      <td>...</td>\n",
       "      <td>0.0</td>\n",
       "      <td>0.0</td>\n",
       "      <td>0.0</td>\n",
       "      <td>0.0</td>\n",
       "      <td>0.0</td>\n",
       "      <td>0.0</td>\n",
       "      <td>0.0</td>\n",
       "      <td>0.0</td>\n",
       "      <td>0.0</td>\n",
       "      <td>0.0</td>\n",
       "    </tr>\n",
       "  </tbody>\n",
       "</table>\n",
       "<p>180823 rows × 222 columns</p>\n",
       "</div>"
      ],
      "text/plain": [
       "             t_dat                                        customer_id  \\\n",
       "286542  2020-09-18  2f8c620014fe00a94e8c4578238b0230d9590afe156a8d...   \n",
       "253732  2020-06-25  f6a57497bd858608e3aac1d809bf920888834b9ffc2d5e...   \n",
       "1332789 2019-09-28  55a6bdf7cb11a6eb265bc9834181580bb9b170601bcefe...   \n",
       "101954  2019-11-12  54ad6ff8e04c16251bdd4f5a73642b305ecd9c225fab66...   \n",
       "94069   2020-08-02  befbd123f3b2930b5d4cfe225b6dda40aeaf617609a147...   \n",
       "...            ...                                                ...   \n",
       "941861  2020-01-20  991b710dd72da15107ddd7165ca5c79aad4c2036cd2e04...   \n",
       "258173  2019-04-02  3b89c7f805f14657b42fea6f6e057510119df5a8ae857f...   \n",
       "621686  2020-08-24  4933e56c8c7467e32b0d53f748223c7beecd4cbd6d342d...   \n",
       "1662066 2020-09-03  a1a613ddf88685a691ae207866544d7921916d31210c57...   \n",
       "539966  2020-07-17  fdd52302845069e3781afbd5357620d6568b90446e5d3e...   \n",
       "\n",
       "         article_id  week_since     price  sales_channel_id  price_min  \\\n",
       "286542    803468002           0  0.082769               1.0   0.029217   \n",
       "253732    751592001          12  0.074381               0.0   0.052284   \n",
       "1332789   772902001          51  0.034674               1.0   0.010764   \n",
       "101954    578476001          45  0.161065               1.0   0.030217   \n",
       "94069     778064028           7  0.021252               1.0   0.006151   \n",
       "...             ...         ...       ...               ...        ...   \n",
       "941861    624486064          35  0.043622               1.0   0.019991   \n",
       "258173    716672001          77  0.082769               1.0   0.005075   \n",
       "621686    562245102           4  0.110732               0.0   0.029217   \n",
       "1662066   867969007           2  0.110732               1.0   0.121482   \n",
       "539966    711053003           9  0.043622               0.0   0.008304   \n",
       "\n",
       "         price_max  price_mean  price_std  ...  garment_group_name_Shoes  \\\n",
       "286542    0.078647    0.076435   0.077410  ...                       0.0   \n",
       "253732    0.078647    0.076835   0.076593  ...                       0.0   \n",
       "1332789   0.039324    0.037030   0.059943  ...                       0.0   \n",
       "101954    0.162912    0.157609   0.171963  ...                       0.0   \n",
       "94069     0.022471    0.019330   0.059922  ...                       0.0   \n",
       "...            ...         ...        ...  ...                       ...   \n",
       "941861    0.039324    0.038589   0.039573  ...                       0.0   \n",
       "258173    0.078647    0.072538   0.173378  ...                       0.0   \n",
       "621686    0.106736    0.101756   0.169556  ...                       0.0   \n",
       "1662066   0.106736    0.108132   0.036402  ...                       0.0   \n",
       "539966    0.039324    0.038300   0.049244  ...                       0.0   \n",
       "\n",
       "         garment_group_name_Shorts  garment_group_name_Skirts  \\\n",
       "286542                         0.0                        0.0   \n",
       "253732                         0.0                        0.0   \n",
       "1332789                        0.0                        0.0   \n",
       "101954                         0.0                        0.0   \n",
       "94069                          0.0                        0.0   \n",
       "...                            ...                        ...   \n",
       "941861                         0.0                        0.0   \n",
       "258173                         0.0                        0.0   \n",
       "621686                         0.0                        0.0   \n",
       "1662066                        0.0                        0.0   \n",
       "539966                         0.0                        0.0   \n",
       "\n",
       "         garment_group_name_Socks and Tights  \\\n",
       "286542                                   0.0   \n",
       "253732                                   0.0   \n",
       "1332789                                  0.0   \n",
       "101954                                   0.0   \n",
       "94069                                    0.0   \n",
       "...                                      ...   \n",
       "941861                                   0.0   \n",
       "258173                                   0.0   \n",
       "621686                                   0.0   \n",
       "1662066                                  0.0   \n",
       "539966                                   0.0   \n",
       "\n",
       "         garment_group_name_Special Offers  garment_group_name_Swimwear  \\\n",
       "286542                                 0.0                          0.0   \n",
       "253732                                 0.0                          0.0   \n",
       "1332789                                0.0                          0.0   \n",
       "101954                                 0.0                          0.0   \n",
       "94069                                  0.0                          0.0   \n",
       "...                                    ...                          ...   \n",
       "941861                                 0.0                          0.0   \n",
       "258173                                 0.0                          0.0   \n",
       "621686                                 0.0                          0.0   \n",
       "1662066                                0.0                          0.0   \n",
       "539966                                 0.0                          0.0   \n",
       "\n",
       "         garment_group_name_Trousers  garment_group_name_Trousers Denim  \\\n",
       "286542                           0.0                                0.0   \n",
       "253732                           0.0                                0.0   \n",
       "1332789                          0.0                                0.0   \n",
       "101954                           1.0                                0.0   \n",
       "94069                            0.0                                0.0   \n",
       "...                              ...                                ...   \n",
       "941861                           0.0                                0.0   \n",
       "258173                           0.0                                0.0   \n",
       "621686                           1.0                                0.0   \n",
       "1662066                          0.0                                1.0   \n",
       "539966                           0.0                                0.0   \n",
       "\n",
       "         garment_group_name_Under-, Nightwear  garment_group_name_Unknown  \n",
       "286542                                    1.0                         0.0  \n",
       "253732                                    0.0                         0.0  \n",
       "1332789                                   0.0                         0.0  \n",
       "101954                                    0.0                         0.0  \n",
       "94069                                     0.0                         0.0  \n",
       "...                                       ...                         ...  \n",
       "941861                                    0.0                         0.0  \n",
       "258173                                    0.0                         0.0  \n",
       "621686                                    0.0                         0.0  \n",
       "1662066                                   0.0                         0.0  \n",
       "539966                                    0.0                         0.0  \n",
       "\n",
       "[180823 rows x 222 columns]"
      ]
     },
     "execution_count": 82,
     "metadata": {},
     "output_type": "execute_result"
    }
   ],
   "source": [
    "final_data_dummy_scale_random = final_data_dummy_scale.sample(frac=.1)\n",
    "final_data_dummy_scale_random\n"
   ]
  },
  {
   "cell_type": "code",
   "execution_count": 83,
   "id": "956a3d9f",
   "metadata": {
    "hidden": true
   },
   "outputs": [
    {
     "data": {
      "text/plain": [
       "(180823, 222)"
      ]
     },
     "execution_count": 83,
     "metadata": {},
     "output_type": "execute_result"
    }
   ],
   "source": [
    "final_data_dummy_scale_random.shape"
   ]
  },
  {
   "cell_type": "markdown",
   "id": "1f5c0d88",
   "metadata": {},
   "source": [
    "# Data Partitioning"
   ]
  },
  {
   "cell_type": "code",
   "execution_count": null,
   "id": "39b7ac9d",
   "metadata": {},
   "outputs": [],
   "source": [
    "from sklearn.model_selection import train_test_split"
   ]
  },
  {
   "cell_type": "markdown",
   "id": "d6562d1f",
   "metadata": {
    "heading_collapsed": true
   },
   "source": [
    "## Train and Test Split (70, 30)"
   ]
  },
  {
   "cell_type": "code",
   "execution_count": 84,
   "id": "098e4237",
   "metadata": {
    "execution": {
     "iopub.execute_input": "2022-03-30T04:35:37.294744Z",
     "iopub.status.busy": "2022-03-30T04:35:37.293747Z",
     "iopub.status.idle": "2022-03-30T04:35:37.303892Z",
     "shell.execute_reply": "2022-03-30T04:35:37.302719Z",
     "shell.execute_reply.started": "2022-03-30T04:35:37.294697Z"
    },
    "hidden": true
   },
   "outputs": [],
   "source": [
    "x = final_data_dummy_scale_random.loc[:, ~final_data_dummy_scale_random.columns.isin(['t_dat', 'customer_id',\n",
    "                                                                        'article_id','week_since'])]\n",
    "y = final_data_dummy_scale_random['article_id']"
   ]
  },
  {
   "cell_type": "code",
   "execution_count": 85,
   "id": "465880d2",
   "metadata": {
    "execution": {
     "iopub.execute_input": "2022-03-30T04:35:40.524282Z",
     "iopub.status.busy": "2022-03-30T04:35:40.523703Z",
     "iopub.status.idle": "2022-03-30T04:35:40.541017Z",
     "shell.execute_reply": "2022-03-30T04:35:40.539768Z",
     "shell.execute_reply.started": "2022-03-30T04:35:40.524246Z"
    },
    "hidden": true
   },
   "outputs": [],
   "source": [
    "# Spliting dataset into train and test set (70% training and 30% test)\n",
    "data_train, data_test, target_train, target_test  = train_test_split(x, y, test_size=0.3,random_state=1) "
   ]
  },
  {
   "cell_type": "code",
   "execution_count": 86,
   "id": "add85022",
   "metadata": {
    "hidden": true
   },
   "outputs": [
    {
     "name": "stdout",
     "output_type": "stream",
     "text": [
      "data_train.shape: (126576, 218)\n",
      "data_test.shape (54247, 218)\n",
      "target_train.shape (126576,)\n",
      "target_test.shape (54247, 218)\n"
     ]
    }
   ],
   "source": [
    "print('Shape of data_train:',data_train.shape)\n",
    "print('Shape of data_test',data_test.shape)\n",
    "print('Shape of target_train',target_train.shape)\n",
    "print('Shape of target_test',data_test.shape)"
   ]
  },
  {
   "cell_type": "markdown",
   "id": "c7f46435",
   "metadata": {},
   "source": [
    "## Conditional Train and Test Split by the Date of Ending Traing Data \"2020-09-16\""
   ]
  },
  {
   "cell_type": "code",
   "execution_count": 171,
   "id": "96c67734",
   "metadata": {},
   "outputs": [],
   "source": [
    "train = final_data_dummy_scale_random[final_data_dummy_scale_random['t_dat'] < '2020-09-16']\n",
    "test = final_data_dummy_scale_random[final_data_dummy_scale_random['t_dat'] >= '2020-09-16']"
   ]
  },
  {
   "cell_type": "code",
   "execution_count": 173,
   "id": "11b7faec",
   "metadata": {},
   "outputs": [],
   "source": [
    "X_train_m = train.loc[:, ~train.columns.isin(['t_dat', 'customer_id','article_id','week_since'])]\n",
    "y_train_m = train['article_id']\n",
    "X_test_m = test.loc[:, ~test.columns.isin(['t_dat', 'customer_id','article_id','week_since'])]\n",
    "y_test_m = test['article_id']"
   ]
  },
  {
   "cell_type": "markdown",
   "id": "74d76611",
   "metadata": {},
   "source": [
    "# Machine Learning Model Implementation"
   ]
  },
  {
   "cell_type": "code",
   "execution_count": null,
   "id": "e7845a44",
   "metadata": {},
   "outputs": [],
   "source": [
    "from sklearn.metrics import accuracy_score\n",
    "from sklearn.metrics import balanced_accuracy_score\n",
    "from sklearn.metrics import matthews_corrcoef"
   ]
  },
  {
   "cell_type": "markdown",
   "id": "2b9a9253",
   "metadata": {
    "heading_collapsed": true
   },
   "source": [
    "## 70/30 train_test_split"
   ]
  },
  {
   "cell_type": "markdown",
   "id": "874ae29a",
   "metadata": {
    "hidden": true
   },
   "source": [
    "### Linear SVC "
   ]
  },
  {
   "cell_type": "code",
   "execution_count": 87,
   "id": "cbe43d61",
   "metadata": {
    "hidden": true
   },
   "outputs": [
    {
     "name": "stdout",
     "output_type": "stream",
     "text": [
      "Fold: 0 score: 0.8617475114552062\n",
      "Fold: 1 score: 0.8610364986569758\n",
      "Fold: 2 score: 0.858666455996208\n",
      "Fold: 3 score: 0.857876441775952\n",
      "Fold: 4 score: 0.8615105071891294\n",
      "Fold: 5 score: 0.8613525043450783\n",
      "Fold: 6 score: 0.8591293355455479\n",
      "Fold: 7 score: 0.861420557794106\n",
      "Fold: 8 score: 0.8596823891917516\n",
      "Fold: 9 score: 0.8622106344315399\n",
      "Stratified 10-fold Cross-Validation for LinearSVM Model in seconds: 4641.195543050766\n"
     ]
    }
   ],
   "source": [
    "# Performing Stratified 10-fold Cross-Validation\n",
    "# dataset is imbalanced\n",
    "from sklearn.model_selection import KFold, StratifiedKFold\n",
    "import gc\n",
    "from sklearn.svm import LinearSVC\n",
    "\n",
    "skf = StratifiedKFold(n_splits=10, shuffle=True, random_state=60)\n",
    "measured= np.zeros((data_train.shape[0]))\n",
    "score = 0\n",
    "# LinearSVC Model Evaluation by Stratified 10-fold Cross-Validation\n",
    "start=time.time()\n",
    "for times, (trn_idx, test_idx) in enumerate(skf.split(data_train.values,target_train.values)):\n",
    "    svc_model = LinearSVC(random_state=0)\n",
    "    svc_model.fit(data_train.iloc[trn_idx], target_train.iloc[trn_idx])\n",
    "    measured[test_idx] = svc_model.predict(data_train.iloc[test_idx])\n",
    "    score += svc_model.score(data_train.iloc[test_idx],target_train.iloc[test_idx]) # returns mean accuracy\n",
    "    print(\"Fold: {} score: {}\".format(times,svc_model.score(data_train.iloc[test_idx],\n",
    "                                                            target_train.iloc[test_idx])))\n",
    "    gc.collect()\n",
    "    \n",
    "end=time.time()\n",
    "print(\"Stratified 10-fold Cross-Validation for LinearSVM Model in seconds:\",(end-start))"
   ]
  },
  {
   "cell_type": "code",
   "execution_count": 88,
   "id": "4c92ab2a",
   "metadata": {
    "hidden": true
   },
   "outputs": [
    {
     "name": "stdout",
     "output_type": "stream",
     "text": [
      "Average score 0.8604632836381494\n"
     ]
    }
   ],
   "source": [
    "# Average Score for model\n",
    "print('Average score', score / skf.n_splits)"
   ]
  },
  {
   "cell_type": "code",
   "execution_count": 89,
   "id": "f6298d2c",
   "metadata": {
    "hidden": true
   },
   "outputs": [
    {
     "data": {
      "text/plain": [
       "array([156231001, 751471001, 866731001, ..., 881111008, 736870001,\n",
       "       719655001])"
      ]
     },
     "execution_count": 89,
     "metadata": {},
     "output_type": "execute_result"
    }
   ],
   "source": [
    "# predict target using test data\n",
    "scv_pred=svc_model.predict(data_test)\n",
    "scv_pred"
   ]
  },
  {
   "cell_type": "code",
   "execution_count": 231,
   "id": "1f65844f",
   "metadata": {
    "hidden": true
   },
   "outputs": [
    {
     "name": "stdout",
     "output_type": "stream",
     "text": [
      "accuracy_score 85.98447840433573\n",
      "balanced_accuracy_score 0.7495195747001503\n",
      "matthews_corrcoef 0.8595640210504135\n"
     ]
    }
   ],
   "source": [
    "print(\"accuracy_score\",accuracy_score(target_test,scv_pred, normalize=True)*100)\n",
    "print(\"balanced_accuracy_score\",balanced_accuracy_score(target_test,scv_pred))\n",
    "print(\"matthews_corrcoef\",matthews_corrcoef(target_test,scv_pred))"
   ]
  },
  {
   "cell_type": "markdown",
   "id": "db0b7bd8",
   "metadata": {
    "hidden": true
   },
   "source": [
    "### KNN "
   ]
  },
  {
   "cell_type": "code",
   "execution_count": 96,
   "id": "c15ed789",
   "metadata": {
    "hidden": true
   },
   "outputs": [
    {
     "name": "stdout",
     "output_type": "stream",
     "text": [
      "time taken for gridsearch for knn model in seconds: 0.00011181831359863281\n"
     ]
    }
   ],
   "source": [
    "from sklearn.model_selection import GridSearchCV\n",
    "from sklearn.neighbors import KNeighborsClassifier\n",
    "# Implementing K-Nearest Neighbour\n",
    "# Implementing Grid-Search to determine Hyperparameter k\n",
    "# defining the parameter values that would be searched\n",
    "# Max limit=10 was chosen since the large computation time\n",
    "k_range = list(range(1, 10))\n",
    "# creating a parameter grid: maping the parameter names to the values that should be searched\n",
    "# By a python dictionary\n",
    "# key: parameter name\n",
    "# value: list of values that should be searched for that parameter\n",
    "# single key-value pair for param_grid\n",
    "param_grid = dict(n_neighbors=k_range)\n",
    "# Creating a knn model\n",
    "knn = KNeighborsClassifier()\n",
    "# using 10-fold cross validation\n",
    "# using gridsearch for testing all values for n_neighbors\n",
    "# For integer and None inputs, \n",
    "# if the estimator is a classifier \"y is binary or multiclass\", tratifiedKFold would be used. \n",
    "# For other types, KFold is used.\n",
    "start=time.time()\n",
    "# Instantiating the grid\n",
    "grid = GridSearchCV(knn, param_grid, cv=10, scoring='accuracy')\n",
    "end=time.time()\n",
    "print(\"Gridsearch for knn model in seconds:\",(end-start))"
   ]
  },
  {
   "cell_type": "code",
   "execution_count": 97,
   "id": "02d62d15",
   "metadata": {
    "hidden": true
   },
   "outputs": [
    {
     "name": "stdout",
     "output_type": "stream",
     "text": [
      "Fittiing knn model with best parameters in seconds: 3390.839021921158\n"
     ]
    }
   ],
   "source": [
    "# fiting the grid by data\n",
    "start=time.time()\n",
    "grid.fit(data_train, target_train)\n",
    "end=time.time()\n",
    "print(\"Fittiing knn model with the best parameters in seconds:\",(end-start))"
   ]
  },
  {
   "cell_type": "code",
   "execution_count": 98,
   "id": "e2c882c5",
   "metadata": {
    "hidden": true
   },
   "outputs": [
    {
     "name": "stdout",
     "output_type": "stream",
     "text": [
      "{'n_neighbors': 1}\n"
     ]
    }
   ],
   "source": [
    "print(grid.best_params_)"
   ]
  },
  {
   "cell_type": "code",
   "execution_count": 99,
   "id": "4bba27f2",
   "metadata": {
    "hidden": true
   },
   "outputs": [
    {
     "name": "stdout",
     "output_type": "stream",
     "text": [
      "0.9762751177178612\n"
     ]
    }
   ],
   "source": [
    "# the mean score for the best performing value for \"n_neighbors\" woudld be checked\n",
    "# Single best score that was achieved beyond all params\n",
    "print(grid.best_score_)"
   ]
  },
  {
   "cell_type": "code",
   "execution_count": 100,
   "id": "1628d9e8",
   "metadata": {
    "hidden": true
   },
   "outputs": [
    {
     "name": "stdout",
     "output_type": "stream",
     "text": [
      "KNeighborsClassifier(n_neighbors=1)\n"
     ]
    }
   ],
   "source": [
    "print(grid.best_estimator_)"
   ]
  },
  {
   "cell_type": "code",
   "execution_count": 101,
   "id": "4c847160",
   "metadata": {
    "hidden": true
   },
   "outputs": [],
   "source": [
    "# training the model by using all data and the best parameters\n",
    "# Instantiating the model by best parameter that was found\n",
    "knn_model = KNeighborsClassifier(n_neighbors=1)"
   ]
  },
  {
   "cell_type": "code",
   "execution_count": 102,
   "id": "f57aee28",
   "metadata": {
    "hidden": true
   },
   "outputs": [
    {
     "name": "stdout",
     "output_type": "stream",
     "text": [
      "time taken for fittiing knn model in seconds: 0.046576738357543945\n"
     ]
    }
   ],
   "source": [
    "start=time.time()\n",
    "knn_model.fit(data_train, target_train)\n",
    "end=time.time()\n",
    "print(\"time taken for fittiing knn model in seconds:\",(end-start))"
   ]
  },
  {
   "cell_type": "code",
   "execution_count": 104,
   "id": "b4c8a7bc",
   "metadata": {
    "hidden": true
   },
   "outputs": [],
   "source": [
    "# Prediction on the test data\n",
    "pred_knn= knn_model.predict(data_test)"
   ]
  },
  {
   "cell_type": "code",
   "execution_count": 228,
   "id": "f2744cda",
   "metadata": {
    "hidden": true
   },
   "outputs": [
    {
     "name": "stdout",
     "output_type": "stream",
     "text": [
      "accuracy_score 97.88559736022269\n",
      "balanced_accuracy_score 0.9328864959031814\n",
      "matthews_corrcoef 0.9788022404637375\n"
     ]
    }
   ],
   "source": [
    "print(\"accuracy_score\",accuracy_score(target_test,pred_knn, normalize=True)*100)\n",
    "print(\"balanced_accuracy_score\",balanced_accuracy_score(target_test,pred_knn))\n",
    "print(\"matthews_corrcoef\",matthews_corrcoef(target_test,pred_knn))"
   ]
  },
  {
   "cell_type": "markdown",
   "id": "e5ecbb99",
   "metadata": {},
   "source": [
    "## Conditional Train and Test by Last 7 Days"
   ]
  },
  {
   "cell_type": "markdown",
   "id": "f7375347",
   "metadata": {},
   "source": [
    "### Linear SVC 2"
   ]
  },
  {
   "cell_type": "code",
   "execution_count": 175,
   "id": "ef8c9fcb",
   "metadata": {
    "scrolled": true
   },
   "outputs": [
    {
     "name": "stdout",
     "output_type": "stream",
     "text": [
      "Fold: 0 score: 0.8811748998664887\n",
      "Fold: 1 score: 0.8767801513128616\n",
      "Fold: 2 score: 0.8773920783266578\n",
      "Fold: 3 score: 0.8818424566088118\n",
      "Fold: 4 score: 0.8775589675122385\n",
      "Fold: 5 score: 0.8793947485536271\n",
      "Fold: 6 score: 0.8791722296395194\n",
      "Fold: 7 score: 0.8788940809968847\n",
      "Fold: 8 score: 0.8803337969401948\n",
      "Fold: 9 score: 0.8803337969401948\n",
      "time taken for performing LinearSVM Model Stratified 10-fold Cross-Validation in seconds: 8520.895906209946\n"
     ]
    }
   ],
   "source": [
    "skf_m  = StratifiedKFold(n_splits=10, shuffle=True, random_state=60)\n",
    "measured= np.zeros((X_train_m.shape[0]))\n",
    "score_m = 0\n",
    "\n",
    "start=time.time()\n",
    "for times, (trn_idx_m, test_idx_m) in enumerate(skf_m.split(X_train_m.values,y_train_m.values)):\n",
    "    svc_model_m = LinearSVC(random_state=0)\n",
    "    svc_model_m.fit(X_train_m.iloc[trn_idx_m], y_train_m.iloc[trn_idx_m])\n",
    "    measured[test_idx_m] = svc_model_m.predict(X_train_m.iloc[test_idx_m])\n",
    "    score_m += svc_model_m.score_m(X_train_m.iloc[test_idx_m],y_train_m.iloc[test_idx_m])\n",
    "    print(\"Fold: {} score_m: {}\".format(times,svc_model_m.score_m(X_train_m.iloc[test_idx_m],\n",
    "                                                                  y_train_m.iloc[test_idx_m])))        \n",
    "    gc.collect()\n",
    "end=time.time()\n",
    "\n",
    "print(\"Stratified 10-fold Cross-Validation for LinearSVM Model in seconds:\",(end-start))"
   ]
  },
  {
   "cell_type": "code",
   "execution_count": 176,
   "id": "2675bc10",
   "metadata": {
    "scrolled": true
   },
   "outputs": [
    {
     "name": "stdout",
     "output_type": "stream",
     "text": [
      "Average score 0.8792877206697479\n"
     ]
    }
   ],
   "source": [
    "print('Average score', score_m / skf_m.n_splits)"
   ]
  },
  {
   "cell_type": "code",
   "execution_count": 178,
   "id": "1b498688",
   "metadata": {},
   "outputs": [
    {
     "data": {
      "text/plain": [
       "array([894668005, 889870001, 754238023, ..., 921226004, 930380001,\n",
       "       859125001])"
      ]
     },
     "execution_count": 178,
     "metadata": {},
     "output_type": "execute_result"
    }
   ],
   "source": [
    "scv_pred_m=svc_model.predict(X_test_m)\n",
    "scv_pred_m"
   ]
  },
  {
   "cell_type": "code",
   "execution_count": 227,
   "id": "6f33e7cf",
   "metadata": {},
   "outputs": [
    {
     "name": "stdout",
     "output_type": "stream",
     "text": [
      "accuracy_score 77.37089201877934\n",
      "balanced_accuracy_score 0.7815012722646311\n",
      "matthews_corrcoef 0.7737056774626357\n"
     ]
    }
   ],
   "source": [
    "print(\"accuracy_score\",accuracy_score(y_test_m,scv_pred_m, normalize=True)*100)\n",
    "print(\"balanced_accuracy_score\",balanced_accuracy_score(y_test_m,scv_pred_m))\n",
    "print(\"matthews_corrcoef\",matthews_corrcoef(y_test_m,scv_pred_m))"
   ]
  },
  {
   "cell_type": "markdown",
   "id": "ef210243",
   "metadata": {},
   "source": [
    "### KNN 2"
   ]
  },
  {
   "cell_type": "code",
   "execution_count": 182,
   "id": "f329eb3c",
   "metadata": {},
   "outputs": [
    {
     "name": "stdout",
     "output_type": "stream",
     "text": [
      "time taken for fittiing knn model in seconds: 7742.913081169128\n"
     ]
    }
   ],
   "source": [
    "k_range1 = list(range(1, 10))\n",
    "param_grid_m = dict(n_neighbors=k_range1)\n",
    "knn_m = KNeighborsClassifier()\n",
    "grid_m = GridSearchCV(knn_m, param_grid_m, cv=10, scoring='accuracy')\n",
    "\n",
    "start=time.time()\n",
    "grid_m.fit(X_train_m, y_train_m)\n",
    "end=time.time()\n",
    "print(\"time taken for fittiing knn model in seconds:\",(end-start))"
   ]
  },
  {
   "cell_type": "code",
   "execution_count": 185,
   "id": "494c0598",
   "metadata": {
    "scrolled": true
   },
   "outputs": [
    {
     "name": "stdout",
     "output_type": "stream",
     "text": [
      "{'n_neighbors': 1}\n"
     ]
    }
   ],
   "source": [
    "print(grid_m.best_params_)"
   ]
  },
  {
   "cell_type": "code",
   "execution_count": 186,
   "id": "4f258ea8",
   "metadata": {
    "scrolled": true
   },
   "outputs": [
    {
     "name": "stdout",
     "output_type": "stream",
     "text": [
      "0.9840396643832946\n"
     ]
    }
   ],
   "source": [
    "print(grid_m.best_score_)"
   ]
  },
  {
   "cell_type": "code",
   "execution_count": 191,
   "id": "37ae1062",
   "metadata": {},
   "outputs": [],
   "source": [
    "knn_model_m = KNeighborsClassifier(n_neighbors=1)"
   ]
  },
  {
   "cell_type": "code",
   "execution_count": 192,
   "id": "f28555cb",
   "metadata": {},
   "outputs": [
    {
     "name": "stdout",
     "output_type": "stream",
     "text": [
      "time taken for fittiing knn model in seconds: 0.0721590518951416\n"
     ]
    }
   ],
   "source": [
    "start=time.time()\n",
    "knn_model_m.fit(X_train_m, y_train_m)\n",
    "end=time.time()\n",
    "print(\"time taken for fittiing knn model in seconds:\",(end-start))"
   ]
  },
  {
   "cell_type": "code",
   "execution_count": 193,
   "id": "cd553364",
   "metadata": {},
   "outputs": [
    {
     "data": {
      "text/plain": [
       "array([894668005, 889870001, 754238023, 852584001, 898918002, 562245106,\n",
       "       898573003, 903926002, 911214003, 881111001, 768912001, 751471039])"
      ]
     },
     "execution_count": 193,
     "metadata": {},
     "output_type": "execute_result"
    }
   ],
   "source": [
    "predicted_knn_m= knn_model_m.predict(X_test_m)\n",
    "predicted_knn_m[0:12]"
   ]
  },
  {
   "cell_type": "code",
   "execution_count": 226,
   "id": "b65df986",
   "metadata": {
    "scrolled": true
   },
   "outputs": [
    {
     "name": "stdout",
     "output_type": "stream",
     "text": [
      "accuracy_score 94.55399061032864\n",
      "balanced_accuracy_score 0.9387786259541986\n",
      "matthews_corrcoef 0.9454808746630516\n"
     ]
    }
   ],
   "source": [
    "print(\"accuracy_score\",accuracy_score(y_test_m,predicted_knn_m, normalize=True)*100)\n",
    "print(\"balanced_accuracy_score\",balanced_accuracy_score(y_test_m,predicted_knn_m))\n",
    "print(\"matthews_corrcoef\",matthews_corrcoef(y_test_m,predicted_knn_m))"
   ]
  },
  {
   "cell_type": "markdown",
   "id": "cead3057",
   "metadata": {
    "heading_collapsed": true
   },
   "source": [
    "## KNN After Feature Selection"
   ]
  },
  {
   "cell_type": "code",
   "execution_count": 121,
   "id": "0a69d57d",
   "metadata": {
    "hidden": true
   },
   "outputs": [
    {
     "data": {
      "text/plain": [
       "(126576, 218)"
      ]
     },
     "execution_count": 121,
     "metadata": {},
     "output_type": "execute_result"
    }
   ],
   "source": [
    "# Perform Feature Selection for KNN\n",
    "from sklearn.feature_selection import SelectKBest\n",
    "from sklearn.feature_selection import f_classif\n",
    "\n",
    "X = data_train\n",
    "Y = target_train\n",
    "\n",
    "X.shape"
   ]
  },
  {
   "cell_type": "code",
   "execution_count": 122,
   "id": "68af29ce",
   "metadata": {
    "hidden": true
   },
   "outputs": [
    {
     "data": {
      "text/plain": [
       "174"
      ]
     },
     "execution_count": 122,
     "metadata": {},
     "output_type": "execute_result"
    }
   ],
   "source": [
    "persent80 = round(218*0.80)\n",
    "persent80"
   ]
  },
  {
   "cell_type": "code",
   "execution_count": 123,
   "id": "e0f7e770",
   "metadata": {
    "hidden": true
   },
   "outputs": [],
   "source": [
    "#apply SelectKBest class to extract top 10 best features\n",
    "bestfeatures = SelectKBest(score_func=f_classif, k=persent80)\n",
    "fit = bestfeatures.fit(X,Y)\n",
    "dfscores = pd.DataFrame(fit.scores_)\n",
    "dfcolumns = pd.DataFrame(x.columns)\n",
    "#concat two dataframes for better visualization \n",
    "featureScores = pd.concat([dfcolumns,dfscores],axis=1)\n",
    "featureScores.columns = ['Specs','Score']  #naming the dataframe columns"
   ]
  },
  {
   "cell_type": "code",
   "execution_count": 124,
   "id": "4455cc41",
   "metadata": {
    "hidden": true,
    "scrolled": true
   },
   "outputs": [
    {
     "data": {
      "text/html": [
       "<div>\n",
       "<style scoped>\n",
       "    .dataframe tbody tr th:only-of-type {\n",
       "        vertical-align: middle;\n",
       "    }\n",
       "\n",
       "    .dataframe tbody tr th {\n",
       "        vertical-align: top;\n",
       "    }\n",
       "\n",
       "    .dataframe thead th {\n",
       "        text-align: right;\n",
       "    }\n",
       "</style>\n",
       "<table border=\"1\" class=\"dataframe\">\n",
       "  <thead>\n",
       "    <tr style=\"text-align: right;\">\n",
       "      <th></th>\n",
       "      <th>product_type_name_Bag</th>\n",
       "      <th>product_type_name_Ballerinas</th>\n",
       "      <th>product_type_name_Belt</th>\n",
       "      <th>product_type_name_Bikini top</th>\n",
       "      <th>product_type_name_Blazer</th>\n",
       "      <th>product_type_name_Blouse</th>\n",
       "      <th>product_type_name_Bodysuit</th>\n",
       "      <th>product_type_name_Boots</th>\n",
       "      <th>product_type_name_Bra</th>\n",
       "      <th>product_type_name_Cardigan</th>\n",
       "      <th>...</th>\n",
       "      <th>section_name_Mama</th>\n",
       "      <th>section_name_Men Suits &amp; Tailoring</th>\n",
       "      <th>section_name_Men Underwear</th>\n",
       "      <th>section_name_Womens Big accessories</th>\n",
       "      <th>section_name_Womens Casual</th>\n",
       "      <th>section_name_Womens Everyday Basics</th>\n",
       "      <th>section_name_Womens Everyday Collection</th>\n",
       "      <th>section_name_Womens Jackets</th>\n",
       "      <th>section_name_Womens Lingerie</th>\n",
       "      <th>section_name_Womens Nightwear, Socks &amp; Tigh</th>\n",
       "    </tr>\n",
       "  </thead>\n",
       "  <tbody>\n",
       "    <tr>\n",
       "      <th>1604606</th>\n",
       "      <td>0.0</td>\n",
       "      <td>0.0</td>\n",
       "      <td>0.0</td>\n",
       "      <td>0.0</td>\n",
       "      <td>0.0</td>\n",
       "      <td>0.0</td>\n",
       "      <td>0.0</td>\n",
       "      <td>0.0</td>\n",
       "      <td>1.0</td>\n",
       "      <td>0.0</td>\n",
       "      <td>...</td>\n",
       "      <td>0.0</td>\n",
       "      <td>0.0</td>\n",
       "      <td>0.0</td>\n",
       "      <td>0.0</td>\n",
       "      <td>0.0</td>\n",
       "      <td>0.0</td>\n",
       "      <td>0.0</td>\n",
       "      <td>0.0</td>\n",
       "      <td>0.0</td>\n",
       "      <td>0.0</td>\n",
       "    </tr>\n",
       "    <tr>\n",
       "      <th>1230282</th>\n",
       "      <td>0.0</td>\n",
       "      <td>0.0</td>\n",
       "      <td>0.0</td>\n",
       "      <td>0.0</td>\n",
       "      <td>0.0</td>\n",
       "      <td>0.0</td>\n",
       "      <td>0.0</td>\n",
       "      <td>0.0</td>\n",
       "      <td>0.0</td>\n",
       "      <td>0.0</td>\n",
       "      <td>...</td>\n",
       "      <td>0.0</td>\n",
       "      <td>0.0</td>\n",
       "      <td>0.0</td>\n",
       "      <td>0.0</td>\n",
       "      <td>0.0</td>\n",
       "      <td>0.0</td>\n",
       "      <td>0.0</td>\n",
       "      <td>0.0</td>\n",
       "      <td>0.0</td>\n",
       "      <td>0.0</td>\n",
       "    </tr>\n",
       "    <tr>\n",
       "      <th>1062293</th>\n",
       "      <td>0.0</td>\n",
       "      <td>0.0</td>\n",
       "      <td>0.0</td>\n",
       "      <td>0.0</td>\n",
       "      <td>0.0</td>\n",
       "      <td>0.0</td>\n",
       "      <td>0.0</td>\n",
       "      <td>0.0</td>\n",
       "      <td>0.0</td>\n",
       "      <td>1.0</td>\n",
       "      <td>...</td>\n",
       "      <td>0.0</td>\n",
       "      <td>0.0</td>\n",
       "      <td>0.0</td>\n",
       "      <td>0.0</td>\n",
       "      <td>0.0</td>\n",
       "      <td>0.0</td>\n",
       "      <td>0.0</td>\n",
       "      <td>0.0</td>\n",
       "      <td>0.0</td>\n",
       "      <td>0.0</td>\n",
       "    </tr>\n",
       "    <tr>\n",
       "      <th>132790</th>\n",
       "      <td>0.0</td>\n",
       "      <td>0.0</td>\n",
       "      <td>0.0</td>\n",
       "      <td>0.0</td>\n",
       "      <td>0.0</td>\n",
       "      <td>0.0</td>\n",
       "      <td>0.0</td>\n",
       "      <td>0.0</td>\n",
       "      <td>0.0</td>\n",
       "      <td>0.0</td>\n",
       "      <td>...</td>\n",
       "      <td>0.0</td>\n",
       "      <td>0.0</td>\n",
       "      <td>0.0</td>\n",
       "      <td>0.0</td>\n",
       "      <td>0.0</td>\n",
       "      <td>1.0</td>\n",
       "      <td>0.0</td>\n",
       "      <td>0.0</td>\n",
       "      <td>0.0</td>\n",
       "      <td>0.0</td>\n",
       "    </tr>\n",
       "    <tr>\n",
       "      <th>415802</th>\n",
       "      <td>0.0</td>\n",
       "      <td>0.0</td>\n",
       "      <td>0.0</td>\n",
       "      <td>0.0</td>\n",
       "      <td>0.0</td>\n",
       "      <td>0.0</td>\n",
       "      <td>0.0</td>\n",
       "      <td>0.0</td>\n",
       "      <td>0.0</td>\n",
       "      <td>0.0</td>\n",
       "      <td>...</td>\n",
       "      <td>0.0</td>\n",
       "      <td>0.0</td>\n",
       "      <td>0.0</td>\n",
       "      <td>0.0</td>\n",
       "      <td>0.0</td>\n",
       "      <td>0.0</td>\n",
       "      <td>0.0</td>\n",
       "      <td>1.0</td>\n",
       "      <td>0.0</td>\n",
       "      <td>0.0</td>\n",
       "    </tr>\n",
       "  </tbody>\n",
       "</table>\n",
       "<p>5 rows × 174 columns</p>\n",
       "</div>"
      ],
      "text/plain": [
       "         product_type_name_Bag  product_type_name_Ballerinas  \\\n",
       "1604606                    0.0                           0.0   \n",
       "1230282                    0.0                           0.0   \n",
       "1062293                    0.0                           0.0   \n",
       "132790                     0.0                           0.0   \n",
       "415802                     0.0                           0.0   \n",
       "\n",
       "         product_type_name_Belt  product_type_name_Bikini top  \\\n",
       "1604606                     0.0                           0.0   \n",
       "1230282                     0.0                           0.0   \n",
       "1062293                     0.0                           0.0   \n",
       "132790                      0.0                           0.0   \n",
       "415802                      0.0                           0.0   \n",
       "\n",
       "         product_type_name_Blazer  product_type_name_Blouse  \\\n",
       "1604606                       0.0                       0.0   \n",
       "1230282                       0.0                       0.0   \n",
       "1062293                       0.0                       0.0   \n",
       "132790                        0.0                       0.0   \n",
       "415802                        0.0                       0.0   \n",
       "\n",
       "         product_type_name_Bodysuit  product_type_name_Boots  \\\n",
       "1604606                         0.0                      0.0   \n",
       "1230282                         0.0                      0.0   \n",
       "1062293                         0.0                      0.0   \n",
       "132790                          0.0                      0.0   \n",
       "415802                          0.0                      0.0   \n",
       "\n",
       "         product_type_name_Bra  product_type_name_Cardigan  ...  \\\n",
       "1604606                    1.0                         0.0  ...   \n",
       "1230282                    0.0                         0.0  ...   \n",
       "1062293                    0.0                         1.0  ...   \n",
       "132790                     0.0                         0.0  ...   \n",
       "415802                     0.0                         0.0  ...   \n",
       "\n",
       "         section_name_Mama  section_name_Men Suits & Tailoring  \\\n",
       "1604606                0.0                                 0.0   \n",
       "1230282                0.0                                 0.0   \n",
       "1062293                0.0                                 0.0   \n",
       "132790                 0.0                                 0.0   \n",
       "415802                 0.0                                 0.0   \n",
       "\n",
       "         section_name_Men Underwear  section_name_Womens Big accessories  \\\n",
       "1604606                         0.0                                  0.0   \n",
       "1230282                         0.0                                  0.0   \n",
       "1062293                         0.0                                  0.0   \n",
       "132790                          0.0                                  0.0   \n",
       "415802                          0.0                                  0.0   \n",
       "\n",
       "         section_name_Womens Casual  section_name_Womens Everyday Basics  \\\n",
       "1604606                         0.0                                  0.0   \n",
       "1230282                         0.0                                  0.0   \n",
       "1062293                         0.0                                  0.0   \n",
       "132790                          0.0                                  1.0   \n",
       "415802                          0.0                                  0.0   \n",
       "\n",
       "         section_name_Womens Everyday Collection  section_name_Womens Jackets  \\\n",
       "1604606                                      0.0                          0.0   \n",
       "1230282                                      0.0                          0.0   \n",
       "1062293                                      0.0                          0.0   \n",
       "132790                                       0.0                          0.0   \n",
       "415802                                       0.0                          1.0   \n",
       "\n",
       "         section_name_Womens Lingerie  \\\n",
       "1604606                           0.0   \n",
       "1230282                           0.0   \n",
       "1062293                           0.0   \n",
       "132790                            0.0   \n",
       "415802                            0.0   \n",
       "\n",
       "         section_name_Womens Nightwear, Socks & Tigh  \n",
       "1604606                                          0.0  \n",
       "1230282                                          0.0  \n",
       "1062293                                          0.0  \n",
       "132790                                           0.0  \n",
       "415802                                           0.0  \n",
       "\n",
       "[5 rows x 174 columns]"
      ]
     },
     "execution_count": 124,
     "metadata": {},
     "output_type": "execute_result"
    }
   ],
   "source": [
    "a=featureScores.nlargest(persent80,'Score')\n",
    "a['Specs']\n",
    "X_data=X[a['Specs']]\n",
    "X_data.head()"
   ]
  },
  {
   "cell_type": "code",
   "execution_count": 125,
   "id": "d5d6a90f",
   "metadata": {
    "hidden": true
   },
   "outputs": [
    {
     "data": {
      "text/plain": [
       "(126576, 174)"
      ]
     },
     "execution_count": 125,
     "metadata": {},
     "output_type": "execute_result"
    }
   ],
   "source": [
    "X_data.shape"
   ]
  },
  {
   "cell_type": "code",
   "execution_count": 126,
   "id": "535f5c5d",
   "metadata": {
    "hidden": true,
    "scrolled": false
   },
   "outputs": [
    {
     "data": {
      "text/plain": [
       "1604606    882902001\n",
       "1230282    720125001\n",
       "1062293    687524001\n",
       "132790     610776002\n",
       "415802     891591001\n",
       "             ...    \n",
       "326811     796210001\n",
       "745599     863937003\n",
       "854068     688558001\n",
       "495969     936610001\n",
       "1732395    895487001\n",
       "Name: article_id, Length: 126576, dtype: int64"
      ]
     },
     "execution_count": 126,
     "metadata": {},
     "output_type": "execute_result"
    }
   ],
   "source": [
    "target_train"
   ]
  },
  {
   "cell_type": "code",
   "execution_count": 127,
   "id": "d79b4f91",
   "metadata": {
    "hidden": true
   },
   "outputs": [
    {
     "data": {
      "text/html": [
       "<div>\n",
       "<style scoped>\n",
       "    .dataframe tbody tr th:only-of-type {\n",
       "        vertical-align: middle;\n",
       "    }\n",
       "\n",
       "    .dataframe tbody tr th {\n",
       "        vertical-align: top;\n",
       "    }\n",
       "\n",
       "    .dataframe thead th {\n",
       "        text-align: right;\n",
       "    }\n",
       "</style>\n",
       "<table border=\"1\" class=\"dataframe\">\n",
       "  <thead>\n",
       "    <tr style=\"text-align: right;\">\n",
       "      <th></th>\n",
       "      <th>product_type_name_Bag</th>\n",
       "      <th>product_type_name_Ballerinas</th>\n",
       "      <th>product_type_name_Belt</th>\n",
       "      <th>product_type_name_Bikini top</th>\n",
       "      <th>product_type_name_Blazer</th>\n",
       "      <th>product_type_name_Blouse</th>\n",
       "      <th>product_type_name_Bodysuit</th>\n",
       "      <th>product_type_name_Boots</th>\n",
       "      <th>product_type_name_Bra</th>\n",
       "      <th>product_type_name_Cardigan</th>\n",
       "      <th>...</th>\n",
       "      <th>section_name_Mama</th>\n",
       "      <th>section_name_Men Suits &amp; Tailoring</th>\n",
       "      <th>section_name_Men Underwear</th>\n",
       "      <th>section_name_Womens Big accessories</th>\n",
       "      <th>section_name_Womens Casual</th>\n",
       "      <th>section_name_Womens Everyday Basics</th>\n",
       "      <th>section_name_Womens Everyday Collection</th>\n",
       "      <th>section_name_Womens Jackets</th>\n",
       "      <th>section_name_Womens Lingerie</th>\n",
       "      <th>section_name_Womens Nightwear, Socks &amp; Tigh</th>\n",
       "    </tr>\n",
       "  </thead>\n",
       "  <tbody>\n",
       "    <tr>\n",
       "      <th>458271</th>\n",
       "      <td>0.0</td>\n",
       "      <td>0.0</td>\n",
       "      <td>0.0</td>\n",
       "      <td>0.0</td>\n",
       "      <td>0.0</td>\n",
       "      <td>0.0</td>\n",
       "      <td>0.0</td>\n",
       "      <td>0.0</td>\n",
       "      <td>0.0</td>\n",
       "      <td>0.0</td>\n",
       "      <td>...</td>\n",
       "      <td>0.0</td>\n",
       "      <td>0.0</td>\n",
       "      <td>0.0</td>\n",
       "      <td>0.0</td>\n",
       "      <td>0.0</td>\n",
       "      <td>0.0</td>\n",
       "      <td>0.0</td>\n",
       "      <td>0.0</td>\n",
       "      <td>0.0</td>\n",
       "      <td>1.0</td>\n",
       "    </tr>\n",
       "    <tr>\n",
       "      <th>116273</th>\n",
       "      <td>0.0</td>\n",
       "      <td>0.0</td>\n",
       "      <td>0.0</td>\n",
       "      <td>0.0</td>\n",
       "      <td>0.0</td>\n",
       "      <td>0.0</td>\n",
       "      <td>0.0</td>\n",
       "      <td>0.0</td>\n",
       "      <td>0.0</td>\n",
       "      <td>0.0</td>\n",
       "      <td>...</td>\n",
       "      <td>0.0</td>\n",
       "      <td>0.0</td>\n",
       "      <td>0.0</td>\n",
       "      <td>0.0</td>\n",
       "      <td>0.0</td>\n",
       "      <td>0.0</td>\n",
       "      <td>1.0</td>\n",
       "      <td>0.0</td>\n",
       "      <td>0.0</td>\n",
       "      <td>0.0</td>\n",
       "    </tr>\n",
       "    <tr>\n",
       "      <th>1304982</th>\n",
       "      <td>0.0</td>\n",
       "      <td>0.0</td>\n",
       "      <td>0.0</td>\n",
       "      <td>0.0</td>\n",
       "      <td>0.0</td>\n",
       "      <td>0.0</td>\n",
       "      <td>0.0</td>\n",
       "      <td>0.0</td>\n",
       "      <td>0.0</td>\n",
       "      <td>0.0</td>\n",
       "      <td>...</td>\n",
       "      <td>0.0</td>\n",
       "      <td>0.0</td>\n",
       "      <td>0.0</td>\n",
       "      <td>0.0</td>\n",
       "      <td>0.0</td>\n",
       "      <td>0.0</td>\n",
       "      <td>0.0</td>\n",
       "      <td>0.0</td>\n",
       "      <td>0.0</td>\n",
       "      <td>0.0</td>\n",
       "    </tr>\n",
       "    <tr>\n",
       "      <th>1757495</th>\n",
       "      <td>0.0</td>\n",
       "      <td>0.0</td>\n",
       "      <td>0.0</td>\n",
       "      <td>0.0</td>\n",
       "      <td>0.0</td>\n",
       "      <td>0.0</td>\n",
       "      <td>0.0</td>\n",
       "      <td>0.0</td>\n",
       "      <td>0.0</td>\n",
       "      <td>0.0</td>\n",
       "      <td>...</td>\n",
       "      <td>0.0</td>\n",
       "      <td>0.0</td>\n",
       "      <td>0.0</td>\n",
       "      <td>0.0</td>\n",
       "      <td>0.0</td>\n",
       "      <td>0.0</td>\n",
       "      <td>0.0</td>\n",
       "      <td>0.0</td>\n",
       "      <td>0.0</td>\n",
       "      <td>0.0</td>\n",
       "    </tr>\n",
       "    <tr>\n",
       "      <th>367943</th>\n",
       "      <td>0.0</td>\n",
       "      <td>0.0</td>\n",
       "      <td>0.0</td>\n",
       "      <td>0.0</td>\n",
       "      <td>0.0</td>\n",
       "      <td>0.0</td>\n",
       "      <td>0.0</td>\n",
       "      <td>0.0</td>\n",
       "      <td>0.0</td>\n",
       "      <td>1.0</td>\n",
       "      <td>...</td>\n",
       "      <td>0.0</td>\n",
       "      <td>0.0</td>\n",
       "      <td>0.0</td>\n",
       "      <td>0.0</td>\n",
       "      <td>0.0</td>\n",
       "      <td>0.0</td>\n",
       "      <td>0.0</td>\n",
       "      <td>0.0</td>\n",
       "      <td>0.0</td>\n",
       "      <td>0.0</td>\n",
       "    </tr>\n",
       "  </tbody>\n",
       "</table>\n",
       "<p>5 rows × 174 columns</p>\n",
       "</div>"
      ],
      "text/plain": [
       "         product_type_name_Bag  product_type_name_Ballerinas  \\\n",
       "458271                     0.0                           0.0   \n",
       "116273                     0.0                           0.0   \n",
       "1304982                    0.0                           0.0   \n",
       "1757495                    0.0                           0.0   \n",
       "367943                     0.0                           0.0   \n",
       "\n",
       "         product_type_name_Belt  product_type_name_Bikini top  \\\n",
       "458271                      0.0                           0.0   \n",
       "116273                      0.0                           0.0   \n",
       "1304982                     0.0                           0.0   \n",
       "1757495                     0.0                           0.0   \n",
       "367943                      0.0                           0.0   \n",
       "\n",
       "         product_type_name_Blazer  product_type_name_Blouse  \\\n",
       "458271                        0.0                       0.0   \n",
       "116273                        0.0                       0.0   \n",
       "1304982                       0.0                       0.0   \n",
       "1757495                       0.0                       0.0   \n",
       "367943                        0.0                       0.0   \n",
       "\n",
       "         product_type_name_Bodysuit  product_type_name_Boots  \\\n",
       "458271                          0.0                      0.0   \n",
       "116273                          0.0                      0.0   \n",
       "1304982                         0.0                      0.0   \n",
       "1757495                         0.0                      0.0   \n",
       "367943                          0.0                      0.0   \n",
       "\n",
       "         product_type_name_Bra  product_type_name_Cardigan  ...  \\\n",
       "458271                     0.0                         0.0  ...   \n",
       "116273                     0.0                         0.0  ...   \n",
       "1304982                    0.0                         0.0  ...   \n",
       "1757495                    0.0                         0.0  ...   \n",
       "367943                     0.0                         1.0  ...   \n",
       "\n",
       "         section_name_Mama  section_name_Men Suits & Tailoring  \\\n",
       "458271                 0.0                                 0.0   \n",
       "116273                 0.0                                 0.0   \n",
       "1304982                0.0                                 0.0   \n",
       "1757495                0.0                                 0.0   \n",
       "367943                 0.0                                 0.0   \n",
       "\n",
       "         section_name_Men Underwear  section_name_Womens Big accessories  \\\n",
       "458271                          0.0                                  0.0   \n",
       "116273                          0.0                                  0.0   \n",
       "1304982                         0.0                                  0.0   \n",
       "1757495                         0.0                                  0.0   \n",
       "367943                          0.0                                  0.0   \n",
       "\n",
       "         section_name_Womens Casual  section_name_Womens Everyday Basics  \\\n",
       "458271                          0.0                                  0.0   \n",
       "116273                          0.0                                  0.0   \n",
       "1304982                         0.0                                  0.0   \n",
       "1757495                         0.0                                  0.0   \n",
       "367943                          0.0                                  0.0   \n",
       "\n",
       "         section_name_Womens Everyday Collection  section_name_Womens Jackets  \\\n",
       "458271                                       0.0                          0.0   \n",
       "116273                                       1.0                          0.0   \n",
       "1304982                                      0.0                          0.0   \n",
       "1757495                                      0.0                          0.0   \n",
       "367943                                       0.0                          0.0   \n",
       "\n",
       "         section_name_Womens Lingerie  \\\n",
       "458271                            0.0   \n",
       "116273                            0.0   \n",
       "1304982                           0.0   \n",
       "1757495                           0.0   \n",
       "367943                            0.0   \n",
       "\n",
       "         section_name_Womens Nightwear, Socks & Tigh  \n",
       "458271                                           1.0  \n",
       "116273                                           0.0  \n",
       "1304982                                          0.0  \n",
       "1757495                                          0.0  \n",
       "367943                                           0.0  \n",
       "\n",
       "[5 rows x 174 columns]"
      ]
     },
     "execution_count": 127,
     "metadata": {},
     "output_type": "execute_result"
    }
   ],
   "source": [
    "Z_test=data_test[a['Specs']]\n",
    "Z_test.head()"
   ]
  },
  {
   "cell_type": "code",
   "execution_count": 128,
   "id": "c5fc80a8",
   "metadata": {
    "hidden": true
   },
   "outputs": [
    {
     "data": {
      "text/plain": [
       "(54247,)"
      ]
     },
     "execution_count": 128,
     "metadata": {},
     "output_type": "execute_result"
    }
   ],
   "source": [
    "target_test.shape"
   ]
  },
  {
   "cell_type": "code",
   "execution_count": 129,
   "id": "fa8d47e7",
   "metadata": {
    "hidden": true
   },
   "outputs": [
    {
     "data": {
      "text/plain": [
       "(54247, 174)"
      ]
     },
     "execution_count": 129,
     "metadata": {},
     "output_type": "execute_result"
    }
   ],
   "source": [
    "Z_test.shape"
   ]
  },
  {
   "cell_type": "code",
   "execution_count": 132,
   "id": "77aa8cca",
   "metadata": {
    "hidden": true
   },
   "outputs": [
    {
     "name": "stdout",
     "output_type": "stream",
     "text": [
      "time taken for gridsearch for knn model in seconds: 0.000102996826171875\n"
     ]
    }
   ],
   "source": [
    "k_range1 = list(range(1, 10))\n",
    "param_grid1 = dict(n_neighbors=k_range1)\n",
    "knn1 = KNeighborsClassifier()\n",
    "\n",
    "start=time.time()\n",
    "grid1 = GridSearchCV(knn1, param_grid1, cv=10, scoring='accuracy')\n",
    "end=time.time()\n",
    "\n",
    "print(\"gridsearch for the knn model in seconds:\",(end-start))"
   ]
  },
  {
   "cell_type": "code",
   "execution_count": 133,
   "id": "a8311652",
   "metadata": {
    "hidden": true
   },
   "outputs": [
    {
     "name": "stdout",
     "output_type": "stream",
     "text": [
      "time taken for fittiing knn model in seconds: 3905.687152147293\n"
     ]
    }
   ],
   "source": [
    "start=time.time()\n",
    "grid1.fit(X_data, target_train)\n",
    "end=time.time()\n",
    "print(\"fittiing the knn model in seconds:\",(end-start))"
   ]
  },
  {
   "cell_type": "code",
   "execution_count": 135,
   "id": "2ee27410",
   "metadata": {
    "hidden": true,
    "scrolled": true
   },
   "outputs": [
    {
     "name": "stdout",
     "output_type": "stream",
     "text": [
      "{'n_neighbors': 9}\n"
     ]
    }
   ],
   "source": [
    "print(grid1.best_params_)"
   ]
  },
  {
   "cell_type": "code",
   "execution_count": 136,
   "id": "ca453d2f",
   "metadata": {
    "hidden": true,
    "scrolled": true
   },
   "outputs": [
    {
     "name": "stdout",
     "output_type": "stream",
     "text": [
      "KNeighborsClassifier(n_neighbors=9)\n"
     ]
    }
   ],
   "source": [
    "print(grid1.best_estimator_)"
   ]
  },
  {
   "cell_type": "code",
   "execution_count": 137,
   "id": "3e734627",
   "metadata": {
    "hidden": true
   },
   "outputs": [
    {
     "name": "stdout",
     "output_type": "stream",
     "text": [
      "0.5932404767958336\n"
     ]
    }
   ],
   "source": [
    "print(grid1.best_score_)"
   ]
  },
  {
   "cell_type": "code",
   "execution_count": 138,
   "id": "eec826f5",
   "metadata": {
    "hidden": true
   },
   "outputs": [],
   "source": [
    "knn_model1 = KNeighborsClassifier(n_neighbors=9)"
   ]
  },
  {
   "cell_type": "code",
   "execution_count": 139,
   "id": "a911f725",
   "metadata": {
    "hidden": true
   },
   "outputs": [
    {
     "name": "stdout",
     "output_type": "stream",
     "text": [
      "time taken for fittiing knn model in seconds: 0.0404047966003418\n"
     ]
    }
   ],
   "source": [
    "start=time.time()\n",
    "knn_model1.fit(X_data, target_train)\n",
    "end=time.time()\n",
    "print(\"ittiing the knn model in seconds:\",(end-start))\n"
   ]
  },
  {
   "cell_type": "code",
   "execution_count": 140,
   "id": "48bc7eaa",
   "metadata": {
    "hidden": true
   },
   "outputs": [
    {
     "name": "stdout",
     "output_type": "stream",
     "text": [
      "[542402001 573085028 720125001 ... 881111008 787946002 470789001]\n"
     ]
    }
   ],
   "source": [
    "# make a prediction on out-of-sample data\n",
    "pred_knn_feature= knn_model1.predict(Z_test)\n",
    "print(pred_knn_feature)"
   ]
  },
  {
   "cell_type": "code",
   "execution_count": 233,
   "id": "cb5daf0a",
   "metadata": {
    "hidden": true
   },
   "outputs": [
    {
     "name": "stdout",
     "output_type": "stream",
     "text": [
      "accuracy_score 58.016111490036316\n",
      "balanced_accuracy_score 0.5707964601769911\n",
      "matthews_corrcoef 0.5805452820977463\n"
     ]
    }
   ],
   "source": [
    "print(\"accuracy_score\",accuracy_score(target_test,pred_knn_feature, normalize=True)*100)\n",
    "print(\"balanced_accuracy_score\",balanced_accuracy_score(target_test,pred_knn_feature))\n",
    "print(\"matthews_corrcoef\",matthews_corrcoef(target_test,pred_knn_feature))"
   ]
  },
  {
   "cell_type": "markdown",
   "id": "54491bed",
   "metadata": {
    "heading_collapsed": true
   },
   "source": [
    "# Predicting all Articles"
   ]
  },
  {
   "cell_type": "markdown",
   "id": "892a0632",
   "metadata": {
    "hidden": true
   },
   "source": [
    "As Blanced score accuracy for knn without feature selection is haghier others.\n",
    "this model would be used for predicting all articles."
   ]
  },
  {
   "cell_type": "code",
   "execution_count": 195,
   "id": "d84e5c45",
   "metadata": {
    "hidden": true
   },
   "outputs": [],
   "source": [
    "final_data = final_data_dummy_scale.copy()"
   ]
  },
  {
   "cell_type": "code",
   "execution_count": 196,
   "id": "32b9158b",
   "metadata": {
    "hidden": true
   },
   "outputs": [],
   "source": [
    "final_model = final_data.loc[:, ~final_data.columns.isin(['t_dat', 'customer_id',\n",
    "                                                                        'article_id','week_since'])]"
   ]
  },
  {
   "cell_type": "code",
   "execution_count": 197,
   "id": "7d5426d1",
   "metadata": {
    "execution": {
     "iopub.execute_input": "2022-03-30T04:58:39.250766Z",
     "iopub.status.busy": "2022-03-30T04:58:39.247741Z",
     "iopub.status.idle": "2022-03-30T05:07:25.841661Z",
     "shell.execute_reply": "2022-03-30T05:07:25.842089Z",
     "shell.execute_reply.started": "2022-03-30T04:08:25.692161Z"
    },
    "hidden": true,
    "papermill": {
     "duration": 526.690665,
     "end_time": "2022-03-30T05:07:25.842228",
     "exception": false,
     "start_time": "2022-03-30T04:58:39.151563",
     "status": "completed"
    },
    "tags": []
   },
   "outputs": [],
   "source": [
    "result_freq = knn_model.predict(final_model)"
   ]
  },
  {
   "cell_type": "code",
   "execution_count": 198,
   "id": "e52d6c8a",
   "metadata": {
    "execution": {
     "iopub.execute_input": "2022-03-30T05:07:25.975815Z",
     "iopub.status.busy": "2022-03-30T05:07:25.975253Z",
     "iopub.status.idle": "2022-03-30T05:07:25.977745Z",
     "shell.execute_reply": "2022-03-30T05:07:25.978121Z",
     "shell.execute_reply.started": "2022-03-30T04:17:11.908455Z"
    },
    "hidden": true,
    "papermill": {
     "duration": 0.070042,
     "end_time": "2022-03-30T05:07:25.978255",
     "exception": false,
     "start_time": "2022-03-30T05:07:25.908213",
     "status": "completed"
    },
    "tags": []
   },
   "outputs": [
    {
     "data": {
      "text/plain": [
       "array([673677002, 673677002, 673677002, ..., 903824003, 903824003,\n",
       "       903824003])"
      ]
     },
     "execution_count": 198,
     "metadata": {},
     "output_type": "execute_result"
    }
   ],
   "source": [
    "result_freq"
   ]
  },
  {
   "cell_type": "code",
   "execution_count": 199,
   "id": "d2698eff",
   "metadata": {
    "execution": {
     "iopub.execute_input": "2022-03-30T05:07:26.106713Z",
     "iopub.status.busy": "2022-03-30T05:07:26.106203Z",
     "iopub.status.idle": "2022-03-30T05:07:26.112088Z",
     "shell.execute_reply": "2022-03-30T05:07:26.112486Z",
     "shell.execute_reply.started": "2022-03-30T04:17:15.032052Z"
    },
    "hidden": true,
    "papermill": {
     "duration": 0.071078,
     "end_time": "2022-03-30T05:07:26.112623",
     "exception": false,
     "start_time": "2022-03-30T05:07:26.041545",
     "status": "completed"
    },
    "tags": []
   },
   "outputs": [
    {
     "data": {
      "text/plain": [
       "1808228"
      ]
     },
     "execution_count": 199,
     "metadata": {},
     "output_type": "execute_result"
    }
   ],
   "source": [
    "len(result_freq)"
   ]
  },
  {
   "cell_type": "code",
   "execution_count": 200,
   "id": "ee811375",
   "metadata": {
    "execution": {
     "iopub.execute_input": "2022-03-30T05:07:26.243239Z",
     "iopub.status.busy": "2022-03-30T05:07:26.242484Z",
     "iopub.status.idle": "2022-03-30T05:07:32.045021Z",
     "shell.execute_reply": "2022-03-30T05:07:32.045446Z",
     "shell.execute_reply.started": "2022-03-30T04:17:18.592243Z"
    },
    "hidden": true,
    "papermill": {
     "duration": 5.869536,
     "end_time": "2022-03-30T05:07:32.045593",
     "exception": false,
     "start_time": "2022-03-30T05:07:26.176057",
     "status": "completed"
    },
    "tags": []
   },
   "outputs": [],
   "source": [
    "final_data['article'] = result_freq.tolist()"
   ]
  },
  {
   "cell_type": "code",
   "execution_count": 201,
   "id": "e3151750",
   "metadata": {
    "execution": {
     "iopub.execute_input": "2022-03-30T05:07:32.875749Z",
     "iopub.status.busy": "2022-03-30T05:07:32.281804Z",
     "iopub.status.idle": "2022-03-30T05:07:38.998185Z",
     "shell.execute_reply": "2022-03-30T05:07:38.998672Z",
     "shell.execute_reply.started": "2022-03-30T04:17:35.848134Z"
    },
    "hidden": true,
    "papermill": {
     "duration": 6.877767,
     "end_time": "2022-03-30T05:07:38.998806",
     "exception": false,
     "start_time": "2022-03-30T05:07:32.121039",
     "status": "completed"
    },
    "scrolled": true,
    "tags": []
   },
   "outputs": [
    {
     "data": {
      "text/html": [
       "<div>\n",
       "<style scoped>\n",
       "    .dataframe tbody tr th:only-of-type {\n",
       "        vertical-align: middle;\n",
       "    }\n",
       "\n",
       "    .dataframe tbody tr th {\n",
       "        vertical-align: top;\n",
       "    }\n",
       "\n",
       "    .dataframe thead th {\n",
       "        text-align: right;\n",
       "    }\n",
       "</style>\n",
       "<table border=\"1\" class=\"dataframe\">\n",
       "  <thead>\n",
       "    <tr style=\"text-align: right;\">\n",
       "      <th></th>\n",
       "      <th>t_dat</th>\n",
       "      <th>customer_id</th>\n",
       "      <th>article_id</th>\n",
       "      <th>week_since</th>\n",
       "      <th>price</th>\n",
       "      <th>sales_channel_id</th>\n",
       "      <th>price_min</th>\n",
       "      <th>price_max</th>\n",
       "      <th>price_mean</th>\n",
       "      <th>price_std</th>\n",
       "      <th>...</th>\n",
       "      <th>garment_group_name_Shorts</th>\n",
       "      <th>garment_group_name_Skirts</th>\n",
       "      <th>garment_group_name_Socks and Tights</th>\n",
       "      <th>garment_group_name_Special Offers</th>\n",
       "      <th>garment_group_name_Swimwear</th>\n",
       "      <th>garment_group_name_Trousers</th>\n",
       "      <th>garment_group_name_Trousers Denim</th>\n",
       "      <th>garment_group_name_Under-, Nightwear</th>\n",
       "      <th>garment_group_name_Unknown</th>\n",
       "      <th>article</th>\n",
       "    </tr>\n",
       "  </thead>\n",
       "  <tbody>\n",
       "    <tr>\n",
       "      <th>0</th>\n",
       "      <td>2018-09-20</td>\n",
       "      <td>00609a1cc562140fa87a6de432bef9c9f0b936b259ad30...</td>\n",
       "      <td>673677002</td>\n",
       "      <td>104</td>\n",
       "      <td>0.054807</td>\n",
       "      <td>1.0</td>\n",
       "      <td>0.021529</td>\n",
       "      <td>0.078647</td>\n",
       "      <td>0.06598</td>\n",
       "      <td>0.175821</td>\n",
       "      <td>...</td>\n",
       "      <td>0.0</td>\n",
       "      <td>0.0</td>\n",
       "      <td>0.0</td>\n",
       "      <td>0.0</td>\n",
       "      <td>0.0</td>\n",
       "      <td>0.0</td>\n",
       "      <td>0.0</td>\n",
       "      <td>0.0</td>\n",
       "      <td>0.0</td>\n",
       "      <td>673677002</td>\n",
       "    </tr>\n",
       "    <tr>\n",
       "      <th>1</th>\n",
       "      <td>2019-09-28</td>\n",
       "      <td>00cf4505ba84c01f03c47829352054483acb59a9492ed0...</td>\n",
       "      <td>673677002</td>\n",
       "      <td>51</td>\n",
       "      <td>0.065992</td>\n",
       "      <td>1.0</td>\n",
       "      <td>0.021529</td>\n",
       "      <td>0.078647</td>\n",
       "      <td>0.06598</td>\n",
       "      <td>0.175821</td>\n",
       "      <td>...</td>\n",
       "      <td>0.0</td>\n",
       "      <td>0.0</td>\n",
       "      <td>0.0</td>\n",
       "      <td>0.0</td>\n",
       "      <td>0.0</td>\n",
       "      <td>0.0</td>\n",
       "      <td>0.0</td>\n",
       "      <td>0.0</td>\n",
       "      <td>0.0</td>\n",
       "      <td>673677002</td>\n",
       "    </tr>\n",
       "    <tr>\n",
       "      <th>2</th>\n",
       "      <td>2018-09-20</td>\n",
       "      <td>01959be607170cc2f092ee8fd13eda251b13cde70ef38d...</td>\n",
       "      <td>673677002</td>\n",
       "      <td>104</td>\n",
       "      <td>0.049214</td>\n",
       "      <td>0.0</td>\n",
       "      <td>0.021529</td>\n",
       "      <td>0.078647</td>\n",
       "      <td>0.06598</td>\n",
       "      <td>0.175821</td>\n",
       "      <td>...</td>\n",
       "      <td>0.0</td>\n",
       "      <td>0.0</td>\n",
       "      <td>0.0</td>\n",
       "      <td>0.0</td>\n",
       "      <td>0.0</td>\n",
       "      <td>0.0</td>\n",
       "      <td>0.0</td>\n",
       "      <td>0.0</td>\n",
       "      <td>0.0</td>\n",
       "      <td>673677002</td>\n",
       "    </tr>\n",
       "    <tr>\n",
       "      <th>3</th>\n",
       "      <td>2020-09-13</td>\n",
       "      <td>05045a3934ec16ae1549c3f2309803963cf649ece8e102...</td>\n",
       "      <td>673677002</td>\n",
       "      <td>1</td>\n",
       "      <td>0.081875</td>\n",
       "      <td>1.0</td>\n",
       "      <td>0.021529</td>\n",
       "      <td>0.078647</td>\n",
       "      <td>0.06598</td>\n",
       "      <td>0.175821</td>\n",
       "      <td>...</td>\n",
       "      <td>0.0</td>\n",
       "      <td>0.0</td>\n",
       "      <td>0.0</td>\n",
       "      <td>0.0</td>\n",
       "      <td>0.0</td>\n",
       "      <td>0.0</td>\n",
       "      <td>0.0</td>\n",
       "      <td>0.0</td>\n",
       "      <td>0.0</td>\n",
       "      <td>673677002</td>\n",
       "    </tr>\n",
       "    <tr>\n",
       "      <th>4</th>\n",
       "      <td>2018-09-20</td>\n",
       "      <td>08519dc5924824ca78ad845bcb7f29b16c280885cb00f2...</td>\n",
       "      <td>673677002</td>\n",
       "      <td>104</td>\n",
       "      <td>0.054807</td>\n",
       "      <td>1.0</td>\n",
       "      <td>0.021529</td>\n",
       "      <td>0.078647</td>\n",
       "      <td>0.06598</td>\n",
       "      <td>0.175821</td>\n",
       "      <td>...</td>\n",
       "      <td>0.0</td>\n",
       "      <td>0.0</td>\n",
       "      <td>0.0</td>\n",
       "      <td>0.0</td>\n",
       "      <td>0.0</td>\n",
       "      <td>0.0</td>\n",
       "      <td>0.0</td>\n",
       "      <td>0.0</td>\n",
       "      <td>0.0</td>\n",
       "      <td>673677002</td>\n",
       "    </tr>\n",
       "  </tbody>\n",
       "</table>\n",
       "<p>5 rows × 223 columns</p>\n",
       "</div>"
      ],
      "text/plain": [
       "       t_dat                                        customer_id  article_id  \\\n",
       "0 2018-09-20  00609a1cc562140fa87a6de432bef9c9f0b936b259ad30...   673677002   \n",
       "1 2019-09-28  00cf4505ba84c01f03c47829352054483acb59a9492ed0...   673677002   \n",
       "2 2018-09-20  01959be607170cc2f092ee8fd13eda251b13cde70ef38d...   673677002   \n",
       "3 2020-09-13  05045a3934ec16ae1549c3f2309803963cf649ece8e102...   673677002   \n",
       "4 2018-09-20  08519dc5924824ca78ad845bcb7f29b16c280885cb00f2...   673677002   \n",
       "\n",
       "   week_since     price  sales_channel_id  price_min  price_max  price_mean  \\\n",
       "0         104  0.054807               1.0   0.021529   0.078647     0.06598   \n",
       "1          51  0.065992               1.0   0.021529   0.078647     0.06598   \n",
       "2         104  0.049214               0.0   0.021529   0.078647     0.06598   \n",
       "3           1  0.081875               1.0   0.021529   0.078647     0.06598   \n",
       "4         104  0.054807               1.0   0.021529   0.078647     0.06598   \n",
       "\n",
       "   price_std  ...  garment_group_name_Shorts  garment_group_name_Skirts  \\\n",
       "0   0.175821  ...                        0.0                        0.0   \n",
       "1   0.175821  ...                        0.0                        0.0   \n",
       "2   0.175821  ...                        0.0                        0.0   \n",
       "3   0.175821  ...                        0.0                        0.0   \n",
       "4   0.175821  ...                        0.0                        0.0   \n",
       "\n",
       "   garment_group_name_Socks and Tights  garment_group_name_Special Offers  \\\n",
       "0                                  0.0                                0.0   \n",
       "1                                  0.0                                0.0   \n",
       "2                                  0.0                                0.0   \n",
       "3                                  0.0                                0.0   \n",
       "4                                  0.0                                0.0   \n",
       "\n",
       "   garment_group_name_Swimwear  garment_group_name_Trousers  \\\n",
       "0                          0.0                          0.0   \n",
       "1                          0.0                          0.0   \n",
       "2                          0.0                          0.0   \n",
       "3                          0.0                          0.0   \n",
       "4                          0.0                          0.0   \n",
       "\n",
       "   garment_group_name_Trousers Denim  garment_group_name_Under-, Nightwear  \\\n",
       "0                                0.0                                   0.0   \n",
       "1                                0.0                                   0.0   \n",
       "2                                0.0                                   0.0   \n",
       "3                                0.0                                   0.0   \n",
       "4                                0.0                                   0.0   \n",
       "\n",
       "   garment_group_name_Unknown    article  \n",
       "0                         0.0  673677002  \n",
       "1                         0.0  673677002  \n",
       "2                         0.0  673677002  \n",
       "3                         0.0  673677002  \n",
       "4                         0.0  673677002  \n",
       "\n",
       "[5 rows x 223 columns]"
      ]
     },
     "execution_count": 201,
     "metadata": {},
     "output_type": "execute_result"
    }
   ],
   "source": [
    "final_data.head()"
   ]
  },
  {
   "cell_type": "code",
   "execution_count": 255,
   "id": "5b338826",
   "metadata": {
    "execution": {
     "iopub.execute_input": "2022-03-30T05:07:42.559912Z",
     "iopub.status.busy": "2022-03-30T05:07:41.352427Z",
     "iopub.status.idle": "2022-03-30T05:07:49.279198Z",
     "shell.execute_reply": "2022-03-30T05:07:49.279734Z",
     "shell.execute_reply.started": "2022-03-30T04:21:48.749703Z"
    },
    "hidden": true,
    "papermill": {
     "duration": 10.208742,
     "end_time": "2022-03-30T05:07:49.279890",
     "exception": false,
     "start_time": "2022-03-30T05:07:39.071148",
     "status": "completed"
    },
    "scrolled": false,
    "tags": []
   },
   "outputs": [],
   "source": [
    "cust_12=final_data.groupby('customer_id').head(12)"
   ]
  },
  {
   "cell_type": "code",
   "execution_count": 258,
   "id": "08e95f59",
   "metadata": {
    "execution": {
     "iopub.execute_input": "2022-03-30T05:07:50.027125Z",
     "iopub.status.busy": "2022-03-30T05:07:50.026280Z",
     "iopub.status.idle": "2022-03-30T05:07:50.071522Z",
     "shell.execute_reply": "2022-03-30T05:07:50.070946Z",
     "shell.execute_reply.started": "2022-03-30T04:23:35.975732Z"
    },
    "hidden": true,
    "papermill": {
     "duration": 0.693659,
     "end_time": "2022-03-30T05:07:50.071651",
     "exception": false,
     "start_time": "2022-03-30T05:07:49.377992",
     "status": "completed"
    },
    "scrolled": true,
    "tags": []
   },
   "outputs": [],
   "source": [
    "# cust_12['customer_id'].value_counts()"
   ]
  },
  {
   "cell_type": "code",
   "execution_count": 256,
   "id": "ea197277",
   "metadata": {
    "execution": {
     "iopub.execute_input": "2022-03-30T05:07:50.372561Z",
     "iopub.status.busy": "2022-03-30T05:07:50.371838Z",
     "iopub.status.idle": "2022-03-30T05:07:51.613820Z",
     "shell.execute_reply": "2022-03-30T05:07:51.613165Z",
     "shell.execute_reply.started": "2022-03-30T04:29:05.788312Z"
    },
    "hidden": true,
    "papermill": {
     "duration": 1.443143,
     "end_time": "2022-03-30T05:07:51.613947",
     "exception": false,
     "start_time": "2022-03-30T05:07:50.170804",
     "status": "completed"
    },
    "scrolled": true,
    "tags": []
   },
   "outputs": [],
   "source": [
    "cust_12_clean=cust_12.drop_duplicates(subset = ['customer_id','article'])"
   ]
  },
  {
   "cell_type": "code",
   "execution_count": 257,
   "id": "c335cb3b",
   "metadata": {
    "execution": {
     "iopub.execute_input": "2022-03-30T05:07:51.820875Z",
     "iopub.status.busy": "2022-03-30T05:07:51.820017Z",
     "iopub.status.idle": "2022-03-30T05:07:51.855282Z",
     "shell.execute_reply": "2022-03-30T05:07:51.854755Z",
     "shell.execute_reply.started": "2022-03-30T04:33:21.569440Z"
    },
    "hidden": true,
    "papermill": {
     "duration": 0.141696,
     "end_time": "2022-03-30T05:07:51.855426",
     "exception": false,
     "start_time": "2022-03-30T05:07:51.713730",
     "status": "completed"
    },
    "scrolled": true,
    "tags": []
   },
   "outputs": [],
   "source": [
    "cust_12_clean_articles=cust_12_clean[['customer_id','article']]"
   ]
  },
  {
   "cell_type": "code",
   "execution_count": 210,
   "id": "ed85993d",
   "metadata": {
    "execution": {
     "iopub.execute_input": "2022-03-30T05:07:53.448531Z",
     "iopub.status.busy": "2022-03-30T05:07:53.354857Z",
     "iopub.status.idle": "2022-03-30T05:07:53.463713Z",
     "shell.execute_reply": "2022-03-30T05:07:53.463009Z",
     "shell.execute_reply.started": "2022-03-30T04:52:30.369001Z"
    },
    "hidden": true,
    "papermill": {
     "duration": 0.707746,
     "end_time": "2022-03-30T05:07:53.463854",
     "exception": false,
     "start_time": "2022-03-30T05:07:52.756108",
     "status": "completed"
    },
    "tags": []
   },
   "outputs": [],
   "source": [
    "cust_12_clean_articles['article'] = ' 0'+cust_12_clean['article'].astype('str') "
   ]
  },
  {
   "cell_type": "code",
   "execution_count": 211,
   "id": "4024ebd4",
   "metadata": {
    "execution": {
     "iopub.execute_input": "2022-03-30T05:07:53.675004Z",
     "iopub.status.busy": "2022-03-30T05:07:53.674496Z",
     "iopub.status.idle": "2022-03-30T05:07:54.989785Z",
     "shell.execute_reply": "2022-03-30T05:07:54.990241Z",
     "shell.execute_reply.started": "2022-03-30T04:52:36.287243Z"
    },
    "hidden": true,
    "papermill": {
     "duration": 1.423948,
     "end_time": "2022-03-30T05:07:54.990401",
     "exception": false,
     "start_time": "2022-03-30T05:07:53.566453",
     "status": "completed"
    },
    "tags": []
   },
   "outputs": [
    {
     "data": {
      "text/html": [
       "<div>\n",
       "<style scoped>\n",
       "    .dataframe tbody tr th:only-of-type {\n",
       "        vertical-align: middle;\n",
       "    }\n",
       "\n",
       "    .dataframe tbody tr th {\n",
       "        vertical-align: top;\n",
       "    }\n",
       "\n",
       "    .dataframe thead th {\n",
       "        text-align: right;\n",
       "    }\n",
       "</style>\n",
       "<table border=\"1\" class=\"dataframe\">\n",
       "  <thead>\n",
       "    <tr style=\"text-align: right;\">\n",
       "      <th></th>\n",
       "      <th>customer_id</th>\n",
       "      <th>article</th>\n",
       "    </tr>\n",
       "  </thead>\n",
       "  <tbody>\n",
       "    <tr>\n",
       "      <th>0</th>\n",
       "      <td>0000423b00ade91418cceaf3b26c6af3dd342b51fd051e...</td>\n",
       "      <td>0673677002</td>\n",
       "    </tr>\n",
       "    <tr>\n",
       "      <th>1</th>\n",
       "      <td>00007d2de826758b65a93dd24ce629ed66842531df6699...</td>\n",
       "      <td>0372860001 0160442007 0160442010 0730683001</td>\n",
       "    </tr>\n",
       "    <tr>\n",
       "      <th>2</th>\n",
       "      <td>00009d946eec3ea54add5ba56d5210ea898def4b46c685...</td>\n",
       "      <td>0706016006 0610776002 0706016001 0554450027 0...</td>\n",
       "    </tr>\n",
       "    <tr>\n",
       "      <th>3</th>\n",
       "      <td>0000b2f1829e23b24feec422ef13df3ccedaedc85368e6...</td>\n",
       "      <td>0706016015 0751471001 0572998001 0917606004</td>\n",
       "    </tr>\n",
       "    <tr>\n",
       "      <th>4</th>\n",
       "      <td>0000f1c71aafe5963c3d195cf273f7bfd50bbf17761c91...</td>\n",
       "      <td>0809238001 0841383002 0749699001 0678942032 0...</td>\n",
       "    </tr>\n",
       "    <tr>\n",
       "      <th>...</th>\n",
       "      <td>...</td>\n",
       "      <td>...</td>\n",
       "    </tr>\n",
       "    <tr>\n",
       "      <th>266387</th>\n",
       "      <td>ffff2f5a160e334d722d2f2c36be9907f6d097a141e49b...</td>\n",
       "      <td>0654590001 0835348001</td>\n",
       "    </tr>\n",
       "    <tr>\n",
       "      <th>266388</th>\n",
       "      <td>ffff61677073258d461e043cc9ed4ed97be5617a920640...</td>\n",
       "      <td>0572797001 0720125041 0464297007 0805000001 0...</td>\n",
       "    </tr>\n",
       "    <tr>\n",
       "      <th>266389</th>\n",
       "      <td>ffffbbf78b6eaac697a8a5dfbfd2bfa8113ee5b403e474...</td>\n",
       "      <td>0557599022 0253448003 0719655001 0822344001 0...</td>\n",
       "    </tr>\n",
       "    <tr>\n",
       "      <th>266390</th>\n",
       "      <td>ffffcd5046a6143d29a04fb8c424ce494a76e5cdf4fab5...</td>\n",
       "      <td>0706016015 0507909001 0762846001 0562245018 0...</td>\n",
       "    </tr>\n",
       "    <tr>\n",
       "      <th>266391</th>\n",
       "      <td>ffffcf35913a0bee60e8741cb2b4e78b8a98ee5ff2e6a1...</td>\n",
       "      <td>0706016002 0762846027 0781613006</td>\n",
       "    </tr>\n",
       "  </tbody>\n",
       "</table>\n",
       "<p>266392 rows × 2 columns</p>\n",
       "</div>"
      ],
      "text/plain": [
       "                                              customer_id  \\\n",
       "0       0000423b00ade91418cceaf3b26c6af3dd342b51fd051e...   \n",
       "1       00007d2de826758b65a93dd24ce629ed66842531df6699...   \n",
       "2       00009d946eec3ea54add5ba56d5210ea898def4b46c685...   \n",
       "3       0000b2f1829e23b24feec422ef13df3ccedaedc85368e6...   \n",
       "4       0000f1c71aafe5963c3d195cf273f7bfd50bbf17761c91...   \n",
       "...                                                   ...   \n",
       "266387  ffff2f5a160e334d722d2f2c36be9907f6d097a141e49b...   \n",
       "266388  ffff61677073258d461e043cc9ed4ed97be5617a920640...   \n",
       "266389  ffffbbf78b6eaac697a8a5dfbfd2bfa8113ee5b403e474...   \n",
       "266390  ffffcd5046a6143d29a04fb8c424ce494a76e5cdf4fab5...   \n",
       "266391  ffffcf35913a0bee60e8741cb2b4e78b8a98ee5ff2e6a1...   \n",
       "\n",
       "                                                  article  \n",
       "0                                              0673677002  \n",
       "1             0372860001 0160442007 0160442010 0730683001  \n",
       "2        0706016006 0610776002 0706016001 0554450027 0...  \n",
       "3             0706016015 0751471001 0572998001 0917606004  \n",
       "4        0809238001 0841383002 0749699001 0678942032 0...  \n",
       "...                                                   ...  \n",
       "266387                              0654590001 0835348001  \n",
       "266388   0572797001 0720125041 0464297007 0805000001 0...  \n",
       "266389   0557599022 0253448003 0719655001 0822344001 0...  \n",
       "266390   0706016015 0507909001 0762846001 0562245018 0...  \n",
       "266391                   0706016002 0762846027 0781613006  \n",
       "\n",
       "[266392 rows x 2 columns]"
      ]
     },
     "execution_count": 211,
     "metadata": {},
     "output_type": "execute_result"
    }
   ],
   "source": [
    "result = cust_12_clean_articles.groupby('customer_id').sum().reset_index()\n",
    "result"
   ]
  },
  {
   "cell_type": "code",
   "execution_count": 212,
   "id": "481c726e",
   "metadata": {
    "execution": {
     "iopub.execute_input": "2022-03-30T05:07:55.165618Z",
     "iopub.status.busy": "2022-03-30T05:07:55.164936Z",
     "iopub.status.idle": "2022-03-30T05:07:55.167161Z",
     "shell.execute_reply": "2022-03-30T05:07:55.166719Z",
     "shell.execute_reply.started": "2022-03-30T04:53:32.605010Z"
    },
    "hidden": true,
    "papermill": {
     "duration": 0.109647,
     "end_time": "2022-03-30T05:07:55.167262",
     "exception": false,
     "start_time": "2022-03-30T05:07:55.057615",
     "status": "completed"
    },
    "tags": []
   },
   "outputs": [],
   "source": [
    "result.columns = ['customer_id','prediction']"
   ]
  },
  {
   "cell_type": "code",
   "execution_count": 214,
   "id": "43bf059a",
   "metadata": {
    "hidden": true
   },
   "outputs": [],
   "source": [
    "submission = pd.read_csv(\"../input/sample_submission.csv\", on_bad_lines='skip')"
   ]
  },
  {
   "cell_type": "code",
   "execution_count": 259,
   "id": "db0484fb",
   "metadata": {
    "hidden": true
   },
   "outputs": [],
   "source": [
    "submission = submission[['customer_id']]"
   ]
  },
  {
   "cell_type": "code",
   "execution_count": 216,
   "id": "28942878",
   "metadata": {
    "hidden": true
   },
   "outputs": [],
   "source": [
    "submission = submission.merge(result, on='customer_id', how='left').fillna('')"
   ]
  },
  {
   "cell_type": "code",
   "execution_count": 217,
   "id": "844a5612",
   "metadata": {
    "hidden": true
   },
   "outputs": [
    {
     "data": {
      "text/html": [
       "<div>\n",
       "<style scoped>\n",
       "    .dataframe tbody tr th:only-of-type {\n",
       "        vertical-align: middle;\n",
       "    }\n",
       "\n",
       "    .dataframe tbody tr th {\n",
       "        vertical-align: top;\n",
       "    }\n",
       "\n",
       "    .dataframe thead th {\n",
       "        text-align: right;\n",
       "    }\n",
       "</style>\n",
       "<table border=\"1\" class=\"dataframe\">\n",
       "  <thead>\n",
       "    <tr style=\"text-align: right;\">\n",
       "      <th></th>\n",
       "      <th>customer_id</th>\n",
       "      <th>prediction</th>\n",
       "    </tr>\n",
       "  </thead>\n",
       "  <tbody>\n",
       "    <tr>\n",
       "      <th>0</th>\n",
       "      <td>00000dbacae5abe5e23885899a1fa44253a17956c6d1c3...</td>\n",
       "      <td></td>\n",
       "    </tr>\n",
       "    <tr>\n",
       "      <th>1</th>\n",
       "      <td>0000423b00ade91418cceaf3b26c6af3dd342b51fd051e...</td>\n",
       "      <td>0673677002</td>\n",
       "    </tr>\n",
       "    <tr>\n",
       "      <th>2</th>\n",
       "      <td>000058a12d5b43e67d225668fa1f8d618c13dc232df0ca...</td>\n",
       "      <td></td>\n",
       "    </tr>\n",
       "    <tr>\n",
       "      <th>3</th>\n",
       "      <td>00005ca1c9ed5f5146b52ac8639a40ca9d57aeff4d1bd2...</td>\n",
       "      <td></td>\n",
       "    </tr>\n",
       "    <tr>\n",
       "      <th>4</th>\n",
       "      <td>00006413d8573cd20ed7128e53b7b13819fe5cfc2d801f...</td>\n",
       "      <td></td>\n",
       "    </tr>\n",
       "  </tbody>\n",
       "</table>\n",
       "</div>"
      ],
      "text/plain": [
       "                                         customer_id   prediction\n",
       "0  00000dbacae5abe5e23885899a1fa44253a17956c6d1c3...             \n",
       "1  0000423b00ade91418cceaf3b26c6af3dd342b51fd051e...   0673677002\n",
       "2  000058a12d5b43e67d225668fa1f8d618c13dc232df0ca...             \n",
       "3  00005ca1c9ed5f5146b52ac8639a40ca9d57aeff4d1bd2...             \n",
       "4  00006413d8573cd20ed7128e53b7b13819fe5cfc2d801f...             "
      ]
     },
     "execution_count": 217,
     "metadata": {},
     "output_type": "execute_result"
    }
   ],
   "source": [
    "submission.head()"
   ]
  },
  {
   "cell_type": "code",
   "execution_count": 218,
   "id": "db4257bf",
   "metadata": {
    "hidden": true
   },
   "outputs": [],
   "source": [
    "submission['prediction'] = submission['prediction'] + top12"
   ]
  },
  {
   "cell_type": "code",
   "execution_count": 219,
   "id": "1a797657",
   "metadata": {
    "hidden": true
   },
   "outputs": [],
   "source": [
    "submission['prediction'] = submission['prediction'].str.strip()"
   ]
  },
  {
   "cell_type": "code",
   "execution_count": 220,
   "id": "890aff25",
   "metadata": {
    "hidden": true
   },
   "outputs": [],
   "source": [
    "submission['prediction'] = submission['prediction'].str[:131] \n",
    "# 10*12 = 120 plus 11 spaces is 131, it was done to keeping 12 predictions for each customer"
   ]
  },
  {
   "cell_type": "code",
   "execution_count": 221,
   "id": "cc54858a",
   "metadata": {
    "hidden": true
   },
   "outputs": [
    {
     "data": {
      "text/html": [
       "<div>\n",
       "<style scoped>\n",
       "    .dataframe tbody tr th:only-of-type {\n",
       "        vertical-align: middle;\n",
       "    }\n",
       "\n",
       "    .dataframe tbody tr th {\n",
       "        vertical-align: top;\n",
       "    }\n",
       "\n",
       "    .dataframe thead th {\n",
       "        text-align: right;\n",
       "    }\n",
       "</style>\n",
       "<table border=\"1\" class=\"dataframe\">\n",
       "  <thead>\n",
       "    <tr style=\"text-align: right;\">\n",
       "      <th></th>\n",
       "      <th>customer_id</th>\n",
       "      <th>prediction</th>\n",
       "    </tr>\n",
       "  </thead>\n",
       "  <tbody>\n",
       "    <tr>\n",
       "      <th>0</th>\n",
       "      <td>00000dbacae5abe5e23885899a1fa44253a17956c6d1c3...</td>\n",
       "      <td>0924243001 0924243002 0918522001 0923758001 08...</td>\n",
       "    </tr>\n",
       "    <tr>\n",
       "      <th>1</th>\n",
       "      <td>0000423b00ade91418cceaf3b26c6af3dd342b51fd051e...</td>\n",
       "      <td>0673677002 0924243001 0924243002 0918522001 09...</td>\n",
       "    </tr>\n",
       "    <tr>\n",
       "      <th>2</th>\n",
       "      <td>000058a12d5b43e67d225668fa1f8d618c13dc232df0ca...</td>\n",
       "      <td>0924243001 0924243002 0918522001 0923758001 08...</td>\n",
       "    </tr>\n",
       "    <tr>\n",
       "      <th>3</th>\n",
       "      <td>00005ca1c9ed5f5146b52ac8639a40ca9d57aeff4d1bd2...</td>\n",
       "      <td>0924243001 0924243002 0918522001 0923758001 08...</td>\n",
       "    </tr>\n",
       "    <tr>\n",
       "      <th>4</th>\n",
       "      <td>00006413d8573cd20ed7128e53b7b13819fe5cfc2d801f...</td>\n",
       "      <td>0924243001 0924243002 0918522001 0923758001 08...</td>\n",
       "    </tr>\n",
       "    <tr>\n",
       "      <th>...</th>\n",
       "      <td>...</td>\n",
       "      <td>...</td>\n",
       "    </tr>\n",
       "    <tr>\n",
       "      <th>1371975</th>\n",
       "      <td>ffffbbf78b6eaac697a8a5dfbfd2bfa8113ee5b403e474...</td>\n",
       "      <td>0557599022 0253448003 0719655001 0822344001 07...</td>\n",
       "    </tr>\n",
       "    <tr>\n",
       "      <th>1371976</th>\n",
       "      <td>ffffcd5046a6143d29a04fb8c424ce494a76e5cdf4fab5...</td>\n",
       "      <td>0706016015 0507909001 0762846001 0562245018 07...</td>\n",
       "    </tr>\n",
       "    <tr>\n",
       "      <th>1371977</th>\n",
       "      <td>ffffcf35913a0bee60e8741cb2b4e78b8a98ee5ff2e6a1...</td>\n",
       "      <td>0706016002 0762846027 0781613006 0924243001 09...</td>\n",
       "    </tr>\n",
       "    <tr>\n",
       "      <th>1371978</th>\n",
       "      <td>ffffd7744cebcf3aca44ae7049d2a94b87074c3d4ffe38...</td>\n",
       "      <td>0924243001 0924243002 0918522001 0923758001 08...</td>\n",
       "    </tr>\n",
       "    <tr>\n",
       "      <th>1371979</th>\n",
       "      <td>ffffd9ac14e89946416d80e791d064701994755c3ab686...</td>\n",
       "      <td>0924243001 0924243002 0918522001 0923758001 08...</td>\n",
       "    </tr>\n",
       "  </tbody>\n",
       "</table>\n",
       "<p>1371980 rows × 2 columns</p>\n",
       "</div>"
      ],
      "text/plain": [
       "                                               customer_id  \\\n",
       "0        00000dbacae5abe5e23885899a1fa44253a17956c6d1c3...   \n",
       "1        0000423b00ade91418cceaf3b26c6af3dd342b51fd051e...   \n",
       "2        000058a12d5b43e67d225668fa1f8d618c13dc232df0ca...   \n",
       "3        00005ca1c9ed5f5146b52ac8639a40ca9d57aeff4d1bd2...   \n",
       "4        00006413d8573cd20ed7128e53b7b13819fe5cfc2d801f...   \n",
       "...                                                    ...   \n",
       "1371975  ffffbbf78b6eaac697a8a5dfbfd2bfa8113ee5b403e474...   \n",
       "1371976  ffffcd5046a6143d29a04fb8c424ce494a76e5cdf4fab5...   \n",
       "1371977  ffffcf35913a0bee60e8741cb2b4e78b8a98ee5ff2e6a1...   \n",
       "1371978  ffffd7744cebcf3aca44ae7049d2a94b87074c3d4ffe38...   \n",
       "1371979  ffffd9ac14e89946416d80e791d064701994755c3ab686...   \n",
       "\n",
       "                                                prediction  \n",
       "0        0924243001 0924243002 0918522001 0923758001 08...  \n",
       "1        0673677002 0924243001 0924243002 0918522001 09...  \n",
       "2        0924243001 0924243002 0918522001 0923758001 08...  \n",
       "3        0924243001 0924243002 0918522001 0923758001 08...  \n",
       "4        0924243001 0924243002 0918522001 0923758001 08...  \n",
       "...                                                    ...  \n",
       "1371975  0557599022 0253448003 0719655001 0822344001 07...  \n",
       "1371976  0706016015 0507909001 0762846001 0562245018 07...  \n",
       "1371977  0706016002 0762846027 0781613006 0924243001 09...  \n",
       "1371978  0924243001 0924243002 0918522001 0923758001 08...  \n",
       "1371979  0924243001 0924243002 0918522001 0923758001 08...  \n",
       "\n",
       "[1371980 rows x 2 columns]"
      ]
     },
     "execution_count": 221,
     "metadata": {},
     "output_type": "execute_result"
    }
   ],
   "source": [
    "submission"
   ]
  },
  {
   "cell_type": "markdown",
   "id": "75332002",
   "metadata": {
    "heading_collapsed": true,
    "hidden": true
   },
   "source": [
    "## Calculating MAP@12"
   ]
  },
  {
   "cell_type": "markdown",
   "id": "3d103d50",
   "metadata": {
    "hidden": true
   },
   "source": [
    " val_start_date = '2020-09-16'\n",
    "https://www.kaggle.com/code/hervind/h-m-calculate-map-12-from-public-notebooks"
   ]
  },
  {
   "cell_type": "code",
   "execution_count": 239,
   "id": "d06be541",
   "metadata": {
    "hidden": true
   },
   "outputs": [],
   "source": [
    "valid_transaction = transactions[(transactions.week_since==0)]"
   ]
  },
  {
   "cell_type": "code",
   "execution_count": 240,
   "id": "b10e9e7c",
   "metadata": {
    "hidden": true
   },
   "outputs": [],
   "source": [
    "valid_transaction = valid_transaction.filter(['t_dat', 'customer_id','article_id'])"
   ]
  },
  {
   "cell_type": "code",
   "execution_count": 242,
   "id": "27f55e8c",
   "metadata": {
    "hidden": true
   },
   "outputs": [],
   "source": [
    "valid_df = valid_transaction.copy()"
   ]
  },
  {
   "cell_type": "code",
   "execution_count": 243,
   "id": "6e763462",
   "metadata": {
    "hidden": true
   },
   "outputs": [],
   "source": [
    "valid_df = valid_df.sort_values([\"customer_id\", \"t_dat\"], ascending=False)"
   ]
  },
  {
   "cell_type": "code",
   "execution_count": 244,
   "id": "9b051bc1",
   "metadata": {
    "hidden": true
   },
   "outputs": [],
   "source": [
    "valid_df = valid_df.sort_values(['customer_id', 't_dat'], ascending = [True, True]) \n",
    "valid_cust = valid_df.groupby('customer_id')['article_id'].apply(list).reset_index()\n",
    "valid_cust['valid_true'] = valid_cust['article_id'].map(lambda x: '0'+' 0'.join(str(x)[1:-1].split(', ')))\n",
    "del valid_df, valid_cust['article_id']\n",
    "_ = gc.collect()"
   ]
  },
  {
   "cell_type": "code",
   "execution_count": 251,
   "id": "737bdf94",
   "metadata": {
    "hidden": true
   },
   "outputs": [],
   "source": [
    "sub = submission.merge(valid_cust, on='customer_id', how='left').fillna('')"
   ]
  },
  {
   "cell_type": "code",
   "execution_count": 248,
   "id": "89d085ea",
   "metadata": {
    "hidden": true
   },
   "outputs": [],
   "source": [
    "def apk(actual, predicted, k=10):\n",
    "    \"\"\"\n",
    "    Computes the average precision at k.\n",
    "    This function computes the average prescision at k between two lists of\n",
    "    items.\n",
    "    Parameters\n",
    "    ----------\n",
    "    actual : list\n",
    "             A list of elements that are to be predicted (order doesn't matter)\n",
    "    predicted : list\n",
    "                A list of predicted elements (order does matter)\n",
    "    k : int, optional\n",
    "        The maximum number of predicted elements\n",
    "    Returns\n",
    "    -------\n",
    "    score : double\n",
    "            The average precision at k over the input lists\n",
    "    \"\"\"\n",
    "    if len(predicted)>k:\n",
    "        predicted = predicted[:k]\n",
    "    score = 0.0\n",
    "    num_hits = 0.0\n",
    "\n",
    "    for i,p in enumerate(predicted):\n",
    "        if p in actual and p not in predicted[:i]:\n",
    "            num_hits += 1.0\n",
    "            score += num_hits / (i+1.0)\n",
    "\n",
    "    if not actual:\n",
    "        return 0.0\n",
    "\n",
    "    return score / min(len(actual), k)    \n",
    "def mapk(actual, predicted, k=12):\n",
    "    \"\"\"\n",
    "    Computes the mean average precision at k.\n",
    "    This function computes the mean average prescision at k between two lists\n",
    "    of lists of items.\n",
    "    Parameters\n",
    "    ----------\n",
    "    actual : list\n",
    "             A list of lists of elements that are to be predicted \n",
    "             (order doesn't matter in the lists)\n",
    "    predicted : list\n",
    "                A list of lists of predicted elements\n",
    "                (order matters in the lists)\n",
    "    k : int, optional\n",
    "        The maximum number of predicted elements\n",
    "    Returns\n",
    "    -------\n",
    "    score : double\n",
    "            The mean average precision at k over the input lists\n",
    "    \"\"\"\n",
    "    return np.mean([apk(a,p,k) for a,p in zip(actual, predicted) if a]) # CHANGES: ignore null actual (variable=a)"
   ]
  },
  {
   "cell_type": "code",
   "execution_count": 254,
   "id": "aa3c555b",
   "metadata": {
    "hidden": true
   },
   "outputs": [
    {
     "data": {
      "text/plain": [
       "0.10074669646376394"
      ]
     },
     "execution_count": 254,
     "metadata": {},
     "output_type": "execute_result"
    }
   ],
   "source": [
    "mapk(\n",
    "    sub['valid_true'].map(lambda x: x.split()), \n",
    "    sub['prediction'].map(lambda x: x.split()), \n",
    "    k=12\n",
    ")"
   ]
  },
  {
   "cell_type": "code",
   "execution_count": 222,
   "id": "c022fdc6",
   "metadata": {
    "hidden": true
   },
   "outputs": [
    {
     "data": {
      "text/html": [
       "<div>\n",
       "<style scoped>\n",
       "    .dataframe tbody tr th:only-of-type {\n",
       "        vertical-align: middle;\n",
       "    }\n",
       "\n",
       "    .dataframe tbody tr th {\n",
       "        vertical-align: top;\n",
       "    }\n",
       "\n",
       "    .dataframe thead th {\n",
       "        text-align: right;\n",
       "    }\n",
       "</style>\n",
       "<table border=\"1\" class=\"dataframe\">\n",
       "  <thead>\n",
       "    <tr style=\"text-align: right;\">\n",
       "      <th></th>\n",
       "      <th>customer_id</th>\n",
       "      <th>prediction</th>\n",
       "    </tr>\n",
       "  </thead>\n",
       "  <tbody>\n",
       "    <tr>\n",
       "      <th>0</th>\n",
       "      <td>00000dbacae5abe5e23885899a1fa44253a17956c6d1c3...</td>\n",
       "      <td>0924243001 0924243002 0918522001 0923758001 08...</td>\n",
       "    </tr>\n",
       "    <tr>\n",
       "      <th>1</th>\n",
       "      <td>0000423b00ade91418cceaf3b26c6af3dd342b51fd051e...</td>\n",
       "      <td>0673677002 0924243001 0924243002 0918522001 09...</td>\n",
       "    </tr>\n",
       "    <tr>\n",
       "      <th>2</th>\n",
       "      <td>000058a12d5b43e67d225668fa1f8d618c13dc232df0ca...</td>\n",
       "      <td>0924243001 0924243002 0918522001 0923758001 08...</td>\n",
       "    </tr>\n",
       "    <tr>\n",
       "      <th>3</th>\n",
       "      <td>00005ca1c9ed5f5146b52ac8639a40ca9d57aeff4d1bd2...</td>\n",
       "      <td>0924243001 0924243002 0918522001 0923758001 08...</td>\n",
       "    </tr>\n",
       "    <tr>\n",
       "      <th>4</th>\n",
       "      <td>00006413d8573cd20ed7128e53b7b13819fe5cfc2d801f...</td>\n",
       "      <td>0924243001 0924243002 0918522001 0923758001 08...</td>\n",
       "    </tr>\n",
       "  </tbody>\n",
       "</table>\n",
       "</div>"
      ],
      "text/plain": [
       "                                         customer_id  \\\n",
       "0  00000dbacae5abe5e23885899a1fa44253a17956c6d1c3...   \n",
       "1  0000423b00ade91418cceaf3b26c6af3dd342b51fd051e...   \n",
       "2  000058a12d5b43e67d225668fa1f8d618c13dc232df0ca...   \n",
       "3  00005ca1c9ed5f5146b52ac8639a40ca9d57aeff4d1bd2...   \n",
       "4  00006413d8573cd20ed7128e53b7b13819fe5cfc2d801f...   \n",
       "\n",
       "                                          prediction  \n",
       "0  0924243001 0924243002 0918522001 0923758001 08...  \n",
       "1  0673677002 0924243001 0924243002 0918522001 09...  \n",
       "2  0924243001 0924243002 0918522001 0923758001 08...  \n",
       "3  0924243001 0924243002 0918522001 0923758001 08...  \n",
       "4  0924243001 0924243002 0918522001 0923758001 08...  "
      ]
     },
     "execution_count": 222,
     "metadata": {},
     "output_type": "execute_result"
    }
   ],
   "source": [
    "submission.to_csv('submission.csv',index=False)\n",
    "submission.head()"
   ]
  },
  {
   "cell_type": "code",
   "execution_count": 223,
   "id": "5c2f94cc",
   "metadata": {
    "hidden": true
   },
   "outputs": [
    {
     "data": {
      "text/plain": [
       "customer_id    1371980\n",
       "prediction      227829\n",
       "dtype: int64"
      ]
     },
     "execution_count": 223,
     "metadata": {},
     "output_type": "execute_result"
    }
   ],
   "source": [
    "submission.nunique()"
   ]
  }
 ],
 "metadata": {
  "kernelspec": {
   "display_name": "Python 3 (ipykernel)",
   "language": "python",
   "name": "python3"
  },
  "language_info": {
   "codemirror_mode": {
    "name": "ipython",
    "version": 3
   },
   "file_extension": ".py",
   "mimetype": "text/x-python",
   "name": "python",
   "nbconvert_exporter": "python",
   "pygments_lexer": "ipython3",
   "version": "3.9.7"
  },
  "latex_envs": {
   "LaTeX_envs_menu_present": true,
   "autoclose": false,
   "autocomplete": true,
   "bibliofile": "biblio.bib",
   "cite_by": "apalike",
   "current_citInitial": 1,
   "eqLabelWithNumbers": true,
   "eqNumInitial": 1,
   "hotkeys": {
    "equation": "Ctrl-E",
    "itemize": "Ctrl-I"
   },
   "labels_anchors": false,
   "latex_user_defs": false,
   "report_style_numbering": false,
   "user_envs_cfg": false
  },
  "toc": {
   "base_numbering": 1,
   "nav_menu": {},
   "number_sections": true,
   "sideBar": true,
   "skip_h1_title": false,
   "title_cell": "Table of Contents",
   "title_sidebar": "Contents",
   "toc_cell": false,
   "toc_position": {},
   "toc_section_display": true,
   "toc_window_display": false
  }
 },
 "nbformat": 4,
 "nbformat_minor": 5
}
